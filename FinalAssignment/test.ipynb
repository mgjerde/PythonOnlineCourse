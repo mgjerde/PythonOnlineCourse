{
 "cells": [
  {
   "cell_type": "markdown",
   "id": "8a72f6ed-bec5-4a54-9aef-30d3f00421a4",
   "metadata": {},
   "source": [
    "# bla bla bla tekst"
   ]
  },
  {
   "cell_type": "code",
   "execution_count": 1,
   "id": "869704da-6536-4683-81a3-20a6f098e684",
   "metadata": {},
   "outputs": [
    {
     "name": "stdout",
     "output_type": "stream",
     "text": [
      "NAME\n"
     ]
    }
   ],
   "source": [
    "name = \"NAME\"\n",
    "name.lower\n",
    "print(name)"
   ]
  },
  {
   "cell_type": "code",
   "execution_count": 2,
   "id": "d04a5f6a-445b-4ddb-af27-b33f0e206705",
   "metadata": {},
   "outputs": [
    {
     "name": "stdout",
     "output_type": "stream",
     "text": [
      "hello world!\n"
     ]
    }
   ],
   "source": [
    "print(\"hello world!\")"
   ]
  },
  {
   "cell_type": "code",
   "execution_count": 21,
   "id": "da11b77e-4b8e-4b8a-8ec7-aadf6e292b6f",
   "metadata": {},
   "outputs": [
    {
     "name": "stdout",
     "output_type": "stream",
     "text": [
      "6047.0\n"
     ]
    }
   ],
   "source": [
    "print(6047000e-3)\n"
   ]
  },
  {
   "cell_type": "code",
   "execution_count": 22,
   "id": "22db3b42",
   "metadata": {},
   "outputs": [
    {
     "name": "stdout",
     "output_type": "stream",
     "text": [
      "6047 6047 6047 6047 6047.0 6047.0\n"
     ]
    }
   ],
   "source": [
    "a = 6047\n",
    "b = 0b1011110011111\n",
    "c = 0o13637\n",
    "d = 0x179f\n",
    "e = 6047.0\n",
    "f = 6047000e-3\n",
    "print(a,b,c,d,e,f)"
   ]
  },
  {
   "cell_type": "code",
   "execution_count": 2,
   "id": "29b6fc50",
   "metadata": {},
   "outputs": [
    {
     "name": "stdout",
     "output_type": "stream",
     "text": [
      "derp\n"
     ]
    }
   ],
   "source": [
    "a = \"derp\"\n",
    "b = a\n",
    "print(b)"
   ]
  },
  {
   "cell_type": "code",
   "execution_count": 4,
   "id": "b1f31104",
   "metadata": {},
   "outputs": [
    {
     "name": "stdout",
     "output_type": "stream",
     "text": [
      "derp\n"
     ]
    }
   ],
   "source": [
    "a = \"derp2\"\n",
    "print(b)"
   ]
  },
  {
   "cell_type": "code",
   "execution_count": 1,
   "id": "92fe23ec",
   "metadata": {},
   "outputs": [
    {
     "ename": "TypeError",
     "evalue": "'int' object is not iterable",
     "output_type": "error",
     "traceback": [
      "\u001b[1;31m---------------------------------------------------------------------------\u001b[0m",
      "\u001b[1;31mTypeError\u001b[0m                                 Traceback (most recent call last)",
      "\u001b[1;32m~\\AppData\\Local\\Temp/ipykernel_29644/4205056344.py\u001b[0m in \u001b[0;36m<module>\u001b[1;34m\u001b[0m\n\u001b[1;32m----> 1\u001b[1;33m \u001b[0mzip\u001b[0m\u001b[1;33m(\u001b[0m\u001b[1;33m[\u001b[0m\u001b[1;34m\"test\"\u001b[0m\u001b[1;33m,\u001b[0m\u001b[1;34m\"test2\"\u001b[0m\u001b[1;33m]\u001b[0m\u001b[1;33m,\u001b[0m\u001b[1;36m0\u001b[0m\u001b[1;33m)\u001b[0m\u001b[1;33m\u001b[0m\u001b[1;33m\u001b[0m\u001b[0m\n\u001b[0m",
      "\u001b[1;31mTypeError\u001b[0m: 'int' object is not iterable"
     ]
    }
   ],
   "source": [
    "\n",
    "zip([\"test\",\"test2\"],0)"
   ]
  },
  {
   "cell_type": "code",
   "execution_count": 1,
   "id": "b4621159",
   "metadata": {},
   "outputs": [
    {
     "name": "stdout",
     "output_type": "stream",
     "text": [
      "hepp\n"
     ]
    },
    {
     "data": {
      "text/plain": [
       "['__add__',\n",
       " '__class__',\n",
       " '__class_getitem__',\n",
       " '__contains__',\n",
       " '__delattr__',\n",
       " '__delitem__',\n",
       " '__dir__',\n",
       " '__doc__',\n",
       " '__eq__',\n",
       " '__format__',\n",
       " '__ge__',\n",
       " '__getattribute__',\n",
       " '__getitem__',\n",
       " '__gt__',\n",
       " '__hash__',\n",
       " '__iadd__',\n",
       " '__imul__',\n",
       " '__init__',\n",
       " '__init_subclass__',\n",
       " '__iter__',\n",
       " '__le__',\n",
       " '__len__',\n",
       " '__lt__',\n",
       " '__mul__',\n",
       " '__ne__',\n",
       " '__new__',\n",
       " '__reduce__',\n",
       " '__reduce_ex__',\n",
       " '__repr__',\n",
       " '__reversed__',\n",
       " '__rmul__',\n",
       " '__setattr__',\n",
       " '__setitem__',\n",
       " '__sizeof__',\n",
       " '__str__',\n",
       " '__subclasshook__',\n",
       " 'append',\n",
       " 'clear',\n",
       " 'copy',\n",
       " 'count',\n",
       " 'extend',\n",
       " 'index',\n",
       " 'insert',\n",
       " 'pop',\n",
       " 'remove',\n",
       " 'reverse',\n",
       " 'sort']"
      ]
     },
     "execution_count": 1,
     "metadata": {},
     "output_type": "execute_result"
    }
   ],
   "source": [
    "a = [\"circle\",\"square\",\"triangle\"]\n",
    "b = \"circle\"\n",
    "if b in a:\n",
    "    print(\"hepp\")\n",
    "\n",
    "dir(a)"
   ]
  },
  {
   "cell_type": "code",
   "execution_count": 9,
   "id": "d84d3749",
   "metadata": {},
   "outputs": [
    {
     "name": "stdout",
     "output_type": "stream",
     "text": [
      "__dir__\n"
     ]
    }
   ],
   "source": [
    "print(a.__dir__.__name__)"
   ]
  },
  {
   "cell_type": "code",
   "execution_count": 3,
   "id": "d0dcbda2",
   "metadata": {},
   "outputs": [
    {
     "name": "stdout",
     "output_type": "stream",
     "text": [
      "^C\n"
     ]
    }
   ],
   "source": [
    "! cmd"
   ]
  },
  {
   "cell_type": "code",
   "execution_count": 12,
   "id": "5b4cdaa8",
   "metadata": {},
   "outputs": [
    {
     "name": "stdout",
     "output_type": "stream",
     "text": [
      "895.0\n"
     ]
    }
   ],
   "source": [
    "a = 1000\n",
    "b = -10.5\n",
    "c = a + a * b / 100\n",
    "print(c)"
   ]
  },
  {
   "cell_type": "code",
   "execution_count": 14,
   "id": "8a6a7deb",
   "metadata": {},
   "outputs": [
    {
     "name": "stdout",
     "output_type": "stream",
     "text": [
      "                                                Name  Price at Kiwi  \\\n",
      "0                          Geitmelk, langtidsholdbar         103.96   \n",
      "1                    Helmelk, 3,5 % fett, laktosefri          36.39   \n",
      "2                          Helmelk, 3,5 % fett, Tine          36.53   \n",
      "3                   Helmelk, 3,9 % fett, Q-meieriene          62.79   \n",
      "4        Lettmelk, 0,5 % fett, vitamin D, laktosefri          43.68   \n",
      "...                                              ...            ...   \n",
      "1902            Sinlac spesialgrÃ¸t, pulver, NestlÃ©          43.48   \n",
      "1903         Sinlac spesialgrÃ¸t, spiseklar, NestlÃ©          45.08   \n",
      "1904        Tilskuddsblanding, fra 6 mnd, drikkeklar          35.61   \n",
      "1905  Tilskuddsblanding, fra 6 mnd, ferdig utblandet          79.11   \n",
      "1906            Tilskuddsblanding, fra 6 mnd, pulver          74.66   \n",
      "\n",
      "      Price at Rema  Price at Prix  Price at Bunnpris  \n",
      "0             99.95         101.37             105.86  \n",
      "1             38.97          38.46              39.82  \n",
      "2             37.95          39.19              40.84  \n",
      "3             65.76          65.50              63.68  \n",
      "4             41.25          40.91              40.60  \n",
      "...             ...            ...                ...  \n",
      "1902          47.76          46.23              48.11  \n",
      "1903          38.98          43.20              43.35  \n",
      "1904          31.90          33.89              34.80  \n",
      "1905          77.73          70.25              78.49  \n",
      "1906          66.53          75.64              73.03  \n",
      "\n",
      "[1907 rows x 5 columns]\n"
     ]
    }
   ],
   "source": [
    "import random as rand\n",
    "import pandas as pd\n",
    "\n",
    "\n",
    "\n",
    "def pricewithfluctuation(price,fluctfrom,fluctto):\n",
    "    return round(( price + (price*rand.uniform(fluctfrom,fluctto)/100)),2)\n",
    "\n",
    "\n",
    "\n",
    "f = pd.DataFrame(columns= [\"Name\",\"Price at Kiwi\",\"Price at Rema\",\"Price at Prix\",\"Price at Bunnpris\"])\n",
    "with open(\"fooditems.txt\", \"r\") as file_in:\n",
    "    for item in file_in:\n",
    "        name = item.removesuffix(\"\\n\")\n",
    "        price = rand.randint(25,100) \n",
    "        kiwiprice = pricewithfluctuation(price,-5,10)\n",
    "        remaprice = pricewithfluctuation(price,-5,10)\n",
    "        prixprice = pricewithfluctuation(price,-5,10)\n",
    "        bunnprisprice = pricewithfluctuation(price, 0,10)\n",
    "        f = f.append({\"Name\": name,\"Price at Kiwi\":kiwiprice,\"Price at Rema\":remaprice,\"Price at Prix\":prixprice,\"Price at Bunnpris\":bunnprisprice}, ignore_index=True)\n",
    "\n",
    "print(f)"
   ]
  },
  {
   "cell_type": "code",
   "execution_count": null,
   "id": "49751c17",
   "metadata": {},
   "outputs": [],
   "source": []
  }
 ],
 "metadata": {
  "interpreter": {
   "hash": "ad2bdc8ecc057115af97d19610ffacc2b4e99fae6737bb82f5d7fb13d2f2c186"
  },
  "kernelspec": {
   "display_name": "Python 3.9.7 ('base')",
   "language": "python",
   "name": "python3"
  },
  "language_info": {
   "codemirror_mode": {
    "name": "ipython",
    "version": 3
   },
   "file_extension": ".py",
   "mimetype": "text/x-python",
   "name": "python",
   "nbconvert_exporter": "python",
   "pygments_lexer": "ipython3",
   "version": "3.9.7"
  }
 },
 "nbformat": 4,
 "nbformat_minor": 5
}
