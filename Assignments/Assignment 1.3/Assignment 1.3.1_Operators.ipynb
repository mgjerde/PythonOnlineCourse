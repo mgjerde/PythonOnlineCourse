{
 "cells": [
  {
   "cell_type": "markdown",
   "metadata": {},
   "source": [
    "# Operators\n",
    "## `+, -, *, /, =, >, <` and all that\n",
    "In this lesson we will learning how to use operators."
   ]
  },
  {
   "cell_type": "markdown",
   "metadata": {},
   "source": [
    "### Objective 1: Mathemagical\n",
    "Using arithmatic operators, complete the code below by replacing the `?` so that each expression return True."
   ]
  },
  {
   "cell_type": "code",
   "execution_count": 1,
   "metadata": {},
   "outputs": [
    {
     "data": {
      "text/plain": [
       "True"
      ]
     },
     "execution_count": 1,
     "metadata": {},
     "output_type": "execute_result"
    }
   ],
   "source": [
    "10 // 3 == 3 \n",
    "10 / 3 == 3.3333333333333335\n",
    "10 * 3 == 30 \n",
    "10 + 3 == 13 \n",
    "10 ** 3 == 1000 \n",
    "10 - 3 == 7 \n",
    "10 % 3 == 1 \n",
    "\n",
    "(10 // 3) + 10 == 13 "
   ]
  },
  {
   "cell_type": "markdown",
   "metadata": {},
   "source": [
    "### Objective 2: Non-numeric arithmetic\n",
    "Arithmatic operators can be used with certain data types like Strings and Lists. Use the `+` and `*` operators to create a  string or list from existing strings or lists."
   ]
  },
  {
   "cell_type": "code",
   "execution_count": 7,
   "metadata": {},
   "outputs": [],
   "source": [
    "str1 = \"hello\"\n",
    "str2 = \"world\"\n",
    "str1 + str2 == \"helloworld\" \n",
    "str * 3 == \"hellohellohello\" \n",
    "str1 + str2 * 2 == \"helloworldworld\" "
   ]
  },
  {
   "cell_type": "code",
   "execution_count": null,
   "metadata": {},
   "outputs": [],
   "source": [
    "lst1 = [1,2,3]\n",
    "lst2 = [None]\n",
    "lst1 + lst2 == [1,2,3,None] \n",
    "lst1 * 2  == [1,2,3,1,2,3] \n",
    "lst2 * 5 == [None,None,None,None,None] "
   ]
  },
  {
   "cell_type": "markdown",
   "metadata": {},
   "source": [
    "### Objective 3: Comparisons\n",
    "Using comparison operators, complete the code below by replacing the `?` so that each expression return True."
   ]
  },
  {
   "cell_type": "code",
   "execution_count": null,
   "metadata": {},
   "outputs": [],
   "source": [
    "12 > 5\n",
    "77.7 == 77.7\n",
    "-55 < 99\n",
    "40 < 41 < 42"
   ]
  },
  {
   "cell_type": "markdown",
   "metadata": {},
   "source": [
    "### Objective 4: Assignment\n",
    "Using assignment operators, complete the code below by replacing the `?` so the final statement return True."
   ]
  },
  {
   "cell_type": "code",
   "execution_count": 3,
   "metadata": {},
   "outputs": [
    {
     "name": "stdout",
     "output_type": "stream",
     "text": [
      "True\n"
     ]
    }
   ],
   "source": [
    "x1 = 55\n",
    "x1 /= 5 # 11\n",
    "x1 %= 10 # 1\n",
    "x1 += 21 # 22\n",
    "x1 **= 2 # 484\n",
    "x1 *= 0.5 # 242\n",
    "\n",
    "print (x1 == 242)"
   ]
  },
  {
   "cell_type": "markdown",
   "metadata": {},
   "source": [
    "### Objective 4: Identity.\n",
    "Explain what the `is` and `is not` operators do? \\\n",
    "Give an example of both, and give an example of how the type() may be used with an identity operator."
   ]
  },
  {
   "cell_type": "markdown",
   "metadata": {},
   "source": [
    "`is` and `is not` checks if two variables is or is not using the same memory space, respectively."
   ]
  },
  {
   "cell_type": "code",
   "execution_count": 7,
   "metadata": {},
   "outputs": [
    {
     "name": "stdout",
     "output_type": "stream",
     "text": [
      "True\n",
      "True\n",
      "True\n",
      "True\n"
     ]
    }
   ],
   "source": [
    "x = 10\n",
    "x2 = 10\n",
    "y = 20\n",
    "z = \"string\"\n",
    "print(x is x2)\n",
    "print(x is not y)\n",
    "print(type(z) is str)\n",
    "print(type(x) is not str)"
   ]
  },
  {
   "cell_type": "markdown",
   "metadata": {},
   "source": [
    "### Objective 5: Membership\n",
    "Use membership operator `in` to determine if every letter from A to Z is present in your full name."
   ]
  },
  {
   "cell_type": "code",
   "execution_count": 14,
   "metadata": {},
   "outputs": [
    {
     "name": "stdout",
     "output_type": "stream",
     "text": [
      "a is in marius toftelund gjerde\n",
      "b is not in marius toftelund gjerde\n",
      "c is not in marius toftelund gjerde\n",
      "d is in marius toftelund gjerde\n",
      "e is in marius toftelund gjerde\n",
      "f is in marius toftelund gjerde\n",
      "g is in marius toftelund gjerde\n",
      "h is not in marius toftelund gjerde\n",
      "i is in marius toftelund gjerde\n",
      "j is in marius toftelund gjerde\n",
      "k is not in marius toftelund gjerde\n",
      "l is in marius toftelund gjerde\n",
      "m is in marius toftelund gjerde\n",
      "n is in marius toftelund gjerde\n",
      "o is in marius toftelund gjerde\n",
      "p is not in marius toftelund gjerde\n",
      "q is not in marius toftelund gjerde\n",
      "r is in marius toftelund gjerde\n",
      "s is in marius toftelund gjerde\n",
      "t is in marius toftelund gjerde\n",
      "u is in marius toftelund gjerde\n",
      "v is not in marius toftelund gjerde\n",
      "w is not in marius toftelund gjerde\n",
      "x is not in marius toftelund gjerde\n",
      "y is not in marius toftelund gjerde\n",
      "z is not in marius toftelund gjerde\n"
     ]
    }
   ],
   "source": [
    "alphabet2 = \"abcdefghijklmnopqrstuvwxyz\"\n",
    "name = \"marius toftelund gjerde\"\n",
    "x = \"zyxwvutsrqponmlkjihgfedcba\"\n",
    "for letter in alphabet2:\n",
    "    print(f\"{letter} is in {name}\") if letter in name else print(f\"{letter} is not in {name}\")\n",
    "\n",
    "# I might not really have understood the goal of this exercise but i couldnt figure out a way to check every single letter in a single in statement so just did this :S\n"
   ]
  },
  {
   "cell_type": "markdown",
   "metadata": {},
   "source": [
    "### Objective 6: Cross operator compatibility\n",
    "The memebership operator `in` can be used in strings. For example `'e' in 'hello'` is a valid operation and will return True. How is this possible? \\\n",
    "Experiment with operators that typically work on one type of data with others and report anything useful you find. You may use an internet search engine to aid your investigation. "
   ]
  },
  {
   "cell_type": "markdown",
   "metadata": {},
   "source": [
    "this is possible because python stores strings as sequences and can thus be worked on as a list.\n"
   ]
  }
 ],
 "metadata": {
  "kernelspec": {
   "display_name": "Python 3 (ipykernel)",
   "language": "python",
   "name": "python3"
  },
  "language_info": {
   "codemirror_mode": {
    "name": "ipython",
    "version": 3
   },
   "file_extension": ".py",
   "mimetype": "text/x-python",
   "name": "python",
   "nbconvert_exporter": "python",
   "pygments_lexer": "ipython3",
   "version": "3.9.7"
  }
 },
 "nbformat": 4,
 "nbformat_minor": 4
}
