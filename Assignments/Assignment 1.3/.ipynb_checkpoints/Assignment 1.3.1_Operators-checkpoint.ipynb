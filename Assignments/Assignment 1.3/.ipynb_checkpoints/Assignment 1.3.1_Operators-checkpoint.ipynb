{
 "cells": [
  {
   "cell_type": "markdown",
   "metadata": {},
   "source": [
    "# Week 03, Assignment 02: Operators\n",
    "## `+, -, *, /, =, >, <` and all that\n",
    "In this lesson we will learning how to use operators."
   ]
  },
  {
   "cell_type": "markdown",
   "metadata": {},
   "source": [
    "### Objective 1: Mathemagical\n",
    "Using arithmatic operators, complete the code below by replacing the `?` so that each expression return True."
   ]
  },
  {
   "cell_type": "code",
   "execution_count": 6,
   "metadata": {},
   "outputs": [
    {
     "name": "stdout",
     "output_type": "stream",
     "text": [
      "True\n"
     ]
    }
   ],
   "source": [
    "10 ? 3 == 3 \n",
    "10 ? 3 == 3.3333333333333335\n",
    "10 ? 3 == 30 \n",
    "10 ? 3 == 13 \n",
    "10 ? 3 == 1000 \n",
    "10 ? 3 == 7 \n",
    "10 ? 3 == 1 \n",
    "\n",
    "(10 ? 3) ? 10 == 13 "
   ]
  },
  {
   "cell_type": "markdown",
   "metadata": {},
   "source": [
    "### Objective 2: Non-numeric arithmetic\n",
    "Arithmatic operators can be used with certain data types like Strings and Lists. Use the `+` and `*` operators to create a  string or list from existing strings or lists."
   ]
  },
  {
   "cell_type": "code",
   "execution_count": 7,
   "metadata": {},
   "outputs": [],
   "source": [
    "str1 = \"hello\"\n",
    "str2 = \"world\"\n",
    "str1 ? str2 == \"helloworld\" \n",
    "? ? ? == \"hellohellohello\" \n",
    "? ? ? ? == \"helloworldworld\" "
   ]
  },
  {
   "cell_type": "code",
   "execution_count": null,
   "metadata": {},
   "outputs": [],
   "source": [
    "lst1 = [1,2,3]\n",
    "lst2 = [None]\n",
    "lst1 ? lst2 == [1,2,3,None] \n",
    "? ? ? == [1,2,3,1,2,3] \n",
    "? ? ? == [None,None,None,None,None] "
   ]
  },
  {
   "cell_type": "markdown",
   "metadata": {},
   "source": [
    "### Objective 3: Comparisons\n",
    "Using comparison operators, complete the code below by replacing the `?` so that each expression return True."
   ]
  },
  {
   "cell_type": "code",
   "execution_count": null,
   "metadata": {},
   "outputs": [],
   "source": [
    "12 ? 5\n",
    "77.7 ? 77.7\n",
    "-55 ? 99\n",
    "40 ? 41 ? 42"
   ]
  },
  {
   "cell_type": "markdown",
   "metadata": {},
   "source": [
    "### Objective 4: Assignment\n",
    "Using assignment operators, complete the code below by replacing the `?` so the final statement return True."
   ]
  },
  {
   "cell_type": "code",
   "execution_count": null,
   "metadata": {},
   "outputs": [],
   "source": [
    "x1 = 55\n",
    "x1 ? 5 # 11\n",
    "x1 ? 10 # 1\n",
    "x1 ? 21 # 22\n",
    "x1 ? 2 # 484\n",
    "x1 ? 0.5 # 242\n",
    "\n",
    "print (x1 == 242)"
   ]
  },
  {
   "cell_type": "markdown",
   "metadata": {},
   "source": [
    "### Objective 4: Identity.\n",
    "Explain what the `is` and `is not` operators do? \\\n",
    "Give an example of both, and give an example of how the type() may be used with an identity operator."
   ]
  },
  {
   "cell_type": "markdown",
   "metadata": {},
   "source": []
  },
  {
   "cell_type": "code",
   "execution_count": null,
   "metadata": {},
   "outputs": [],
   "source": []
  },
  {
   "cell_type": "markdown",
   "metadata": {},
   "source": [
    "### Objective 5: Membership\n",
    "Use membership operator `in` to determine if every letter from A to Z is present in your full name."
   ]
  },
  {
   "cell_type": "code",
   "execution_count": null,
   "metadata": {},
   "outputs": [],
   "source": []
  },
  {
   "cell_type": "markdown",
   "metadata": {},
   "source": [
    "### Objective 6: Cross operator compatibility\n",
    "The memebership operator `in` can be used in strings. For example `'e' in 'hello'` is a valid operation and will return True. How is this possible? \\\n",
    "Experiment with operators that typically work on one type of data with others and report anything useful you find. You may use an internet search engine to aid your investigation. "
   ]
  },
  {
   "cell_type": "markdown",
   "metadata": {},
   "source": []
  }
 ],
 "metadata": {
  "kernelspec": {
   "display_name": "Python 3",
   "language": "python",
   "name": "python3"
  },
  "language_info": {
   "codemirror_mode": {
    "name": "ipython",
    "version": 3
   },
   "file_extension": ".py",
   "mimetype": "text/x-python",
   "name": "python",
   "nbconvert_exporter": "python",
   "pygments_lexer": "ipython3",
   "version": "3.8.5"
  }
 },
 "nbformat": 4,
 "nbformat_minor": 4
}
