{
 "cells": [
  {
   "cell_type": "markdown",
   "metadata": {},
   "source": [
    "# Control Structures 2\n",
    "## For loops and control structure methods\n",
    "In this lesson we continue understanding control structures and for loops"
   ]
  },
  {
   "cell_type": "markdown",
   "metadata": {},
   "source": [
    "### Objective 1: Understanding `for`\n",
    "Create a for loop that iterates through every item in the list `buildings`, print the item and its character length."
   ]
  },
  {
   "cell_type": "code",
   "execution_count": null,
   "metadata": {},
   "outputs": [],
   "source": [
    "buildings = [\"hospital\",\"government office\",\"park\",\"city hall\",\"police station\",\"mall\"]"
   ]
  },
  {
   "cell_type": "markdown",
   "metadata": {},
   "source": [
    "### Objective 2: While to for\n",
    "Run the cell below and observe the output of the while loop. Since the while loop only accesses one item at a time it would better practice to use a for loop instead. In the empty cell rewrite the code a for loop instead."
   ]
  },
  {
   "cell_type": "code",
   "execution_count": null,
   "metadata": {},
   "outputs": [],
   "source": [
    "shopping = [\"eggs\",\"milk\",\"ham\",\"bread\",\"butter\"]\n",
    "counter = 0\n",
    "while counter < len(shopping):\n",
    "    print(f'{shopping[counter]} reversed is {shopping[counter][::-1]}')\n",
    "    counter += 1"
   ]
  },
  {
   "cell_type": "code",
   "execution_count": null,
   "metadata": {},
   "outputs": [],
   "source": [
    "shopping = [\"eggs\",\"milk\",\"ham\",\"bread\",\"butter\"]\n",
    "# for loop here"
   ]
  },
  {
   "cell_type": "markdown",
   "metadata": {},
   "source": [
    "### Objective 3: Go go power range()\n",
    "Using a for loop and a `range()` iterator write a program that sums all the integers between 50 and 100."
   ]
  },
  {
   "cell_type": "code",
   "execution_count": null,
   "metadata": {},
   "outputs": [],
   "source": []
  },
  {
   "cell_type": "markdown",
   "metadata": {},
   "source": [
    "### Objective 4: Pass \n",
    "What does the built in `pass` keyword do?"
   ]
  },
  {
   "cell_type": "markdown",
   "metadata": {},
   "source": []
  },
  {
   "cell_type": "markdown",
   "metadata": {},
   "source": [
    "### Objective 5: Zip it up\n",
    "Using the `zip()` function, write a for loop that prints each employee's annual salary. An example format should be `Geoff Dilly earns $10500 every year`"
   ]
  },
  {
   "cell_type": "code",
   "execution_count": null,
   "metadata": {},
   "outputs": [],
   "source": [
    "employee = [\"Geoff Dilly\",\"Diana Ystervark\",\"Phil Cunningham\",\"Simon Snek\"]\n",
    "hourly = [25.0,13.7,19.0,27.5]\n",
    "hours_per_week = [35,40,36,15]\n",
    "\n",
    "# for loop using zip() here"
   ]
  },
  {
   "cell_type": "markdown",
   "metadata": {},
   "source": [
    "### Objective 6: Making life simpler with ternary expressions\n",
    "Run the cell below. Notice how each variable is assigned using a lengthy if statement. In the empty cell, write a ternary expression to do the assignments more effeciently."
   ]
  },
  {
   "cell_type": "code",
   "execution_count": 3,
   "metadata": {},
   "outputs": [
    {
     "name": "stdout",
     "output_type": "stream",
     "text": [
      "[\"red contains an 'e'\", \"yellow contains an 'e'\", \"green contains an 'e'\", \"blue contains an 'e'\", \"orange contains an 'e'\", \"black does not contain an 'e'\", \"silver contains an 'e'\", \"pink does not contain an 'e'\"]\n"
     ]
    }
   ],
   "source": [
    "colours= [\"red\",\"yellow\",\"green\",\"blue\",\"orange\",\"black\",\"silver\",\"pink\"]\n",
    "results = []\n",
    "for colour in colours:\n",
    "    result = None\n",
    "    if \"e\" in colour:\n",
    "        result = f\"{colour} contains an 'e'\"\n",
    "    else:\n",
    "        result = f\"{colour} does not contain an 'e'\"\n",
    "    results.append(result)\n",
    "print(results)"
   ]
  },
  {
   "cell_type": "code",
   "execution_count": null,
   "metadata": {},
   "outputs": [],
   "source": [
    "colours= [\"red\",\"yellow\",\"green\",\"blue\",\"orange\",\"black\",\"silver\",\"pink\"]\n",
    "results = []\n",
    "for colour in colours:\n",
    "    # ternary expression here\n",
    "print(results)"
   ]
  }
 ],
 "metadata": {
  "kernelspec": {
   "display_name": "Python 3 (ipykernel)",
   "language": "python",
   "name": "python3"
  },
  "language_info": {
   "codemirror_mode": {
    "name": "ipython",
    "version": 3
   },
   "file_extension": ".py",
   "mimetype": "text/x-python",
   "name": "python",
   "nbconvert_exporter": "python",
   "pygments_lexer": "ipython3",
   "version": "3.9.7"
  }
 },
 "nbformat": 4,
 "nbformat_minor": 4
}
