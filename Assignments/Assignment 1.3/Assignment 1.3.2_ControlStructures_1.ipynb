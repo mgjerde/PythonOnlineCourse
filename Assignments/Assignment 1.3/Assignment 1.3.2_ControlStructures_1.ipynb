{
 "cells": [
  {
   "cell_type": "markdown",
   "metadata": {},
   "source": [
    "# Control Structures 1\n",
    "## Iterations, selection, and loops\n",
    "In this lesson we will be learning the syntax and use of control structures."
   ]
  },
  {
   "cell_type": "markdown",
   "metadata": {},
   "source": [
    "### Objective 1: Understanding `if`\n",
    "Run the code below. Then change the value of `x` to 23 and run the code again, explain what is happening. "
   ]
  },
  {
   "cell_type": "code",
   "execution_count": 1,
   "metadata": {},
   "outputs": [
    {
     "name": "stdout",
     "output_type": "stream",
     "text": [
      "Point B\n",
      "At the end\n"
     ]
    }
   ],
   "source": [
    "x = 23\n",
    "if (x < 15):\n",
    "    print(\"Point A\")\n",
    "else:\n",
    "    print(\"Point B\")\n",
    "print(\"At the end\")"
   ]
  },
  {
   "cell_type": "markdown",
   "metadata": {},
   "source": [
    "it checks if x is lesser than 15, and if it is, it prints out `Point A`, while if it is not bigger than 15, it prints out `Point B`"
   ]
  },
  {
   "cell_type": "markdown",
   "metadata": {},
   "source": [
    "### Objective 2: Creating an `if`\n",
    "Write an if statement that does the following:\n",
    "* Evaluates the value held in `word`\n",
    "* If `word` has the letter `n` in it then print the word and the index where the letter first occurs\n",
    "* Else simply print the length of the word\n",
    "* Ensure that the word is set to lowercase before evaluation"
   ]
  },
  {
   "cell_type": "code",
   "execution_count": 19,
   "metadata": {},
   "outputs": [
    {
     "name": "stdout",
     "output_type": "stream",
     "text": [
      "norway 0\n"
     ]
    }
   ],
   "source": [
    "word = \"Norway\"\n",
    "word = word.lower()\n",
    "letter = \"n\"\n",
    "if \"letter\" in word:\n",
    "    print(word,word.index(letter))\n",
    "else:\n",
    "    print(len(word))\n"
   ]
  },
  {
   "cell_type": "markdown",
   "metadata": {},
   "source": [
    "### Objective 3: Extending `if` statements\n",
    "Write an if statment that does the following:\n",
    "* Evaluates the value held in word\n",
    "* If the length of word is greater than 5 and contains the letter `z` then print the word\n",
    "* Else if the length of word is exactly 5 characters long then print the number 5.\n",
    "* Else print \"No z and less than 5\"\n",
    "* Ensure the word is set to lowercase before evaluation"
   ]
  },
  {
   "cell_type": "code",
   "execution_count": 27,
   "metadata": {},
   "outputs": [
    {
     "name": "stdout",
     "output_type": "stream",
     "text": [
      "zimbabwe\n"
     ]
    }
   ],
   "source": [
    "word = \"Zimbabwe\"\n",
    "word = word.lower()\n",
    "if len(word) > 5 and \"z\" in word:\n",
    "    print(word)\n",
    "elif len(word) == 5:\n",
    "    print(5)\n",
    "else:\n",
    "    print(\"No z and less than 5\")"
   ]
  },
  {
   "cell_type": "markdown",
   "metadata": {},
   "source": [
    "### Objective 4: All the `while`\n",
    "Run the code below. Notice how the same action is being repeated multiple times; this action can be replicated using a while loop. Do so, and rewrite the code using a while loop in the corresponding code cell. Keep in mind you will need to use a break condition that stop the loop eventually. \\\n",
    "\\\n",
    "*Hint: `while(len(word)>0)` might be a good place to start*"
   ]
  },
  {
   "cell_type": "code",
   "execution_count": 32,
   "metadata": {},
   "outputs": [
    {
     "name": "stdout",
     "output_type": "stream",
     "text": [
      "e\n",
      "g\n",
      "y\n",
      "p\n",
      "t\n"
     ]
    }
   ],
   "source": [
    "word = \"egypt\"\n",
    "print(word[0])\n",
    "word = word[1:]\n",
    "print(word[0])\n",
    "word = word[1:]\n",
    "print(word[0])\n",
    "word = word[1:]\n",
    "print(word[0])\n",
    "word = word[1:]\n",
    "print(word[0])\n",
    "word = word[1:]"
   ]
  },
  {
   "cell_type": "code",
   "execution_count": 31,
   "metadata": {},
   "outputs": [
    {
     "name": "stdout",
     "output_type": "stream",
     "text": [
      "s\n",
      "c\n",
      "a\n",
      "n\n",
      "d\n",
      "i\n",
      "n\n",
      "a\n",
      "v\n",
      "i\n",
      "a\n"
     ]
    }
   ],
   "source": [
    "word = \"scandinavia\"\n",
    "\n",
    "while(len(word)>0):\n",
    "    print(word[0])\n",
    "    word = word[1:]"
   ]
  },
  {
   "cell_type": "markdown",
   "metadata": {},
   "source": [
    "### Objective 5: Avoid infinity\n",
    "Explain the term \"infinite while loop\" and why its dangerous. Name 2 methods you can employ to prevent an infinite while loop."
   ]
  },
  {
   "cell_type": "markdown",
   "metadata": {},
   "source": [
    "An `infinite while loop` is a loop that does not end, and is dangerous since the script would not continiue on, and also because it would end up being latent in the memory or even using ever expanding amount of memory dependant on the code.\n",
    "One method of preventing a neverending loop could be to have the logic in the while condition end after x amount of runs, and having it being increased every time the loop runs with `+=` operator\n",
    "Another method can be to use the keyword `break` in the code as it will then break out of the while loop and continiue on with the rest of the code."
   ]
  },
  {
   "cell_type": "markdown",
   "metadata": {},
   "source": [
    "### Objective 6: Two ways to break out\n",
    "Write a while loop that adds 1 to counter until it reaches 100. There are two ways to break out of the loop, demonstrate your understanding of both by rewriting the same loop again but breaking out using the other method."
   ]
  },
  {
   "cell_type": "code",
   "execution_count": 33,
   "metadata": {},
   "outputs": [
    {
     "name": "stdout",
     "output_type": "stream",
     "text": [
      "100\n"
     ]
    }
   ],
   "source": [
    "# Method 1\n",
    "counter = 0\n",
    "while counter < 100:\n",
    "    counter += 1\n",
    "print(counter)"
   ]
  },
  {
   "cell_type": "code",
   "execution_count": 34,
   "metadata": {},
   "outputs": [
    {
     "name": "stdout",
     "output_type": "stream",
     "text": [
      "100\n"
     ]
    }
   ],
   "source": [
    "# Method 2\n",
    "counter = 0\n",
    "while True:\n",
    "    counter += 1\n",
    "    if counter >= 100:\n",
    "        break\n",
    "print(counter)"
   ]
  },
  {
   "cell_type": "markdown",
   "metadata": {},
   "source": [
    "### Objective 7: A while we if\n",
    "Write a program that does the following:\n",
    "* Evaluates all the content in a list `data`\n",
    "* For every item in the list:\n",
    "  * If the item is a str then print it\n",
    "  * If the item is a int print it's square `(item **2)`\n",
    "  * If the item is a float then print its int version using `int(item)`\n",
    "  * If the item is a None print the word \"None\"\n",
    "  * Else if the item is none of the above then print \"Unknown\""
   ]
  },
  {
   "cell_type": "code",
   "execution_count": 3,
   "metadata": {},
   "outputs": [
    {
     "name": "stdout",
     "output_type": "stream",
     "text": [
      "123\n",
      "None\n",
      "Unknown\n",
      "hello world\n",
      "177241\n",
      "Norway\n"
     ]
    }
   ],
   "source": [
    "data = [123.456,None,[],\"hello world\",421,(\"Norway\")]\n",
    "i = 0\n",
    "while i < len(data):\n",
    "    item = data[i]\n",
    "    if type(item) is str:\n",
    "        print(item)\n",
    "    elif type(item) is int:\n",
    "        print(item**2)\n",
    "    elif type(item) is float:\n",
    "        print(int(item))\n",
    "    elif item == None:\n",
    "        print(\"None\")\n",
    "    else:\n",
    "        print(\"Unknown\")\n",
    "    i += 1"
   ]
  }
 ],
 "metadata": {
  "kernelspec": {
   "display_name": "Python 3 (ipykernel)",
   "language": "python",
   "name": "python3"
  },
  "language_info": {
   "codemirror_mode": {
    "name": "ipython",
    "version": 3
   },
   "file_extension": ".py",
   "mimetype": "text/x-python",
   "name": "python",
   "nbconvert_exporter": "python",
   "pygments_lexer": "ipython3",
   "version": "3.9.7"
  }
 },
 "nbformat": 4,
 "nbformat_minor": 4
}
