{
 "cells": [
  {
   "cell_type": "markdown",
   "metadata": {},
   "source": [
    "# Objects I\n",
    "# Classes and Objects\n",
    "In this lesson we will learning how objects are created and how classes can be used to design a new type of object."
   ]
  },
  {
   "cell_type": "markdown",
   "metadata": {},
   "source": [
    "### Objective 1: Secure the Objective\n",
    "What is an object? Give 3 examples of an object you've use in Python."
   ]
  },
  {
   "cell_type": "markdown",
   "metadata": {},
   "source": [
    "* An `object` is a collection of `methods` and `variables` combined together into one item that can get accessed\n",
    "* * `Integers`\n",
    "* * `Strings`\n",
    "* * `Lists`\n",
    "\n"
   ]
  },
  {
   "cell_type": "markdown",
   "metadata": {},
   "source": [
    "### Objective 2: A classic\n",
    "Explain what relationship a class has with an object."
   ]
  },
  {
   "cell_type": "markdown",
   "metadata": {},
   "source": [
    "A `class` is the description or blueprint of how an `object` looks and behaves."
   ]
  },
  {
   "cell_type": "markdown",
   "metadata": {},
   "source": [
    "### Objective 3: The first class\n",
    "Create a class called `Animal` with the following attributes:\n",
    "* `legs` - an int representation of number of legs an animal can have\n",
    "* `family` -  a string that holds the family name of the animal\n",
    "* `aquatic` - a bool that hold True if the animal lives underwater"
   ]
  },
  {
   "cell_type": "code",
   "execution_count": 1,
   "metadata": {},
   "outputs": [],
   "source": [
    "class Animal:\n",
    "    legs = None\n",
    "    family = None\n",
    "    aquatic = None\n",
    "    \n",
    "    def __init__(self,legs = 4,family = \"Animalia\", aquatic = False):\n",
    "        self.legs = legs\n",
    "        self.family = family\n",
    "        self.aquatic = aquatic"
   ]
  },
  {
   "cell_type": "markdown",
   "metadata": {},
   "source": [
    "### Objective 4: Populate planet wild!\n",
    "Create 5 `Animal` objects with any animals of your choosing, the objects must have accurate `legs`, `family` and `aquatic` properties. An example for one animal has been implemented for you. \n",
    "\n",
    "*Hint: You may need to adjust your class from the objective above to use a constructor method.*"
   ]
  },
  {
   "cell_type": "code",
   "execution_count": 2,
   "metadata": {},
   "outputs": [],
   "source": [
    "octopus = Animal(legs = 8, family = \"Octopodidae\", aquatic = True)\n",
    "shark = Animal(legs = 0, family=\"Chondrichthyes\", aquatic = True)\n",
    "ant = Animal(8,\"Formicidae\",False)\n",
    "horse = Animal(legs = 4, family=\"Equidae\")\n",
    "goat = Animal(legs=4, family=\"Bovidae\")\n",
    "mosquito = Animal(legs = 6, family = \"Culicidae\",aquatic = False)"
   ]
  },
  {
   "cell_type": "markdown",
   "metadata": {},
   "source": [
    "### Objective 5: Adjusting animals\n",
    "Demonstrate your understanding of *instance attributes* by adding a `habitat` attribute to the objects (not the class) to the objects you created above. Add a corresponding habitat value to each and then use a for loop to print all the habitats on those objects."
   ]
  },
  {
   "cell_type": "code",
   "execution_count": 11,
   "metadata": {},
   "outputs": [],
   "source": [
    "octopus.habitat = \"Ocean\"\n",
    "shark.habitat = \"Ocean\"\n",
    "ant.habitat = \"Forest\"\n",
    "horse.habitat = \"Plains\"\n",
    "goat.habitat = \"Mountain\"\n",
    "mosquito.habitat = \"Lake\"\n"
   ]
  },
  {
   "cell_type": "markdown",
   "metadata": {},
   "source": [
    "### Objective 6: Grouping objects\n",
    "Create a dict called `animal_kingdom`. In this dict insert all your animal objects from objective 4 where they key is the English string of the animal, and the object as a value. Then iterate through all the key value pairs in `animal_kingdom` and do the following:\n",
    "* Print any animal's key if it's family name contains an 'e'. The family name is the property of the object\n",
    "* Print any animal's key if it has exactly 4 legs\n",
    "* Print any animal's key if it shares a habitat with at least one other animal.\n",
    "\n",
    "*Hint: Using for `for key,value in dict.items()` is a good starting point after you've assigned your animal objects*"
   ]
  },
  {
   "cell_type": "code",
   "execution_count": 18,
   "metadata": {},
   "outputs": [
    {
     "name": "stdout",
     "output_type": "stream",
     "text": [
      "octopus contains an `e` in the family name(Octopodidae)\n",
      "octopus shares a habitat with shark\n",
      "shark contains an `e` in the family name(Chondrichthyes)\n",
      "shark shares a habitat with octopus\n",
      "ant contains an `e` in the family name(Formicidae)\n",
      "horse contains an `e` in the family name(Equidae)\n",
      "horse has 4 legs\n",
      "goat contains an `e` in the family name(Bovidae)\n",
      "goat has 4 legs\n",
      "mosquito contains an `e` in the family name(Culicidae)\n"
     ]
    }
   ],
   "source": [
    "animal_kingdom = { \"octopus\": octopus, \"shark\": shark, \"ant\": ant, \"horse\": horse, \"goat\": goat, \"mosquito\": mosquito }\n",
    "\n",
    "for key, value in animal_kingdom.items():\n",
    "    if \"e\" in value.family.lower():\n",
    "        print(f\"{key} contains an `e` in the family name({value.family})\")\n",
    "    if value.legs == 4:\n",
    "        print(f\"{key} has 4 legs\")\n",
    "    for key2, value2 in animal_kingdom.items():\n",
    "        if value.habitat == value2.habitat and key is not key2:\n",
    "            print(f\"{key} shares a habitat with {key2}\")\n",
    "    \n"
   ]
  }
 ],
 "metadata": {
  "interpreter": {
   "hash": "ad2bdc8ecc057115af97d19610ffacc2b4e99fae6737bb82f5d7fb13d2f2c186"
  },
  "kernelspec": {
   "display_name": "Python 3.9.7 ('base')",
   "language": "python",
   "name": "python3"
  },
  "language_info": {
   "codemirror_mode": {
    "name": "ipython",
    "version": 3
   },
   "file_extension": ".py",
   "mimetype": "text/x-python",
   "name": "python",
   "nbconvert_exporter": "python",
   "pygments_lexer": "ipython3",
   "version": "3.9.7"
  }
 },
 "nbformat": 4,
 "nbformat_minor": 4
}
