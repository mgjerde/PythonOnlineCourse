{
 "cells": [
  {
   "cell_type": "markdown",
   "metadata": {},
   "source": [
    "# Objects II\n",
    "# More Object Properties\n",
    "In this lesson we will continue our understanding of objects"
   ]
  },
  {
   "cell_type": "markdown",
   "metadata": {},
   "source": [
    "### Objective 1: Accessing methods\n",
    "Why would we want to limit access to methods and properties in our objects?"
   ]
  },
  {
   "cell_type": "markdown",
   "metadata": {},
   "source": []
  },
  {
   "cell_type": "markdown",
   "metadata": {},
   "source": [
    "### Objective 2: Applied restrictions\n",
    "Below is code for an `employee` class. Edit the code to limit access to the social security number and birthdate. Then create two class methods to extract these values in safe manner, call these class methods `get_social_security` and `get_birth_date`. \n",
    "\n",
    "Your updated class must **not** give the values for `object.social_security` or `object.birth_date` when called."
   ]
  },
  {
   "cell_type": "code",
   "execution_count": null,
   "metadata": {},
   "outputs": [],
   "source": [
    "class Employee:\n",
    "    name = None\n",
    "    surname = None\n",
    "    position = None\n",
    "    social_security = None\n",
    "    birth_date = None\n",
    "    \n",
    "    def __init__(self,name,surname,position,social_security,birthdate):\n",
    "        self.name = name\n",
    "        self.surname = surname\n",
    "        self.position = position\n",
    "        self.social_security = social_security\n",
    "        self.birth_date = birthdate\n",
    "        \n",
    "emp1 = Employee(\"John\",\"Doe\",\"Programmer\",\"AABBCCDDEE123\",\"1990-05-05\")"
   ]
  },
  {
   "cell_type": "code",
   "execution_count": null,
   "metadata": {},
   "outputs": [],
   "source": [
    "# Test your code: This must work\n",
    "ss = emp1.get_social_security()\n",
    "bd = emp1.get_birth_date()\n",
    "\n",
    "print(ss, bd)"
   ]
  },
  {
   "cell_type": "code",
   "execution_count": null,
   "metadata": {},
   "outputs": [],
   "source": [
    "# Test your code: This must fail\n",
    "ss = emp1.social_security\n",
    "bd = emp1.birth_date\n",
    "\n",
    "print(ss, bd)"
   ]
  },
  {
   "cell_type": "markdown",
   "metadata": {},
   "source": [
    "### Objective 3: Making Magic\n",
    "What is the difference between a magic method and a regular method? How are magic methods useful when defined into objects?"
   ]
  },
  {
   "cell_type": "markdown",
   "metadata": {},
   "source": []
  },
  {
   "cell_type": "markdown",
   "metadata": {},
   "source": [
    "### Objective 4: Adding arithmatic\n",
    "Copy the `Employee` from objective 2 and add the following funtionality:\n",
    "* Add a restricted int paramater called `salary` which records each employee's pay, with a default value of 0.\n",
    "* Write a function called `get_salary()` that will return a string presentation of the `salary` in the shape of `value NOK`\n",
    "* Write a magic method that allows us to easily increase the value of the employee's pay using the addition operator (+)\n",
    "* Write a magic method that allows us to easily increase the value by a percentage using the multiplier operator (*)"
   ]
  },
  {
   "cell_type": "code",
   "execution_count": null,
   "metadata": {},
   "outputs": [],
   "source": [
    "# TODO: Employee class here\n",
    "\n",
    "emp1 = Employee(\"John\",\"Doe\",\"Programmer\",\"AABBCCDDEE123\",\"1990-05-05\")\n",
    "emp1 = emp1 + 10000\n",
    "emp1 = emp1 * 1.10\n",
    "print(emp1.get_salary())"
   ]
  }
 ],
 "metadata": {
  "kernelspec": {
   "display_name": "Python 3 (ipykernel)",
   "language": "python",
   "name": "python3"
  },
  "language_info": {
   "codemirror_mode": {
    "name": "ipython",
    "version": 3
   },
   "file_extension": ".py",
   "mimetype": "text/x-python",
   "name": "python",
   "nbconvert_exporter": "python",
   "pygments_lexer": "ipython3",
   "version": "3.9.7"
  }
 },
 "nbformat": 4,
 "nbformat_minor": 4
}
