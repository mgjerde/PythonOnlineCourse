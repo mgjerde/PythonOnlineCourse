{
 "cells": [
  {
   "cell_type": "markdown",
   "metadata": {},
   "source": [
    "# Objects I\n",
    "# Classes and Objects\n",
    "In this lesson we will learning how objects are created and how classes can be used to design a new type of object."
   ]
  },
  {
   "cell_type": "markdown",
   "metadata": {},
   "source": [
    "### Objective 1: Secure the Objective\n",
    "What is an object? Give 3 examples of an object you've use in Python."
   ]
  },
  {
   "cell_type": "code",
   "execution_count": null,
   "metadata": {},
   "outputs": [],
   "source": []
  },
  {
   "cell_type": "markdown",
   "metadata": {},
   "source": [
    "### Objective 2: A classic\n",
    "Explain what relationship a class has with an object."
   ]
  },
  {
   "cell_type": "code",
   "execution_count": null,
   "metadata": {},
   "outputs": [],
   "source": []
  },
  {
   "cell_type": "markdown",
   "metadata": {},
   "source": [
    "### Objective 3: The first class\n",
    "Create a class called `Animal` with the following attributes:\n",
    "* `legs` - an int representation of number of legs an animal can have\n",
    "* `family` -  a string that holds the family name of the animal\n",
    "* `aquatic` - a bool that hold True if the animal lives underwater"
   ]
  },
  {
   "cell_type": "code",
   "execution_count": null,
   "metadata": {},
   "outputs": [],
   "source": []
  },
  {
   "cell_type": "markdown",
   "metadata": {},
   "source": [
    "### Objective 4: Populate planet wild!\n",
    "Create 5 `Animal` objects with any animals of your choosing, the objects must have accurate `legs`, `family` and `aquatic` properties. An example for one animal has been implemented for you. \n",
    "\n",
    "*Hint: You may need to adjust your class from the objective above to use a constructor method.*"
   ]
  },
  {
   "cell_type": "code",
   "execution_count": null,
   "metadata": {},
   "outputs": [],
   "source": [
    "octopus = Animal(legs=8, family=\"Octopodidae\",aquitic=True)"
   ]
  },
  {
   "cell_type": "markdown",
   "metadata": {},
   "source": [
    "### Objective 5: Adjusting animals\n",
    "Demonstrate your understanding of *instance attributes* by adding a `habitat` attribute to the objects (not the class) to the objects you created above. Add a corresponding habitat value to each and then use a for loop to print all the habitats on those objects."
   ]
  },
  {
   "cell_type": "code",
   "execution_count": null,
   "metadata": {},
   "outputs": [],
   "source": []
  },
  {
   "cell_type": "markdown",
   "metadata": {},
   "source": [
    "### Objective 6: Grouping objects\n",
    "Create a dict called `animal_kingdom`. In this dict insert all your animal objects from objective 4 where they key is the English string of the animal, and the object as a value. Then iterate through all the key value pairs in `animal_kingdom` and do the following:\n",
    "* Print any animal's key if it's family name contains an 'e'. The family name is the property of the object\n",
    "* Print any animal's key if it has exactly 4 legs\n",
    "* Print any animal's key if it shares a habitat with at least one other animal.\n",
    "\n",
    "*Hint: Using for `for key,value in dict.items()` is a good starting point after you've assigned your animal objects*"
   ]
  },
  {
   "cell_type": "code",
   "execution_count": null,
   "metadata": {},
   "outputs": [],
   "source": []
  },
  {
   "cell_type": "code",
   "execution_count": null,
   "metadata": {},
   "outputs": [],
   "source": []
  }
 ],
 "metadata": {
  "kernelspec": {
   "display_name": "Python 3 (ipykernel)",
   "language": "python",
   "name": "python3"
  },
  "language_info": {
   "codemirror_mode": {
    "name": "ipython",
    "version": 3
   },
   "file_extension": ".py",
   "mimetype": "text/x-python",
   "name": "python",
   "nbconvert_exporter": "python",
   "pygments_lexer": "ipython3",
   "version": "3.9.7"
  }
 },
 "nbformat": 4,
 "nbformat_minor": 4
}
