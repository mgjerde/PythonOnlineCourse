{
 "cells": [
  {
   "cell_type": "markdown",
   "metadata": {},
   "source": [
    "# Objects II\n",
    "# More Object Properties\n",
    "In this lesson we will continue our understanding of objects"
   ]
  },
  {
   "cell_type": "markdown",
   "metadata": {},
   "source": [
    "### Objective 1: Accessing methods\n",
    "Why would we want to limit access to methods and properties in our objects?"
   ]
  },
  {
   "cell_type": "markdown",
   "metadata": {},
   "source": [
    "To control the access and protect the properties of the objects"
   ]
  },
  {
   "cell_type": "markdown",
   "metadata": {},
   "source": [
    "### Objective 2: Applied restrictions\n",
    "Below is code for an `employee` class. Edit the code to limit access to the social security number and birthdate. Then create two class methods to extract these values in safe manner, call these class methods `get_social_security` and `get_birth_date`. \n",
    "\n",
    "Your updated class must **not** give the values for `object.social_security` or `object.birth_date` when called."
   ]
  },
  {
   "cell_type": "code",
   "execution_count": 1,
   "metadata": {},
   "outputs": [],
   "source": [
    "class Employee:\n",
    "    name = None\n",
    "    surname = None\n",
    "    position = None\n",
    "    __social_security = None\n",
    "    __birth_date = None\n",
    "    \n",
    "    def __init__(self,name,surname,position,social_security,birthdate):\n",
    "        self.name = name\n",
    "        self.surname = surname\n",
    "        self.position = position\n",
    "        self.__social_security = social_security\n",
    "        self.__birth_date = birthdate\n",
    "    \n",
    "    def get_social_security(self):\n",
    "        return self.__social_security\n",
    "    \n",
    "    def get_birth_date(self):\n",
    "        return self.__birth_date\n",
    "        \n",
    "emp1 = Employee(\"John\",\"Doe\",\"Programmer\",\"AABBCCDDEE123\",\"1990-05-05\")"
   ]
  },
  {
   "cell_type": "code",
   "execution_count": 2,
   "metadata": {},
   "outputs": [
    {
     "name": "stdout",
     "output_type": "stream",
     "text": [
      "AABBCCDDEE123 1990-05-05\n"
     ]
    }
   ],
   "source": [
    "# Test your code: This must work\n",
    "ss = emp1.get_social_security()\n",
    "bd = emp1.get_birth_date()\n",
    "\n",
    "print(ss, bd)"
   ]
  },
  {
   "cell_type": "code",
   "execution_count": 3,
   "metadata": {},
   "outputs": [
    {
     "ename": "AttributeError",
     "evalue": "'Employee' object has no attribute 'social_security'",
     "output_type": "error",
     "traceback": [
      "\u001b[1;31m---------------------------------------------------------------------------\u001b[0m",
      "\u001b[1;31mAttributeError\u001b[0m                            Traceback (most recent call last)",
      "\u001b[1;32m~\\AppData\\Local\\Temp/ipykernel_124804/1295398046.py\u001b[0m in \u001b[0;36m<module>\u001b[1;34m\u001b[0m\n\u001b[0;32m      1\u001b[0m \u001b[1;31m# Test your code: This must fail\u001b[0m\u001b[1;33m\u001b[0m\u001b[1;33m\u001b[0m\u001b[0m\n\u001b[1;32m----> 2\u001b[1;33m \u001b[0mss\u001b[0m \u001b[1;33m=\u001b[0m \u001b[0memp1\u001b[0m\u001b[1;33m.\u001b[0m\u001b[0msocial_security\u001b[0m\u001b[1;33m\u001b[0m\u001b[1;33m\u001b[0m\u001b[0m\n\u001b[0m\u001b[0;32m      3\u001b[0m \u001b[0mbd\u001b[0m \u001b[1;33m=\u001b[0m \u001b[0memp1\u001b[0m\u001b[1;33m.\u001b[0m\u001b[0mbirth_date\u001b[0m\u001b[1;33m\u001b[0m\u001b[1;33m\u001b[0m\u001b[0m\n\u001b[0;32m      4\u001b[0m \u001b[1;33m\u001b[0m\u001b[0m\n\u001b[0;32m      5\u001b[0m \u001b[0mprint\u001b[0m\u001b[1;33m(\u001b[0m\u001b[0mss\u001b[0m\u001b[1;33m,\u001b[0m \u001b[0mbd\u001b[0m\u001b[1;33m)\u001b[0m\u001b[1;33m\u001b[0m\u001b[1;33m\u001b[0m\u001b[0m\n",
      "\u001b[1;31mAttributeError\u001b[0m: 'Employee' object has no attribute 'social_security'"
     ]
    }
   ],
   "source": [
    "# Test your code: This must fail\n",
    "ss = emp1.social_security\n",
    "bd = emp1.birth_date\n",
    "\n",
    "print(ss, bd)"
   ]
  },
  {
   "cell_type": "markdown",
   "metadata": {},
   "source": [
    "### Objective 3: Making Magic\n",
    "What is the difference between a magic method and a regular method? How are magic methods useful when defined into objects?"
   ]
  },
  {
   "cell_type": "markdown",
   "metadata": {},
   "source": [
    "* Magic methods are methods specifically design in the python code that is automatically run upon specific situations, while regular methods are methods that can be called during the \"lifetime\" of the program.\n",
    "* They are useful with defining an object and for how the object reacts to certain events."
   ]
  },
  {
   "cell_type": "markdown",
   "metadata": {},
   "source": [
    "### Objective 4: Adding arithmatic\n",
    "Copy the `Employee` from objective 2 and add the following funtionality:\n",
    "* Add a restricted int paramater called `salary` which records each employee's pay, with a default value of 0.\n",
    "* Write a function called `get_salary()` that will return a string presentation of the `salary` in the shape of `value NOK`\n",
    "* Write a magic method that allows us to easily increase the value of the employee's pay using the addition operator (+)\n",
    "* Write a magic method that allows us to easily increase the value by a percentage using the multiplier operator (*)"
   ]
  },
  {
   "cell_type": "code",
   "execution_count": 22,
   "metadata": {},
   "outputs": [
    {
     "name": "stdout",
     "output_type": "stream",
     "text": [
      "11000.0 NOK\n"
     ]
    }
   ],
   "source": [
    "class Employee:\n",
    "    name = None\n",
    "    surname = None\n",
    "    position = None\n",
    "    __social_security = None\n",
    "    __birth_date = None\n",
    "    __salary = None\n",
    "    \n",
    "    def __init__(self,name,surname,position,social_security,birthdate):\n",
    "        self.name = name\n",
    "        self.surname = surname\n",
    "        self.position = position\n",
    "        self.__social_security = social_security\n",
    "        self.__birth_date = birthdate\n",
    "        self.__salary = 0\n",
    "    \n",
    "    def get_social_security(self):\n",
    "        return self.__social_security\n",
    "    \n",
    "    def get_birth_date(self):\n",
    "        return self.__birth_date\n",
    "\n",
    "    def get_salary(self):\n",
    "        return f\"{self.__salary} NOK\"\n",
    "    \n",
    "    def __add__(self, value):\n",
    "        self.__salary += value\n",
    "        return self\n",
    "    \n",
    "    def __mul__(self, value):\n",
    "        self.__salary *= value\n",
    "        return self\n",
    "\n",
    "emp1 = Employee(\"John\",\"Doe\",\"Programmer\",\"AABBCCDDEE123\",\"1990-05-05\")\n",
    "emp1 = emp1 + 10000\n",
    "emp1 = emp1 * 1.10\n",
    "print(emp1.get_salary())"
   ]
  }
 ],
 "metadata": {
  "interpreter": {
   "hash": "ad2bdc8ecc057115af97d19610ffacc2b4e99fae6737bb82f5d7fb13d2f2c186"
  },
  "kernelspec": {
   "display_name": "Python 3.9.7 ('base')",
   "language": "python",
   "name": "python3"
  },
  "language_info": {
   "codemirror_mode": {
    "name": "ipython",
    "version": 3
   },
   "file_extension": ".py",
   "mimetype": "text/x-python",
   "name": "python",
   "nbconvert_exporter": "python",
   "pygments_lexer": "ipython3",
   "version": "3.9.7"
  }
 },
 "nbformat": 4,
 "nbformat_minor": 4
}
