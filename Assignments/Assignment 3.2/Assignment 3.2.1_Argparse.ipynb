{
 "cells": [
  {
   "cell_type": "markdown",
   "metadata": {},
   "source": [
    "# CLA & Argparse\n",
    "# Making better command lines\n",
    "In this lesson we will be continuing our understanding and implimentation of command line arguments"
   ]
  },
  {
   "cell_type": "markdown",
   "metadata": {},
   "source": [
    "### Objective 1: Using the command line\n",
    "Create a simple program to demonstrate how to easy it is to use values inputted on the command line.\n",
    "\n",
    "In the cell below write a program they will accept at least 3 command line arguments of your choosing and then print them to the console."
   ]
  },
  {
   "cell_type": "code",
   "execution_count": null,
   "metadata": {},
   "outputs": [],
   "source": [
    "import argparse\n",
    "\n",
    "parser = argparse.ArgumentParser()\n",
    "parser.add_argument(\"firstinput\")\n",
    "parser.add_argument(\"secondinput\")\n",
    "parser.add_argument(\"thirdinput\")\n",
    "\n",
    "args = parser.parse_args()\n",
    "\n",
    "print(args.firstinput, args.secondinput,args.thirdinput)"
   ]
  },
  {
   "cell_type": "markdown",
   "metadata": {},
   "source": [
    "### Objective 2: Positional vs Optional arguments\n",
    "Below is an example of a command line input command. Explain if each of the arguments is a positional argument or an optional one, and then give a brief explanation of the difference between positional vs optional arguments"
   ]
  },
  {
   "cell_type": "markdown",
   "metadata": {},
   "source": [
    "`python downloader youtu.be/j9V78UbdzWI --format \"mp4\" -o \"coffindance\"`"
   ]
  },
  {
   "cell_type": "markdown",
   "metadata": {},
   "source": [
    "`downloader` is a positional argument\n",
    "\n",
    "`you.be/j9V78UbdzWI` is a positional argument\n",
    "\n",
    "`--format \"Mp4\"` is an optional argument\n",
    "\n",
    "`-o \"coffindance\"` is an optional argument\n",
    "\n",
    "the difference between positional and optional arguments is that positional arguments is required arguments based on where in the command line they are, or in other words, what position they have in the set of arguments while an optional argument is based on certain predescribed \"flags\" that are not needed for the program to run, but can change how it operates."
   ]
  },
  {
   "cell_type": "markdown",
   "metadata": {},
   "source": [
    "### Objective 3: Updating the command line\n",
    "Investigate `draw.py`. You can run the script using `! python draw.py green square`.\n",
    "\n",
    "Now edit `draw.py` program and rewrite the command line parsing section using `argparse`. Ensure the rest of the code still functions exactly the same as before, but you will need to access the stored command using `argparse.<commandname>`. Finally, since we can make certain arguments optional lets update the code to make the pen color an optional one."
   ]
  },
  {
   "cell_type": "code",
   "execution_count": 24,
   "metadata": {},
   "outputs": [
    {
     "name": "stdout",
     "output_type": "stream",
     "text": [
      "Unrecognised shape, defaulting to square\n",
      "Unrecognised color, defaulting to black\n"
     ]
    }
   ],
   "source": [
    "! python draw.py blue dircle --pencolor green"
   ]
  },
  {
   "cell_type": "markdown",
   "metadata": {},
   "source": [
    "### Objective 4: Adding help\n",
    "To assist the user in understanding our program create some user documentation by adding some helpful text to each argument in draw via the `help=\"text\"` parameter in the `add_argument` method."
   ]
  },
  {
   "cell_type": "code",
   "execution_count": 16,
   "metadata": {},
   "outputs": [
    {
     "name": "stdout",
     "output_type": "stream",
     "text": [
      "usage: draw.py [-h] [--pencolor PENCOLOR] color shape\n",
      "\n",
      "positional arguments:\n",
      "  color                What color to fill the inner shape with.\n",
      "  shape                What kind of shape to be drawn. (supported shapes:\n",
      "                       square, circle and triangle)\n",
      "\n",
      "optional arguments:\n",
      "  -h, --help           show this help message and exit\n",
      "  --pencolor PENCOLOR  What color to use for the outer pen.\n"
     ]
    }
   ],
   "source": [
    "! python draw.py --help"
   ]
  },
  {
   "cell_type": "markdown",
   "metadata": {},
   "source": [
    "### Objective 5: Typecasting\n",
    "One useful trick we can with argparse is using the `type=` paramater to set the resulting type of the input to that type instead of always a string. However, we dont strictly need to use the built-in type casting methods like `int()`, `float()`, etc, we can make our own method as long as it returns something not-none. Additionally, we can add some extra functionality, for example in `draw` we only have three acceptable shapes the program can execute. \n",
    "\n",
    "Write a type casting method to ensure may only use `square`, `triangle` and `circle` as acceptable input. If the user gives an incorrect input, warn them with print statement and then default the program to drawing a square instead of causing it to fail."
   ]
  },
  {
   "cell_type": "code",
   "execution_count": 28,
   "metadata": {},
   "outputs": [
    {
     "name": "stdout",
     "output_type": "stream",
     "text": [
      "Unrecognised shape, defaulting to square\n"
     ]
    }
   ],
   "source": [
    "def checkshape(shape):\n",
    "    if shape in [\"square\",\"circle\",\"triangle\"]:\n",
    "        return shape\n",
    "    else:\n",
    "        print(\"Unrecognised shape, defaulting to square\")\n",
    "        return \"square\"\n",
    "\n",
    "! python draw.py blue dircle --pencolor red"
   ]
  },
  {
   "cell_type": "markdown",
   "metadata": {},
   "source": [
    "### Objective 6: One more time\n",
    "Repeat the process for the optional `color` argument. This requires a little more research since the pen color can take many more colors than needed. Using `help(turtle.Turtle.fillcolor)` is recommended! To make things easy, simply encode 3 or 4 of your favourite colors and acceptable inputs. If the user gives an incorrect color make your program default to black."
   ]
  },
  {
   "cell_type": "code",
   "execution_count": 26,
   "metadata": {},
   "outputs": [
    {
     "name": "stdout",
     "output_type": "stream",
     "text": [
      "Unrecognised color, defaulting to black\n"
     ]
    }
   ],
   "source": [
    "def checkshape(color):\n",
    "    if color in [\"red\",\"white\",\"blue\"]:\n",
    "        return color\n",
    "    else:\n",
    "        print(\"Unrecognised color, defaulting to black\")\n",
    "        return \"square\"\n",
    "\n",
    "! python draw.py purple triangle --pencolor green"
   ]
  },
  {
   "cell_type": "code",
   "execution_count": null,
   "metadata": {},
   "outputs": [],
   "source": []
  }
 ],
 "metadata": {
  "interpreter": {
   "hash": "ad2bdc8ecc057115af97d19610ffacc2b4e99fae6737bb82f5d7fb13d2f2c186"
  },
  "kernelspec": {
   "display_name": "Python 3.9.7 ('base')",
   "language": "python",
   "name": "python3"
  },
  "language_info": {
   "codemirror_mode": {
    "name": "ipython",
    "version": 3
   },
   "file_extension": ".py",
   "mimetype": "text/x-python",
   "name": "python",
   "nbconvert_exporter": "python",
   "pygments_lexer": "ipython3",
   "version": "3.9.7"
  }
 },
 "nbformat": 4,
 "nbformat_minor": 4
}
