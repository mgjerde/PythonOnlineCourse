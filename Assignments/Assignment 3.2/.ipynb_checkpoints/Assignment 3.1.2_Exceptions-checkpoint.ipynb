{
 "cells": [
  {
   "cell_type": "markdown",
   "metadata": {},
   "source": [
    "# Exceptions\n",
    "# Stopping the programly abruptly, or not\n",
    "In this lesson we will be looking into exceptions and how they are used in code"
   ]
  },
  {
   "cell_type": "markdown",
   "metadata": {},
   "source": [
    "### Objective 1: Asserting why\n",
    "Name a few instances of exceptions you've faced in your programming experience with this course. Why is it important that programs throw exceptions to the user?"
   ]
  },
  {
   "cell_type": "markdown",
   "metadata": {},
   "source": []
  },
  {
   "cell_type": "markdown",
   "metadata": {},
   "source": [
    "### Objective 2: Catching the problem\n",
    "The `try catch` control structure is used to attempt given code and then branch into the catch if something causes an error. This way we can prevent the program from stopping altogether. Give an advantage and disadvantage of why we would want to do this."
   ]
  },
  {
   "cell_type": "markdown",
   "metadata": {},
   "source": []
  },
  {
   "cell_type": "markdown",
   "metadata": {},
   "source": [
    "### Objective 3: Go catch 'em all!\n",
    "Below is a program that evaluates the scoring of the classic boardgame Scrabble. If you are unfamiliar how it works: a word is given a score based on a preset value of each letter. So a word like \"NORWAY\" will be worth `12` points because `1+1+1+4+1+4`. However if we were to run the test cell below our program we can see several errors being thrown. Use the `test-catch` statement to gracefully return zero instead of making the whole program break."
   ]
  },
  {
   "cell_type": "code",
   "execution_count": 1,
   "metadata": {},
   "outputs": [],
   "source": [
    "values = {\n",
    "    'a' : 1, 'b' : 3, 'c': 3, 'd': 2, 'e': 1, 'f': 4, 'g': 2, 'h': 4, 'i': 1, 'j': 8, 'k': 5, 'l': 1, 'm': 3, 'n': 1, 'o': 1, \n",
    "    'p' : 3, 'q' : 10, 'r': 1, 's': 1, 't': 1, 'u': 1, 'v': 4, 'w': 4, 'x': 8, 'y': 4, 'z': 10 \n",
    "}\n",
    "def scrabble_score(word):\n",
    "    score = 0\n",
    "    for letter in word:\n",
    "        score += values[letter]\n",
    "    return score"
   ]
  },
  {
   "cell_type": "code",
   "execution_count": null,
   "metadata": {},
   "outputs": [],
   "source": [
    "print(\"norway:\", scrabble_score(\"norway\"))\n",
    "print(\"HelloWorld:\", scrabble_score(\"HelloWorld\"))\n",
    "print(\"0xDEADBEEF:\",scrabble_score(0xDEADBEEF))\n",
    "print('[\"y\",\"e\",\"s\",\"tt\",\"e\",\"r\",\"d\",\"a\",\"y\"]:', scrabble_score([\"y\",\"e\",\"s\",\"tt\",\"e\",\"r\",\"d\",\"a\",\"y\"]))"
   ]
  },
  {
   "cell_type": "code",
   "execution_count": null,
   "metadata": {},
   "outputs": [],
   "source": []
  },
  {
   "cell_type": "markdown",
   "metadata": {},
   "source": [
    "### Objective 4: Raising the bar\n",
    "We can raise exceptions in code. Write an extention to our Scrabble scoring function that causes the following errors to raise if the word being evaluated has any the following:\n",
    "* `SyntaxError` if there are capital letters\n",
    "* `TypeError` if there any numerical characters\n",
    "* `ValueError` if there any special characters like `\\'\"_` etc"
   ]
  },
  {
   "cell_type": "code",
   "execution_count": null,
   "metadata": {},
   "outputs": [],
   "source": []
  }
 ],
 "metadata": {
  "kernelspec": {
   "display_name": "Python 3 (ipykernel)",
   "language": "python",
   "name": "python3"
  },
  "language_info": {
   "codemirror_mode": {
    "name": "ipython",
    "version": 3
   },
   "file_extension": ".py",
   "mimetype": "text/x-python",
   "name": "python",
   "nbconvert_exporter": "python",
   "pygments_lexer": "ipython3",
   "version": "3.9.7"
  }
 },
 "nbformat": 4,
 "nbformat_minor": 4
}
