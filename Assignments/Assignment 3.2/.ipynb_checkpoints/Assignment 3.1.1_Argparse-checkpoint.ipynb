{
 "cells": [
  {
   "cell_type": "markdown",
   "metadata": {},
   "source": [
    "# CLA & Argparse\n",
    "# Making better command lines\n",
    "In this lesson we will be continuing our understanding and implimentation of command line arguments"
   ]
  },
  {
   "cell_type": "markdown",
   "metadata": {},
   "source": [
    "### Objective 1: Using the command line\n",
    "Create a simple program to demonstrate how to easy it is to use values inputted on the command line.\n",
    "\n",
    "In the cell below write a program they will accept at least 3 command line arguments of your choosing and then print them to the console."
   ]
  },
  {
   "cell_type": "code",
   "execution_count": null,
   "metadata": {},
   "outputs": [],
   "source": []
  },
  {
   "cell_type": "markdown",
   "metadata": {},
   "source": [
    "### Objective 2: Positional vs Optional arguments\n",
    "Below is an example of a command line input command. Explain if each of the arguments is a positional argument or an optional one, and then give a brief explanation of the difference between positional vs optional arguments"
   ]
  },
  {
   "cell_type": "markdown",
   "metadata": {},
   "source": [
    "`python downloader youtu.be/j9V78UbdzWI --format \"mp4\" -o \"coffindance\"`"
   ]
  },
  {
   "cell_type": "markdown",
   "metadata": {},
   "source": []
  },
  {
   "cell_type": "markdown",
   "metadata": {},
   "source": [
    "### Objective 3: Updating the command line\n",
    "Investigate `draw.py`. You can run the script using `! python draw.py green square`.\n",
    "\n",
    "Now edit `draw.py` program and rewrite the command line parsing section using `argparse`. Ensure the rest of the code still functions exactly the same as before, but you will need to access the stored command using `argparse.<commandname>`. Finally, since we can make certain arguments optional lets update the code to make the pen color an optional one."
   ]
  },
  {
   "cell_type": "code",
   "execution_count": 1,
   "metadata": {},
   "outputs": [],
   "source": [
    "! python draw.py green square"
   ]
  },
  {
   "cell_type": "markdown",
   "metadata": {},
   "source": [
    "### Objective 4: Adding help\n",
    "To assist the user in understanding our program create some user documentation by adding some helpful text to each argument in draw via the `help=\"text\"` parameter in the `add_argument` method."
   ]
  },
  {
   "cell_type": "markdown",
   "metadata": {},
   "source": []
  },
  {
   "cell_type": "markdown",
   "metadata": {},
   "source": [
    "### Objective 5: Typecasting\n",
    "One useful trick we can with argparse is using the `type=` paramater to set the resulting type of the input to that type instead of always a string. However, we dont strictly need to use the built-in type casting methods like `int()`, `float()`, etc, we can make our own method as long as it returns something not-none. Additionally, we can add some extra functionality, for example in `draw` we only have three acceptable shapes the program can execute. \n",
    "\n",
    "Write a type casting method to ensure may only use `square`, `triangle` and `circle` as acceptable input. If the user gives an incorrect input, warn them with print statement and then default the program to drawing a square instead of causing it to fail."
   ]
  },
  {
   "cell_type": "code",
   "execution_count": null,
   "metadata": {},
   "outputs": [],
   "source": []
  },
  {
   "cell_type": "markdown",
   "metadata": {},
   "source": [
    "### Objective 6: One more time\n",
    "Repeat the process for the optional `color` argument. This requires a little more research since the pen color can take many more colors than needed. Using `help(turtle.Turtle.fillcolor)` is recommended! To make things easy, simply encode 3 or 4 of your favourite colors and acceptable inputs. If the user gives an incorrect color make your program default to black."
   ]
  },
  {
   "cell_type": "code",
   "execution_count": null,
   "metadata": {},
   "outputs": [],
   "source": []
  }
 ],
 "metadata": {
  "kernelspec": {
   "display_name": "Python 3 (ipykernel)",
   "language": "python",
   "name": "python3"
  },
  "language_info": {
   "codemirror_mode": {
    "name": "ipython",
    "version": 3
   },
   "file_extension": ".py",
   "mimetype": "text/x-python",
   "name": "python",
   "nbconvert_exporter": "python",
   "pygments_lexer": "ipython3",
   "version": "3.9.7"
  }
 },
 "nbformat": 4,
 "nbformat_minor": 4
}
