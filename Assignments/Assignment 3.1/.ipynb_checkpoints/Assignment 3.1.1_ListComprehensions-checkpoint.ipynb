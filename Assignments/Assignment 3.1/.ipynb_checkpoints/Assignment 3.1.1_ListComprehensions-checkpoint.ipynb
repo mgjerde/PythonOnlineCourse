{
 "cells": [
  {
   "cell_type": "markdown",
   "metadata": {},
   "source": [
    "# List Comprehension\n",
    "# One liners with great power\n",
    "In this lesson we will be understanding list comprehension and why they are useful to us"
   ]
  },
  {
   "cell_type": "markdown",
   "metadata": {},
   "source": [
    "### Objective 1: A refresher\n",
    "Give a brief explanation of what a ternary expression does."
   ]
  },
  {
   "cell_type": "markdown",
   "metadata": {},
   "source": []
  },
  {
   "cell_type": "markdown",
   "metadata": {},
   "source": [
    "### Objective 2: A simple redo\n",
    "Execute the code in the cell below, then rewrite the program as a list comprehension in the cell below it to produce the same output."
   ]
  },
  {
   "cell_type": "code",
   "execution_count": 7,
   "metadata": {},
   "outputs": [
    {
     "name": "stdout",
     "output_type": "stream",
     "text": [
      "['a', 'b', 'c', 'd', 'e', 'f', 'g', 'h', 'i', 'j', 'k', 'l', 'm', 'n', 'o', 'p', 'q', 'r', 's', 't', 'u', 'v', 'w', 'x', 'y', 'z']\n"
     ]
    }
   ],
   "source": [
    "alphabet = []\n",
    "for char_code in range (97,123):\n",
    "    alphabet.append(chr(char_code))\n",
    "print(alphabet)"
   ]
  },
  {
   "cell_type": "code",
   "execution_count": null,
   "metadata": {},
   "outputs": [],
   "source": []
  },
  {
   "cell_type": "markdown",
   "metadata": {},
   "source": [
    "### Objective 3: A little more complicated redo\n",
    "In the cell below is another program that creates a list of data, but using list comprehension this can be done in less lines of code. In the cell below it rewrite the program to do so."
   ]
  },
  {
   "cell_type": "code",
   "execution_count": null,
   "metadata": {},
   "outputs": [],
   "source": [
    "from random import choice\n",
    "\n",
    "meats = [\"ham\",\"bacon\",\"pepperonni\",\"meatball\"]\n",
    "animal_prods = [\"cheddar\",\"feta\",\"anchovey\"]\n",
    "vegetables = [\"tomato\",\"pineapple\",\"mushrooms\",\"green pepper\",\"chilli\"]\n",
    "\n",
    "print(animal_prods)\n",
    "print(meats)\n",
    "print(vegetables)\n",
    "\n",
    "one_one_one_pizza = []\n",
    "for i in range (10):\n",
    "    topping1 = choice(meats)\n",
    "    topping2 = choice(animal_prods)\n",
    "    topping3 = choice(vegetables)\n",
    "    one_one_one_pizza.append((topping1,topping2,topping3))\n",
    "print (one_one_one_pizza)"
   ]
  },
  {
   "cell_type": "code",
   "execution_count": null,
   "metadata": {},
   "outputs": [],
   "source": [
    "# Better list creation here!"
   ]
  },
  {
   "cell_type": "markdown",
   "metadata": {},
   "source": [
    "### Objective 4: More pizza is better pizza\n",
    "Using your solution to Objective 3, copy your list comprehension code and write two additional comprehensions that creates 10 vegetarian pizzas (no meat) and 10 vegan pizza (no meat or animal products), each with 3 random toppings."
   ]
  },
  {
   "cell_type": "code",
   "execution_count": null,
   "metadata": {},
   "outputs": [],
   "source": [
    "vegetarian_pizzas = [] # TODO\n",
    "vegan_pizzas = [] # TODO"
   ]
  },
  {
   "cell_type": "markdown",
   "metadata": {},
   "source": [
    "### Objective 5: Comprehending unlimited power\n",
    "The data belows shows the salary of employees with the respective number hours completed and their hourly wage. Create a list of the total number of money that needs to be paid out per person. The data should be a form a tuple with two elements, the name of the person and the total amount due to them."
   ]
  },
  {
   "cell_type": "code",
   "execution_count": null,
   "metadata": {},
   "outputs": [],
   "source": [
    "person = [\"John\",\"Jill\",\"Olga\",\"Bobby\",\"Winston\"]\n",
    "hourly = [15.99,10.25,19.50,13.59,60.0]\n",
    "worked = [140,200,125,99,100]\n",
    "\n",
    "\n",
    "# [(John, 2238.60), (Jill, ..., etc...]"
   ]
  },
  {
   "cell_type": "markdown",
   "metadata": {},
   "source": [
    "### Objective 6: Classify the payrolls\n",
    "Using the list above classify each person's wage bracket into the following criteria:\n",
    "* 0-2000: Low income\n",
    "* 2000-4000: Medium income\n",
    "* 4000+: High income\n",
    "\n",
    "Create a list with a printable statement that reads \"Person is has a Low income of XXXX\"."
   ]
  },
  {
   "cell_type": "code",
   "execution_count": null,
   "metadata": {},
   "outputs": [],
   "source": [
    "# result should be: [\"John has a Medium income of 2238.0\",\"... etc]"
   ]
  }
 ],
 "metadata": {
  "kernelspec": {
   "display_name": "Python 3 (ipykernel)",
   "language": "python",
   "name": "python3"
  },
  "language_info": {
   "codemirror_mode": {
    "name": "ipython",
    "version": 3
   },
   "file_extension": ".py",
   "mimetype": "text/x-python",
   "name": "python",
   "nbconvert_exporter": "python",
   "pygments_lexer": "ipython3",
   "version": "3.9.7"
  }
 },
 "nbformat": 4,
 "nbformat_minor": 4
}
