{
 "cells": [
  {
   "cell_type": "markdown",
   "metadata": {},
   "source": [
    "# Generators\n",
    "# Data when you need it\n",
    "In this lesson we will be understanding how to create and use generators"
   ]
  },
  {
   "cell_type": "markdown",
   "metadata": {},
   "source": [
    "### Objective 1: Yieldings results!\n",
    "How can we convert a regular method that returns an object into a generator method?"
   ]
  },
  {
   "cell_type": "markdown",
   "metadata": {},
   "source": [
    "change the `return` keyword into `yield`"
   ]
  },
  {
   "cell_type": "markdown",
   "metadata": {},
   "source": [
    "### Objective 2: Wield and yield\n",
    "Below is an example of a method that returns a random set of lottery numbers every time it is called. Run the code to ensure you understand how it works, then rewrite it in the cell below as a generator function. Rename your fucntion to `generate_lottery_numbers`"
   ]
  },
  {
   "cell_type": "code",
   "execution_count": 1,
   "metadata": {},
   "outputs": [
    {
     "name": "stdout",
     "output_type": "stream",
     "text": [
      "[1, 3, 18, 20, 39]\n"
     ]
    }
   ],
   "source": [
    "from random import randint\n",
    "def lottery_numbers(numbers_in_ticket):\n",
    "    ticket = set()\n",
    "    for n in range(numbers_in_ticket):\n",
    "        number = None\n",
    "        while (number is None or number in ticket):\n",
    "            number = randint(1,51) # pick a random that is not in the ticket\n",
    "        ticket.add(number)\n",
    "    return sorted(ticket) \n",
    "\n",
    "print(lottery_numbers(5))"
   ]
  },
  {
   "cell_type": "code",
   "execution_count": 24,
   "metadata": {},
   "outputs": [],
   "source": [
    "from random import randint\n",
    "\n",
    "def generate_lottery_numbers():\n",
    "    ticket = set()\n",
    "    for n in range(5):\n",
    "        number = None\n",
    "        while(number is None or number in ticket):\n",
    "            number = randint(1,51)\n",
    "        ticket.add(number)\n",
    "    yield sorted(ticket)\n"
   ]
  },
  {
   "cell_type": "markdown",
   "metadata": {},
   "source": [
    "### Objective 3: Make it work\n",
    "When we call `generate_lottery_numbers()` it returns a `generator` object. How can we get the values out? Demonstrate two methods in code below."
   ]
  },
  {
   "cell_type": "code",
   "execution_count": 32,
   "metadata": {},
   "outputs": [
    {
     "name": "stdout",
     "output_type": "stream",
     "text": [
      "[6, 19, 21, 23, 47]\n",
      "[13, 21, 38, 39, 51]\n"
     ]
    }
   ],
   "source": [
    "# We could use the next keyword to get the next set of values.\n",
    "print(next(generate_lottery_numbers()))\n",
    "# We could also use a for loop to return all values stored in the generator (hard to show here since i'm only return one set of numbers at a time)\n",
    "for numbers in generate_lottery_numbers():\n",
    "    print (numbers)\n"
   ]
  },
  {
   "cell_type": "markdown",
   "metadata": {},
   "source": [
    "### Objective 4: Generating mass objects\n",
    "Write a program that opens `alice_in_wonderland` that reads every line of text only when needed and then catalogs the instance of every word into a dictionary. Your program must make use of a generator to handle the file input."
   ]
  },
  {
   "cell_type": "code",
   "execution_count": 3,
   "metadata": {},
   "outputs": [],
   "source": [
    "alicelines = (line for line in open(\"alice_in_wonderland.txt\",\"r\"))\n",
    "words = {}\n",
    "index = 0\n",
    "for line in alicelines:\n",
    "    for word in line.split():\n",
    "        words.setdefault(index,word)\n",
    "        index += 1"
   ]
  },
  {
   "cell_type": "code",
   "execution_count": null,
   "metadata": {},
   "outputs": [],
   "source": []
  }
 ],
 "metadata": {
  "interpreter": {
   "hash": "ad2bdc8ecc057115af97d19610ffacc2b4e99fae6737bb82f5d7fb13d2f2c186"
  },
  "kernelspec": {
   "display_name": "Python 3.9.7 ('base')",
   "language": "python",
   "name": "python3"
  },
  "language_info": {
   "codemirror_mode": {
    "name": "ipython",
    "version": 3
   },
   "file_extension": ".py",
   "mimetype": "text/x-python",
   "name": "python",
   "nbconvert_exporter": "python",
   "pygments_lexer": "ipython3",
   "version": "3.9.7"
  }
 },
 "nbformat": 4,
 "nbformat_minor": 4
}
