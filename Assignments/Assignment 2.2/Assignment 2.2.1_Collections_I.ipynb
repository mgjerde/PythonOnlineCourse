{
 "cells": [
  {
   "cell_type": "markdown",
   "metadata": {},
   "source": [
    "# Collections I\n",
    "# Lists, sets and tuples\n",
    "In this lesson we will be expanding our understanding of Python collections "
   ]
  },
  {
   "cell_type": "markdown",
   "metadata": {},
   "source": [
    "### Objective 1: Conversions\n",
    "In the cell below convert the `mountain` variable to a list, a set, and a tuple, into the corresponding variables. Print and investigate the resulting collection and give a brief explanation and example of where you would use each collection."
   ]
  },
  {
   "cell_type": "code",
   "execution_count": 14,
   "metadata": {},
   "outputs": [
    {
     "name": "stdout",
     "output_type": "stream",
     "text": [
      "['Eyjafjallajokull'] {'Eyjafjallajokull'} ('Eyjafjallajokull',)\n"
     ]
    }
   ],
   "source": [
    "mountain = \"Eyjafjallajokull\"\n",
    "lst_mountain = [mountain]\n",
    "set_mountain = {mountain}\n",
    "tup_mountain = tuple([mountain])\n",
    "print(lst_mountain,set_mountain,tup_mountain)"
   ]
  },
  {
   "cell_type": "markdown",
   "metadata": {},
   "source": [
    "* I would use a `list` collection when I have a dataset that might need changing of either length and/or the values itself\n",
    "* i would use a `set` collection when I have a dataset where the values has to be unique, and where you want to manipulate data between two or more sets.\n",
    "* I would use a `tuple` collection when I have a dataset that has both a fixed length and values that will not be changed"
   ]
  },
  {
   "cell_type": "markdown",
   "metadata": {},
   "source": [
    "### Objective 2: Cleaning lists\n",
    "In the cell below there is a variable called `data` which is data points collected by an overworked student. They have made some errors in their data collection methodology so it is up to you to make sure no incorrect data makes it into the rest of our program. Write a method called `clean_data` which will take in a list, and returns a list with all erroneous data removed. The data must only be in one list (no lists within lists), each item is a word as a string object, and each item may not contain numbers like 2 or 3 etc."
   ]
  },
  {
   "cell_type": "code",
   "execution_count": 28,
   "metadata": {},
   "outputs": [
    {
     "data": {
      "text/plain": [
       "['distance',\n",
       " 'ratios',\n",
       " 'tacocat',\n",
       " 'alpha',\n",
       " 'eve',\n",
       " 'distinction',\n",
       " 'replication',\n",
       " 'exam',\n",
       " 'collective']"
      ]
     },
     "execution_count": 28,
     "metadata": {},
     "output_type": "execute_result"
    }
   ],
   "source": [
    "data = [[\"distance\"],\"ratios\",\"tacocat\",[\"alpha2\",\"alpha\"],\"eve\",[\"distinction\",\"replication\",\"exam\"],\"collective\",\"OPTI0NAL\"]\n",
    "\n",
    "def clean_data(datapoints:list):\n",
    "    cleaned = list()\n",
    "    edited = False\n",
    "    untangled = list()\n",
    "    for datapoint in datapoints:\n",
    "        if isinstance(datapoint, list):\n",
    "            for datapointlist in datapoint:\n",
    "                untangled.append(datapointlist)\n",
    "        else:\n",
    "            untangled.append(datapoint)\n",
    "    \n",
    "    for datapoint in untangled:\n",
    "        if datapoint.isalpha() and isinstance(datapoint, str):\n",
    "            cleaned.append(datapoint)\n",
    "    return cleaned\n",
    "clean_data(data)"
   ]
  },
  {
   "cell_type": "markdown",
   "metadata": {},
   "source": [
    "### Objective 3: Setting the standard\n",
    "What is the difference between a list and a set?"
   ]
  },
  {
   "cell_type": "markdown",
   "metadata": {},
   "source": [
    "lists can change the value of its elements, can be accessed by their index, and can contain duplicates, while sets are immutable, every element has to be unique and it can be manipulated with some mathematical operations specific to sets."
   ]
  },
  {
   "cell_type": "markdown",
   "metadata": {},
   "source": [
    "### Objective 4: Ready, `set`, go!\n",
    "Convert the lists below into sets, then use the built in set functions to get the following results between `a` and `b`:\n",
    "* union\n",
    "* difference\n",
    "* symmetric_difference\n",
    "* subset"
   ]
  },
  {
   "cell_type": "code",
   "execution_count": 36,
   "metadata": {},
   "outputs": [
    {
     "name": "stdout",
     "output_type": "stream",
     "text": [
      "{96, 97, 98, 99, 100, 101, 102, 103, 91, 92, 93, 94, 95}\n",
      "{91, 92, 93, 94, 95}\n",
      "{100, 101, 102, 103, 91, 92, 93, 94, 95}\n",
      "False\n"
     ]
    }
   ],
   "source": [
    "a = [91,92,93,94,95,96,97,98,99]\n",
    "b = [96,97,98,99,100,101,102,103]\n",
    "a = set(a)\n",
    "b = set(b)\n",
    "\n",
    "print(a.union(b))\n",
    "print(a.difference(b))\n",
    "print(a.symmetric_difference(b))\n",
    "print(a.issubset(b))"
   ]
  },
  {
   "cell_type": "markdown",
   "metadata": {},
   "source": [
    "### Objective 5: Lottery calculator\n",
    "In the national lottery, six numbers between 1 and 50 (inclusive) are chosen at random. Players may play up 5 tickets of six numbers per drawing. Create a program that calculates how much money a player has won, assuming the following paramters:\n",
    "* The winning lottery numbers for a particular draw is download and saved in `winning_numbers`\n",
    "* Allow a user to insert up to five tickets of 6 numbers to play in the lottery. Each entry must be unique to the current set they are completing.\n",
    "* After all their tickets are entered the program must calculate how many numbers in each set matched the winning numbers and won a prize.\n",
    "* The rewards for each number of matches are as follows: \n",
    " * 0 = 0 NOK\n",
    " * 1 = 5 NOK\n",
    " * 2 = 20 NOK\n",
    " * 3 = 50 NOK\n",
    " * 4 = 300 NOK\n",
    " * 5 = 1000 NOK\n",
    " * 6 = 100000 NOK\n",
    "* Each ticket costs 10 NOK to play\n",
    "* Your program must pretty print how much money they've won in total and their overall profit (after reducting the price of their tickets).\n",
    "\n",
    "Hint: Sets might be a good approach to solving this problem\n"
   ]
  },
  {
   "cell_type": "code",
   "execution_count": 46,
   "metadata": {},
   "outputs": [
    {
     "name": "stdout",
     "output_type": "stream",
     "text": [
      "The numbers in ticket number 1: [3, 13, 18, 19, 21, 38]\n",
      "The numbers in ticket number 2: [4, 16, 22, 24, 39, 42]\n",
      "The numbers in ticket number 3: [7, 13, 18, 21, 26, 37]\n",
      "The numbers in ticket number 4: [4, 12, 28, 36, 38, 49]\n",
      "The numbers in ticket number 5: [2, 16, 31, 37, 45, 46]\n",
      "Total winnings:\t15\n",
      "Overall profit:\t-35\n"
     ]
    }
   ],
   "source": [
    "from random import sample\n",
    "winning_numbers = [5,8,21,36,48,50]\n",
    "\n",
    "# Not sure what you ment by pretty print?\n",
    "\n",
    "def check_tickets(tickets):\n",
    "    wn = set(winning_numbers)\n",
    "    total_winnings = 0\n",
    "    if len(tickets) <= 5:\n",
    "        for ticket in tickets:\n",
    "            matches = len(wn.intersection(ticket))\n",
    "            if matches == 1:\n",
    "                total_winnings += 5\n",
    "            elif matches == 2:\n",
    "                total_winnings += 20\n",
    "            elif matches == 3:\n",
    "                total_winnings += 50\n",
    "            elif matches == 4:\n",
    "                total_winnings += 300\n",
    "            elif matches == 5:\n",
    "                total_winnings += 1000\n",
    "            elif matches == 6:\n",
    "                total_winnings += 100000\n",
    "        print(f\"Total winnings:\\t{total_winnings}\")\n",
    "        print(f\"Overall profit:\\t{total_winnings-(len(tickets)*10)}\")\n",
    "    else:\n",
    "        print(\"Error: Somehow too many tickets\")\n",
    "            \n",
    "def input_tickets():\n",
    "    amount = None\n",
    "    tickets = list()\n",
    "    while(not amount or amount > 5 ):\n",
    "        amount = input(\"How many tickets? (max 5\")\n",
    "        amount = int(amount) if amount.isdigit() else None\n",
    "    \n",
    "    for numticket in range(amount):\n",
    "        ticket = set(sample(range(1,50),6))\n",
    "        tickets.append(ticket)\n",
    "        print(f\"The numbers in ticket number {numticket + 1}: {sorted(ticket)}\") # I know this wasnt part of the assignment, but it looks better :p\n",
    "    check_tickets(tickets)\n",
    "\n",
    "input_tickets()\n",
    "\n"
   ]
  }
 ],
 "metadata": {
  "interpreter": {
   "hash": "ad2bdc8ecc057115af97d19610ffacc2b4e99fae6737bb82f5d7fb13d2f2c186"
  },
  "kernelspec": {
   "display_name": "Python 3.9.7 ('base')",
   "language": "python",
   "name": "python3"
  },
  "language_info": {
   "codemirror_mode": {
    "name": "ipython",
    "version": 3
   },
   "file_extension": ".py",
   "mimetype": "text/x-python",
   "name": "python",
   "nbconvert_exporter": "python",
   "pygments_lexer": "ipython3",
   "version": "3.9.7"
  }
 },
 "nbformat": 4,
 "nbformat_minor": 4
}
