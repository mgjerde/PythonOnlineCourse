{
 "cells": [
  {
   "cell_type": "markdown",
   "metadata": {},
   "source": [
    "# Collections II\n",
    "# Dictionaries\n",
    "In this lesson we will be expanding our understanding of Python collections, specifically dicts."
   ]
  },
  {
   "cell_type": "markdown",
   "metadata": {},
   "source": [
    "### Objective 1: A step above\n",
    "What is the defining feature of a dictionary over the other collections?"
   ]
  },
  {
   "cell_type": "markdown",
   "metadata": {},
   "source": [
    "That you pair values with an immutable key. e.g: `a = {\"name\": \"Marius\"}` would lett you access the value `Marius` by referencing the key `name` with `a['name']`"
   ]
  },
  {
   "cell_type": "markdown",
   "metadata": {},
   "source": [
    "### Objective 2: A dict-ted to you\n",
    "Create a dict with key value pairs that descibe you. The following keys must be added to the dict: `name`, `surname`, `date_of_birth`, `eye_color`,`hair_color`, `favourite_music_genre`, `favourite_day_of_week`. Add at least 3 more data entries that start with `favourite_`."
   ]
  },
  {
   "cell_type": "code",
   "execution_count": 1,
   "metadata": {},
   "outputs": [],
   "source": [
    "me = {\"name\":\"Marius\", \"surname\":\"Gjerde\",\"date_of_birth\":\"190883\",\"eyecolor\":\"Blue\",\"hair_color\":\"Brown\",\"favourite_music_genre\":\"Electro Swing\",\"favourite_day_of_week\":\"Saturday\",\"favourite_number\":7,\"favourite_author\":\"Scott Lynch\", \"favourite_entry_in_this_dictionary\":\"This one of course\"}"
   ]
  },
  {
   "cell_type": "markdown",
   "metadata": {},
   "source": [
    "### Objective 3: Valid keys\n",
    "Explain why strings, tuples, and numerics are valid keys but lists are not. How can you test if a certain data type is a valid key?"
   ]
  },
  {
   "cell_type": "markdown",
   "metadata": {},
   "source": [
    "The reason you cannot use lists as a key is because it needs to be immutable. The reason for this is that the key needs to be turned into a hash.\n",
    "You cant test a datatype by using the method `hash()`"
   ]
  },
  {
   "cell_type": "markdown",
   "metadata": {},
   "source": [
    "### Objective 4: Valid values\n",
    "Are there any restrictions to values? Create a dict that demonstrates values with at least one of the following value types: `string`, `int`, `float`, `list`, `tuple`, `dict`, `set`."
   ]
  },
  {
   "cell_type": "markdown",
   "metadata": {},
   "source": [
    "Dicionaries accept all types of objects, so there are no restrictions."
   ]
  },
  {
   "cell_type": "code",
   "execution_count": 20,
   "metadata": {},
   "outputs": [],
   "source": [
    "example = {\"string\":\"A string\",\"int\": 7, \"float\":2.3,\"list\":list(),\"tuple\":(\"Part 1\",2),\"dict\":{\"this\":\"is a dict in a dict\"},\"set\":{\"this\",\"a\",\"set\"}}\n",
    "\n"
   ]
  },
  {
   "cell_type": "markdown",
   "metadata": {},
   "source": [
    "### Objective 5: Accessing key values\n",
    "Using the data stored in `me` do the following:\n",
    "* Access and print the values for `name` and `surname`\n",
    "* Iterate through the dict and print the key and value for every entry that has `favourite` in the key name."
   ]
  },
  {
   "cell_type": "code",
   "execution_count": 33,
   "metadata": {},
   "outputs": [
    {
     "name": "stdout",
     "output_type": "stream",
     "text": [
      "Marius Gjerde\n",
      "favourite_music_genre Electro Swing\n",
      "favourite_day_of_week Saturday\n",
      "favourite_number 7\n",
      "favourite_author Scott Lynch\n",
      "favourite_entry_in_this_dictionary This one of course\n"
     ]
    }
   ],
   "source": [
    "print(me[\"name\"],me[\"surname\"])\n",
    "for key in me:\n",
    "    if \"favourite\" in key:\n",
    "        print(key, me[key])"
   ]
  },
  {
   "cell_type": "markdown",
   "metadata": {},
   "source": [
    "### Objective 6: Changing your mind\n",
    "Manually change the values in `me` for every key that starts with `favourite` to values of your second favourites. Prove the values change by repeating the second part to your solution in the obective above."
   ]
  },
  {
   "cell_type": "code",
   "execution_count": 34,
   "metadata": {},
   "outputs": [
    {
     "name": "stdout",
     "output_type": "stream",
     "text": [
      "favourite_music_genre Metal\n",
      "favourite_day_of_week Friday\n",
      "favourite_number 6047\n",
      "favourite_author Patrick Rothfuss\n",
      "favourite_entry_in_this_dictionary date_of_birth\n"
     ]
    }
   ],
   "source": [
    "me[\"favourite_music_genre\"] = \"Metal\"\n",
    "me[\"favourite_day_of_week\"] = \"Friday\"\n",
    "me[\"favourite_number\"] = 6047\n",
    "me[\"favourite_author\"] = \"Patrick Rothfuss\"\n",
    "me[\"favourite_entry_in_this_dictionary\"] = \"date_of_birth\"\n",
    "\n",
    "for key in me:\n",
    "    if \"favourite\" in key:\n",
    "        print(key, me[key])\n"
   ]
  }
 ],
 "metadata": {
  "interpreter": {
   "hash": "ad2bdc8ecc057115af97d19610ffacc2b4e99fae6737bb82f5d7fb13d2f2c186"
  },
  "kernelspec": {
   "display_name": "Python 3.9.7 ('base')",
   "language": "python",
   "name": "python3"
  },
  "language_info": {
   "codemirror_mode": {
    "name": "ipython",
    "version": 3
   },
   "file_extension": ".py",
   "mimetype": "text/x-python",
   "name": "python",
   "nbconvert_exporter": "python",
   "pygments_lexer": "ipython3",
   "version": "3.9.7"
  }
 },
 "nbformat": 4,
 "nbformat_minor": 4
}
