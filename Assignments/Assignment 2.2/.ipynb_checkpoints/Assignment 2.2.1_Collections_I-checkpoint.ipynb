{
 "cells": [
  {
   "cell_type": "markdown",
   "metadata": {},
   "source": [
    "# Collections I\n",
    "# Lists, sets and tuples\n",
    "In this lesson we will be expanding our understanding of Python collections "
   ]
  },
  {
   "cell_type": "markdown",
   "metadata": {},
   "source": [
    "### Objective 1: Conversions\n",
    "In the cell below convert the `mountain` variable to a list, a set, and a tuple, into the corresponding variables. Print and investigate the resulting collection and give a brief explanation and example of where you would use each collection."
   ]
  },
  {
   "cell_type": "code",
   "execution_count": null,
   "metadata": {},
   "outputs": [],
   "source": [
    "mountain = \"Eyjafjallajokull\"\n",
    "lst_mountain =\n",
    "set_mountain =\n",
    "tup_mountain ="
   ]
  },
  {
   "cell_type": "markdown",
   "metadata": {},
   "source": []
  },
  {
   "cell_type": "markdown",
   "metadata": {},
   "source": [
    "### Objective 2: Cleaning lists\n",
    "In the cell below there is a variable called `data` which is data points collected by an overworked student. They have made some errors in their data collection methodology so it is up to you to make sure no incorrect data makes it into the rest of our program. Write a method called `clean_data` which will take in a list, and returns a list with all erroneous data removed. The data must only be in one list (no lists within lists), each item is a word as a string object, and each item may not contain numbers like 2 or 3 etc."
   ]
  },
  {
   "cell_type": "code",
   "execution_count": null,
   "metadata": {},
   "outputs": [],
   "source": [
    "data = [[\"distance\"],\"ratios\",\"tacocat\",[\"alpha2\",\"alpha\"],\"eve\",[\"distinction\",\"replication\",\"exam\"],\"collective\",\"OPTI0NAL\"]\n",
    "\n",
    "#TODO: Clean data here\n",
    "\n",
    "clean_data(data)"
   ]
  },
  {
   "cell_type": "markdown",
   "metadata": {},
   "source": [
    "### Objective 3: Setting the standard\n",
    "What is the difference between a list and a set?"
   ]
  },
  {
   "cell_type": "markdown",
   "metadata": {},
   "source": []
  },
  {
   "cell_type": "markdown",
   "metadata": {},
   "source": [
    "### Objective 4: Ready, `set`, go!\n",
    "Convert the lists below into sets, then use the built in set functions to get the following results between `a` and `b`:\n",
    "* union\n",
    "* difference\n",
    "* symmetric_difference\n",
    "* subset"
   ]
  },
  {
   "cell_type": "code",
   "execution_count": null,
   "metadata": {},
   "outputs": [],
   "source": [
    "a = [91,92,93,94,95,96,97,98,99]\n",
    "b = [96,97,98,99,100,101,102,103]"
   ]
  },
  {
   "cell_type": "markdown",
   "metadata": {},
   "source": [
    "### Objective 5: Lottery calculator\n",
    "In the national lottery, six numbers between 1 and 50 (inclusive) are chosen at random. Players may play up 5 tickets of six numbers per drawing. Create a program that calculates how much money a player has won, assuming the following paramters:\n",
    "* The winning lottery numbers for a particular draw is download and saved in `winning_numbers`\n",
    "* Allow a user to insert up to five tickets of 6 numbers to play in the lottery. Each entry must be unique to the current set they are completing.\n",
    "* After all their tickets are entered the program must calculate how many numbers in each set matched the winning numbers and won a prize.\n",
    "* The rewards for each number of matches are as follows: \n",
    " * 0 = 0 NOK\n",
    " * 1 = 5 NOK\n",
    " * 2 = 20 NOK\n",
    " * 3 = 50 NOK\n",
    " * 4 = 300 NOK\n",
    " * 5 = 1000 NOK\n",
    " * 6 = 100000 NOK\n",
    "* Each ticket costs 10 NOK to play\n",
    "* Your program must pretty print how much money they've won in total and their overall profit (after reducting the price of their tickets).\n",
    "\n",
    "Hint: Sets might be a good approach to solving this problem\n"
   ]
  },
  {
   "cell_type": "code",
   "execution_count": null,
   "metadata": {},
   "outputs": [],
   "source": [
    "winning_numbers = [5,8,21,36,48,50]"
   ]
  }
 ],
 "metadata": {
  "kernelspec": {
   "display_name": "Python 3 (ipykernel)",
   "language": "python",
   "name": "python3"
  },
  "language_info": {
   "codemirror_mode": {
    "name": "ipython",
    "version": 3
   },
   "file_extension": ".py",
   "mimetype": "text/x-python",
   "name": "python",
   "nbconvert_exporter": "python",
   "pygments_lexer": "ipython3",
   "version": "3.9.7"
  }
 },
 "nbformat": 4,
 "nbformat_minor": 4
}
