{
 "cells": [
  {
   "cell_type": "markdown",
   "metadata": {},
   "source": [
    "# Collections II\n",
    "# Dictionaries\n",
    "In this lesson we will be expanding our understanding of Python collections, specifically dicts."
   ]
  },
  {
   "cell_type": "markdown",
   "metadata": {},
   "source": [
    "### Objective 1: A step above\n",
    "What is the defining feature of a dictionary over the other collections?"
   ]
  },
  {
   "cell_type": "code",
   "execution_count": null,
   "metadata": {},
   "outputs": [],
   "source": []
  },
  {
   "cell_type": "markdown",
   "metadata": {},
   "source": [
    "### Objective 2: A dict-ted to you\n",
    "Create a dict with key value pairs that descibe you. The following keys must be added to the dict: `name`, `surname`, `date_of_birth`, `eye_color`,`hair_color`, `favourite_music_genre`, `favourite_day_of_week`. Add at least 3 more data entries that start with `favourite_`."
   ]
  },
  {
   "cell_type": "code",
   "execution_count": null,
   "metadata": {},
   "outputs": [],
   "source": [
    "me = { #TODO: add key value pairs here }"
   ]
  },
  {
   "cell_type": "markdown",
   "metadata": {},
   "source": [
    "### Objective 3: Valid keys\n",
    "Explain why strings, tuples, and numerics are valid keys but lists are not. How can you test if a certain data type is a valid key?"
   ]
  },
  {
   "cell_type": "code",
   "execution_count": null,
   "metadata": {},
   "outputs": [],
   "source": []
  },
  {
   "cell_type": "markdown",
   "metadata": {},
   "source": [
    "### Objective 4: Valid values\n",
    "Are there any restrictions to values? Create a dict that demonstrates values with at least one of the following value types: `string`, `int`, `float`, `list`, `tuple`, `dict`, `set`."
   ]
  },
  {
   "cell_type": "markdown",
   "metadata": {},
   "source": []
  },
  {
   "cell_type": "code",
   "execution_count": null,
   "metadata": {},
   "outputs": [],
   "source": [
    "example = { }"
   ]
  },
  {
   "cell_type": "markdown",
   "metadata": {},
   "source": [
    "### Objective 5: Accessing key values\n",
    "Using the data stored in `me` do the following:\n",
    "* Access and print the values for `name` and `surname`\n",
    "* Iterate through the dict and print the key and value for every entry that has `favourite` in the key name."
   ]
  },
  {
   "cell_type": "code",
   "execution_count": null,
   "metadata": {},
   "outputs": [],
   "source": []
  },
  {
   "cell_type": "markdown",
   "metadata": {},
   "source": [
    "### Objective 6: Changing your mind\n",
    "Manually change the values in `me` for every key that starts with `favourite` to values of your second favourites. Prove the values change by repeating the second part to your solution in the obective above."
   ]
  },
  {
   "cell_type": "code",
   "execution_count": null,
   "metadata": {},
   "outputs": [],
   "source": []
  }
 ],
 "metadata": {
  "kernelspec": {
   "display_name": "Python 3 (ipykernel)",
   "language": "python",
   "name": "python3"
  },
  "language_info": {
   "codemirror_mode": {
    "name": "ipython",
    "version": 3
   },
   "file_extension": ".py",
   "mimetype": "text/x-python",
   "name": "python",
   "nbconvert_exporter": "python",
   "pygments_lexer": "ipython3",
   "version": "3.9.7"
  }
 },
 "nbformat": 4,
 "nbformat_minor": 4
}
