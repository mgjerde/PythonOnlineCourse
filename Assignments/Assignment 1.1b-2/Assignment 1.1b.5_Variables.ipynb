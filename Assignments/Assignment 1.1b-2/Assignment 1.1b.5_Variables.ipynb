{
 "cells": [
  {
   "cell_type": "markdown",
   "metadata": {},
   "source": [
    "# Assignment: Variables\n",
    "## Assignment, usage, and destruction.\n",
    "In this lesson you will be exploring the use of variables, how they are assigned, used, and ultimately destroyed"
   ]
  },
  {
   "cell_type": "markdown",
   "metadata": {},
   "source": [
    "### Objective 1 : Indentity\n",
    "Explain what an **identifier** is, and give and example of one."
   ]
  },
  {
   "cell_type": "markdown",
   "metadata": {},
   "source": [
    "an identifier is a variable name that can be assigned with data so that the script can access this data\n",
    "\n",
    "```python\n",
    "  x = 100\n",
    "# ^ this is the identifier\n",
    "```"
   ]
  },
  {
   "cell_type": "markdown",
   "metadata": {},
   "source": [
    "### Objective 2 : Values\n",
    "Explain what a **value** is, and give and example of one."
   ]
  },
  {
   "cell_type": "markdown",
   "metadata": {
    "tags": []
   },
   "source": [
    "a value is data stored in a variable\n",
    "\n",
    "```python\n",
    "  x = 100\n",
    "#      ^ this is the value\n",
    "```"
   ]
  },
  {
   "cell_type": "markdown",
   "metadata": {
    "tags": []
   },
   "source": [
    "### Objective 3: Memory\n",
    "Explain briefly what happens when you assign value to a variable."
   ]
  },
  {
   "cell_type": "markdown",
   "metadata": {},
   "source": [
    "When you assignt the value to a variable, the intepreter stores the value in memory for easy access within the script."
   ]
  },
  {
   "cell_type": "markdown",
   "metadata": {},
   "source": [
    "### Objective 4: Creating variables\n",
    "Create three variables with the identifiers `alpha`, `beta`, and `delta`, and assign any values you wish to them."
   ]
  },
  {
   "cell_type": "code",
   "execution_count": 1,
   "metadata": {},
   "outputs": [],
   "source": [
    "alpha = 100\n",
    "beta = 200\n",
    "delta = 300"
   ]
  },
  {
   "cell_type": "markdown",
   "metadata": {},
   "source": [
    "### Objective 5: Accessing values\n",
    "Use the `print()` method to display each value stored in the variables `alpha`, `beta`, and `delta`."
   ]
  },
  {
   "cell_type": "code",
   "execution_count": 2,
   "metadata": {},
   "outputs": [
    {
     "name": "stdout",
     "output_type": "stream",
     "text": [
      "100 200 300\n"
     ]
    }
   ],
   "source": [
    "print(alpha, beta, delta)"
   ]
  },
  {
   "cell_type": "markdown",
   "metadata": {},
   "source": [
    "### Objective 6: Deletion\n",
    "Delete the values stored in `alpha`, `beta`, `delta`, and `epsilon`. "
   ]
  },
  {
   "cell_type": "code",
   "execution_count": 3,
   "metadata": {},
   "outputs": [],
   "source": [
    "epsilon = 400\n",
    "del(alpha, beta, delta, epsilon)"
   ]
  },
  {
   "cell_type": "markdown",
   "metadata": {},
   "source": [
    "### Objective 7: Bringing it all together\n",
    "Write a small program that assigns at least two variables with the values `100` and `200`. Manipulate the values in any way you wish and then demonstrate the values had changed using the `print()` statement. Finally, delete the variables."
   ]
  },
  {
   "cell_type": "code",
   "execution_count": 4,
   "metadata": {},
   "outputs": [
    {
     "name": "stdout",
     "output_type": "stream",
     "text": [
      "100 200\n",
      "300 500\n"
     ]
    }
   ],
   "source": [
    "x = 100\n",
    "y = 200\n",
    "print(x,y)\n",
    "x = x + y\n",
    "y = y + x\n",
    "print(x,y)\n",
    "del(x,y)"
   ]
  }
 ],
 "metadata": {
  "kernelspec": {
   "display_name": "Python 3 (ipykernel)",
   "language": "python",
   "name": "python3"
  },
  "language_info": {
   "codemirror_mode": {
    "name": "ipython",
    "version": 3
   },
   "file_extension": ".py",
   "mimetype": "text/x-python",
   "name": "python",
   "nbconvert_exporter": "python",
   "pygments_lexer": "ipython3",
   "version": "3.9.7"
  }
 },
 "nbformat": 4,
 "nbformat_minor": 4
}
