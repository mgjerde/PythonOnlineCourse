{
 "cells": [
  {
   "cell_type": "markdown",
   "metadata": {},
   "source": [
    "# Assignment: Markdown\n",
    "## Welcome to your first Notebook assignment!\n",
    "In this lesson you will practice creating Markdown cells, editing them, and producing a professionally formatted document. To do this assignment read the objectives carefully then use the blank fields underneath them to complete the task. \\\n",
    "Hint: use the [cheatsheet](https://github.com/adam-p/markdown-here/wiki/Markdown-Cheatsheet) to help you out!"
   ]
  },
  {
   "cell_type": "markdown",
   "metadata": {},
   "source": [
    "### Objective 1\n",
    "Convert the blank cell below to a Markdown cell and type out your name, surname, date of birth, and favourite food. Then 'run' the cell."
   ]
  },
  {
   "cell_type": "markdown",
   "metadata": {},
   "source": [
    "Marius Gjerde, 19.aug, favourite food is ever changing, but right now i'm eating a breadroll"
   ]
  },
  {
   "cell_type": "markdown",
   "metadata": {},
   "source": [
    "### Objective 2\n",
    "Insert a new cell below this one, convert it to a Markdown cell, and type out your favourite song and the artist who composed it. Then add italics to the song title, and make the artists name bold."
   ]
  },
  {
   "cell_type": "markdown",
   "metadata": {},
   "source": [
    "Also ever changing but i'm currently listening to: *Everything Black* - **Unlike Pluto**"
   ]
  },
  {
   "cell_type": "markdown",
   "metadata": {},
   "source": [
    "### Objective 3\n",
    "Write a short paragraph on your favourite things you do for fun. Your writing must have following in the correct format: A heading, a subheading, an unordered list with at least 3 bullet points, a url to an example Youtube video for at least one thing."
   ]
  },
  {
   "cell_type": "markdown",
   "metadata": {},
   "source": [
    "# Favourite things\n",
    "## of things to do\n",
    "* Watching football\n",
    "* Gaming with friends\n",
    "* Boardgames\n",
    "\n",
    "[Youtube](https://www.youtube.com/watch?v=UR1jOM3dx6I)\n"
   ]
  },
  {
   "cell_type": "markdown",
   "metadata": {},
   "source": [
    "### Objective 4\n",
    "Search for and insert an image from the internet. The image must display visually (not a url link).\n",
    "\n",
    "hint: `![]()`"
   ]
  },
  {
   "cell_type": "markdown",
   "metadata": {},
   "source": [
    "![](https://imgs.xkcd.com/comics/entwives.png)"
   ]
  }
 ],
 "metadata": {
  "kernelspec": {
   "display_name": "Python 3 (ipykernel)",
   "language": "python",
   "name": "python3"
  },
  "language_info": {
   "codemirror_mode": {
    "name": "ipython",
    "version": 3
   },
   "file_extension": ".py",
   "mimetype": "text/x-python",
   "name": "python",
   "nbconvert_exporter": "python",
   "pygments_lexer": "ipython3",
   "version": "3.9.7"
  }
 },
 "nbformat": 4,
 "nbformat_minor": 4
}
