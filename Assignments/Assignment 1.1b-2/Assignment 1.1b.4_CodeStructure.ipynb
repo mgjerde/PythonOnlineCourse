{
 "cells": [
  {
   "cell_type": "markdown",
   "metadata": {},
   "source": [
    "# Assignment: Code Structure\n",
    "## Let's get to making some Python magic!\n",
    "In this lesson you will be writing your first sets of Python code and expand your understanding about expressions."
   ]
  },
  {
   "cell_type": "markdown",
   "metadata": {},
   "source": [
    "### Objective 1 : Expressions\n",
    "What is an expression? What are the three components an expression is made from? Give an example of an expression and short explanation of each its component. "
   ]
  },
  {
   "cell_type": "markdown",
   "metadata": {},
   "source": [
    "An expression is a set of instructions to the intepreter to tell it what to do with said components.\n",
    "\n",
    "identifier, operator and value\n",
    "\n",
    "astring = \"This is a string\"\n",
    "\n",
    "**astring** would be the identifier that the rest of the script would reference to get the set value\n",
    "\n",
    "**=** would be the operator that tells the intepreter what to do with the identifier and value, in this case store the value in the identifier\n",
    "\n",
    "**value** would be the data that is stored in the identifier"
   ]
  },
  {
   "cell_type": "markdown",
   "metadata": {},
   "source": [
    "### Objective 2 : Hello World\n",
    "Write code that will output the words **hello world**."
   ]
  },
  {
   "cell_type": "code",
   "execution_count": 1,
   "metadata": {},
   "outputs": [
    {
     "name": "stdout",
     "output_type": "stream",
     "text": [
      "hello world\n"
     ]
    }
   ],
   "source": [
    "print(\"hello world\")"
   ]
  },
  {
   "cell_type": "markdown",
   "metadata": {},
   "source": [
    "### Objective 3 : Practicing Expressions\n",
    "Write a single expression in each the cells below that will output the following numbers using the desired expression\n",
    "* An addition expression with the result beung exactly 100\n",
    "* A subtraction expression with the result being exactly -77\n",
    "* A multplication expression with the result being exactly 2000\n",
    "* A division expression with the result being exactly 9"
   ]
  },
  {
   "cell_type": "code",
   "execution_count": 2,
   "metadata": {},
   "outputs": [
    {
     "data": {
      "text/plain": [
       "100"
      ]
     },
     "execution_count": 2,
     "metadata": {},
     "output_type": "execute_result"
    }
   ],
   "source": [
    "22 + 78"
   ]
  },
  {
   "cell_type": "code",
   "execution_count": 3,
   "metadata": {},
   "outputs": [
    {
     "data": {
      "text/plain": [
       "-77"
      ]
     },
     "execution_count": 3,
     "metadata": {},
     "output_type": "execute_result"
    }
   ],
   "source": [
    "100-177"
   ]
  },
  {
   "cell_type": "code",
   "execution_count": 4,
   "metadata": {},
   "outputs": [
    {
     "data": {
      "text/plain": [
       "2000"
      ]
     },
     "execution_count": 4,
     "metadata": {},
     "output_type": "execute_result"
    }
   ],
   "source": [
    "25*80"
   ]
  },
  {
   "cell_type": "code",
   "execution_count": 5,
   "metadata": {},
   "outputs": [
    {
     "data": {
      "text/plain": [
       "9.0"
      ]
     },
     "execution_count": 5,
     "metadata": {},
     "output_type": "execute_result"
    }
   ],
   "source": [
    "81/9"
   ]
  },
  {
   "cell_type": "markdown",
   "metadata": {},
   "source": [
    "### Objective 4 : Order & Precedence\n",
    "The order of operations are rules which explain how code is evaluated arithmatically. By default Python evaluates expressions similarly to the [Mathetmatical order of operations](https://en.wikipedia.org/wiki/Order_of_operations). However, we are able to change the order by introducing paretheses to the expression to give precedence on how expressions are evaluated.  \n",
    "\n",
    "Modify the code in the cells below to match the desired output. You may only add open parentheses '(' and closing parentheses ')' to each expression."
   ]
  },
  {
   "cell_type": "code",
   "execution_count": 6,
   "metadata": {},
   "outputs": [
    {
     "data": {
      "text/plain": [
       "-5.4"
      ]
     },
     "execution_count": 6,
     "metadata": {},
     "output_type": "execute_result"
    }
   ],
   "source": [
    "# Output must be -5.4\n",
    "10 + (55 - 99) * 7 / 20 "
   ]
  },
  {
   "cell_type": "code",
   "execution_count": 7,
   "metadata": {},
   "outputs": [
    {
     "data": {
      "text/plain": [
       "-11.9"
      ]
     },
     "execution_count": 7,
     "metadata": {},
     "output_type": "execute_result"
    }
   ],
   "source": [
    "# Output must be -11.9\n",
    "(10 + 55 - 99) * 7 / 20"
   ]
  },
  {
   "cell_type": "code",
   "execution_count": 8,
   "metadata": {},
   "outputs": [
    {
     "data": {
      "text/plain": [
       "-31.4"
      ]
     },
     "execution_count": 8,
     "metadata": {},
     "output_type": "execute_result"
    }
   ],
   "source": [
    "# Output must be -31.4\n",
    "(10 + 55 - 99 * 7) / 20"
   ]
  },
  {
   "cell_type": "markdown",
   "metadata": {},
   "source": [
    "### Objective 5 : Indentation\n",
    "Later in the course we will be learning how to use control structures to modify the flow of how our program is interpreted, this requires the use of indentation to satisfy code blocks being read correctly. In the code below add the expression `print(x)` in two positions to get the outputs 100.0 and 50.0 respectively."
   ]
  },
  {
   "cell_type": "code",
   "execution_count": 9,
   "metadata": {},
   "outputs": [
    {
     "name": "stdout",
     "output_type": "stream",
     "text": [
      "100.0\n",
      "50.0\n"
     ]
    }
   ],
   "source": [
    "x = 200\n",
    "if x > 100:\n",
    "    x = x / 2\n",
    "    print(x)\n",
    "if x == 100:\n",
    "    if True:\n",
    "        x = x - 50 \n",
    "        print(x)"
   ]
  },
  {
   "cell_type": "markdown",
   "metadata": {},
   "source": [
    "### Objective 6 : Comments\n",
    "Comments are a quintessential part of good coding practice. Edit the code and add an example of an in-line comment and new line comment. Then use a comment to disable the line of code that produces the output `('a','b','c')`."
   ]
  },
  {
   "cell_type": "code",
   "execution_count": 2,
   "metadata": {},
   "outputs": [
    {
     "name": "stdout",
     "output_type": "stream",
     "text": [
      "3\n"
     ]
    }
   ],
   "source": [
    "abc = \"a\",\"b\",\"c\" # This is an in-line comment\n",
    "# This is new line comment\n",
    "# print(abc)\n",
    "print(len(abc))"
   ]
  }
 ],
 "metadata": {
  "kernelspec": {
   "display_name": "Python 3 (ipykernel)",
   "language": "python",
   "name": "python3"
  },
  "language_info": {
   "codemirror_mode": {
    "name": "ipython",
    "version": 3
   },
   "file_extension": ".py",
   "mimetype": "text/x-python",
   "name": "python",
   "nbconvert_exporter": "python",
   "pygments_lexer": "ipython3",
   "version": "3.9.7"
  }
 },
 "nbformat": 4,
 "nbformat_minor": 4
}
