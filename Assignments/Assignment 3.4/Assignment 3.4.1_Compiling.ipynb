{
 "cells": [
  {
   "cell_type": "markdown",
   "metadata": {},
   "source": [
    "# Assignment 3.4.1: Compiling\n",
    "# Compiling Python into something everyone can use!\n",
    "In this lesson we will be learning what compiling is and we can create .exe for our Python programs"
   ]
  },
  {
   "cell_type": "markdown",
   "metadata": {},
   "source": [
    "### Objective 1: Compile or interpret?\n",
    "Use your favourite online search engine to research the terms `compiler` and `intepreter`. In your own words explain what the difference between running a program through an interpreter and a compiler is. "
   ]
  },
  {
   "cell_type": "markdown",
   "metadata": {},
   "source": [
    "a `compiler` is software that takes the code that you have written and \"translate\"(compiles) it into code that your operating system can run.\n",
    "\n",
    "an `ìntepreter` is software that directly takes the code and runs it without needing to compile it first"
   ]
  },
  {
   "cell_type": "markdown",
   "metadata": {},
   "source": [
    "### Objective 2: Icy!\n",
    "What does it mean when a compiler \"freezes\" a program? "
   ]
  },
  {
   "cell_type": "markdown",
   "metadata": {},
   "source": [
    "Freezing a program means the compiler has converted the code into an executable file. The freezing wording refers to the executable being \"frozen\" and thus not ediable, so to change the way the program works the code would need to be compiled again into a new executable."
   ]
  },
  {
   "cell_type": "markdown",
   "metadata": {},
   "source": [
    "### Objective 3: Compiling flightgen\n",
    "Copy the code for `flightgen` from the course notes into a new .py file and execute the file to ensure it is working correctly. Then using `pyinstaller` create a single one-file .exe program from `flightgen.py`. After it is compiled execute the .exe and compare the output to that of the .py. Run the new flightgen.exe using `!flightgen.exe` below. Submit flightgen.exe along with the rest of today's assignment package for evaluation"
   ]
  },
  {
   "cell_type": "code",
   "execution_count": null,
   "metadata": {},
   "outputs": [],
   "source": [
    "!flightgen.exe\n",
    "\n",
    "# i had some problems running the file through Notebooks, but it does execute fine from the command prompt"
   ]
  }
 ],
 "metadata": {
  "interpreter": {
   "hash": "ad2bdc8ecc057115af97d19610ffacc2b4e99fae6737bb82f5d7fb13d2f2c186"
  },
  "kernelspec": {
   "display_name": "Python 3 (ipykernel)",
   "language": "python",
   "name": "python3"
  },
  "language_info": {
   "codemirror_mode": {
    "name": "ipython",
    "version": 3
   },
   "file_extension": ".py",
   "mimetype": "text/x-python",
   "name": "python",
   "nbconvert_exporter": "python",
   "pygments_lexer": "ipython3",
   "version": "3.9.7"
  }
 },
 "nbformat": 4,
 "nbformat_minor": 4
}
