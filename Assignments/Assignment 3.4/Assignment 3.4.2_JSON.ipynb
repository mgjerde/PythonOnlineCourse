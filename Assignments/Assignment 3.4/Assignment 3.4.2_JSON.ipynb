{
 "cells": [
  {
   "cell_type": "markdown",
   "metadata": {},
   "source": [
    "# Assignment 3.4.2: JSON\n",
    "# Ah JavaScript, our old friend.\n",
    "In this lesson we will be learning what JSON is used for and how it we can quickly manipulate JSON objects in Python."
   ]
  },
  {
   "cell_type": "markdown",
   "metadata": {},
   "source": [
    "### Objective 1: Serial or deserial \n",
    "What is the difference between serialization and deserialization when using JSON in Python? "
   ]
  },
  {
   "cell_type": "markdown",
   "metadata": {},
   "source": [
    "Serialization in the context of JSON is the action of turning data from python classes into a readable format that can be transfered.\n",
    "\n",
    "Deserialization is the action of turning the JSON syntaxed data back into python readable data."
   ]
  },
  {
   "cell_type": "markdown",
   "metadata": {},
   "source": [
    "### Objective 2: Getting ready for JSON\n",
    "Below is class object for Boat objects. Execute the cell and make sure you understand how the objects are generated. Then write a `toDict` class function that will convert our Boat into a Dictionary object. Ensure all the properties of our Boat object is present in the dict, use the property variable names and suitable string keys. i.e.\n",
    "```\n",
    "{\n",
    "    \"type\": _type,\n",
    "    \"model\": _model,\n",
    "    #...etc\n",
    "}\n",
    "```"
   ]
  },
  {
   "cell_type": "code",
   "execution_count": 7,
   "metadata": {},
   "outputs": [],
   "source": [
    "class Boat:\n",
    "    _type = None\n",
    "    _model = None\n",
    "    _color = None\n",
    "    _engines = None\n",
    "    _topspeed = None\n",
    "\n",
    "    def __init__(self,t,m,c,e,ts):\n",
    "        self._type = t\n",
    "        self._model = m\n",
    "        self._color = c\n",
    "        self._engines = list(e)\n",
    "        self._topspeed = int(ts)\n",
    "    \n",
    "    def __str__(self):\n",
    "        return f\"A {self._type} Boat, model {self._model}. {len(self._engines)} engine{'' if len(self._engines) == 1 else 's'} with a top speed of {self._topspeed} knots.\"\n",
    "    \n",
    "    def toDict(self):\n",
    "        boatDict = { \n",
    "            \"type\": self._type,\n",
    "            \"model\": self._model,\n",
    "            \"color\": self._color,\n",
    "            \"engines\": self._engines,\n",
    "            \"topspeed\": self._topspeed\n",
    "        }\n",
    "        return boatDict\n"
   ]
  },
  {
   "cell_type": "code",
   "execution_count": 8,
   "metadata": {},
   "outputs": [
    {
     "name": "stdout",
     "output_type": "stream",
     "text": [
      "A Fishing Boat, model Yamaha 5000. 2 engines with a top speed of 80 knots.\n"
     ]
    }
   ],
   "source": [
    "y500 = Boat(\"Fishing\",\"Yamaha 5000\",\"Blue and White\",[\"Mariner 50\",\"Mariner 50\"],80)\n",
    "sbx3 = Boat(\"Dingey\",\"Supersport Blueline X3\",\"Yellow\",[],5)\n",
    "ebbb = Boat(\"Speedboat\",\"Essential BBB\",\"Red and White\",[\"Pegasus 5000\"],100)\n",
    "print(y500)\n"
   ]
  },
  {
   "cell_type": "markdown",
   "metadata": {},
   "source": [
    "### Objective 3: Ship it!\n",
    "Convert our `y500`, `sbx3`, `ebbb` objects into JSON and print the resulting text to console and output them to a text filed called `Boats.json`. \n",
    "\n",
    "*Hint: We put all that effort into making toDict, let's make sure we use it here!*"
   ]
  },
  {
   "cell_type": "code",
   "execution_count": 17,
   "metadata": {},
   "outputs": [
    {
     "name": "stdout",
     "output_type": "stream",
     "text": [
      "[\n",
      "    {\n",
      "        \"type\": \"Fishing\",\n",
      "        \"model\": \"Yamaha 5000\",\n",
      "        \"color\": \"Blue and White\",\n",
      "        \"engines\": [\n",
      "            \"Mariner 50\",\n",
      "            \"Mariner 50\"\n",
      "        ],\n",
      "        \"topspeed\": 80\n",
      "    },\n",
      "    {\n",
      "        \"type\": \"Dingey\",\n",
      "        \"model\": \"Supersport Blueline X3\",\n",
      "        \"color\": \"Yellow\",\n",
      "        \"engines\": [],\n",
      "        \"topspeed\": 5\n",
      "    },\n",
      "    {\n",
      "        \"type\": \"Speedboat\",\n",
      "        \"model\": \"Essential BBB\",\n",
      "        \"color\": \"Red and White\",\n",
      "        \"engines\": [\n",
      "            \"Pegasus 5000\"\n",
      "        ],\n",
      "        \"topspeed\": 100\n",
      "    }\n",
      "]\n"
     ]
    }
   ],
   "source": [
    "import json\n",
    "\n",
    "with open(\"Boats.json\",\"w\") as file_out:\n",
    "    output = json.dumps([y500.toDict(),sbx3.toDict(),ebbb.toDict()],indent=4)\n",
    "    print(output)\n",
    "    file_out.write(output)\n"
   ]
  },
  {
   "cell_type": "markdown",
   "metadata": {},
   "source": [
    "### Ojective 4: Read it back to me\n",
    "Using our new `Boats.json` file as input, read our data back into memory using `json.load`. Print the resulting dicts to console to prove you understand how to load JSON into memory"
   ]
  },
  {
   "cell_type": "code",
   "execution_count": 18,
   "metadata": {},
   "outputs": [
    {
     "name": "stdout",
     "output_type": "stream",
     "text": [
      "{'type': 'Fishing', 'model': 'Yamaha 5000', 'color': 'Blue and White', 'engines': ['Mariner 50', 'Mariner 50'], 'topspeed': 80}\n"
     ]
    }
   ],
   "source": [
    "with open(\"Boats.json\",\"r\") as file_in:\n",
    "    boats = json.load(file_in)\n",
    "\n",
    "y500 = boats[0]\n",
    "sbx3 = boats[1]\n",
    "ebbb = boats[2]\n",
    "\n",
    "print(y500)"
   ]
  }
 ],
 "metadata": {
  "interpreter": {
   "hash": "ad2bdc8ecc057115af97d19610ffacc2b4e99fae6737bb82f5d7fb13d2f2c186"
  },
  "kernelspec": {
   "display_name": "Python 3.9.7 ('base')",
   "language": "python",
   "name": "python3"
  },
  "language_info": {
   "codemirror_mode": {
    "name": "ipython",
    "version": 3
   },
   "file_extension": ".py",
   "mimetype": "text/x-python",
   "name": "python",
   "nbconvert_exporter": "python",
   "pygments_lexer": "ipython3",
   "version": "3.9.7"
  }
 },
 "nbformat": 4,
 "nbformat_minor": 4
}
