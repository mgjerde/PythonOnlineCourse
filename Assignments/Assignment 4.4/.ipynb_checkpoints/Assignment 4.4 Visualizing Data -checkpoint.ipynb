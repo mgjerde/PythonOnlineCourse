{
 "cells": [
  {
   "cell_type": "markdown",
   "metadata": {},
   "source": [
    "# Assignment 4.4: Visualizing Data\n",
    "# Turning pandas into graphs\n",
    "In this lesson we will be learning how to solve data analysis questions by integrating visualization tools"
   ]
  },
  {
   "cell_type": "markdown",
   "metadata": {},
   "source": [
    "### Objective 1: Prepare the workspace\n",
    "In the cell below: import `matplotlib.pyplot` as `plt`, `pandas` as `pd`, `seaborn` as `sns`, and enable inline graphing.\n",
    "\n",
    "Then load `bank_users.csv` into a new DataFrame object. Render the DataFrame and observe the output."
   ]
  },
  {
   "cell_type": "code",
   "execution_count": null,
   "metadata": {},
   "outputs": [],
   "source": [
    "# TODO: Prepare notebook for plt, pd, sns, and inline graphing"
   ]
  },
  {
   "cell_type": "code",
   "execution_count": null,
   "metadata": {},
   "outputs": [],
   "source": [
    "# TODO: Read csv into a new DataFrame object"
   ]
  },
  {
   "cell_type": "markdown",
   "metadata": {},
   "source": [
    "### Objective 2: Investigating employment\n",
    "A large portion of our user base is unemployed. What is the current unemployment rate that we can observe? Use a corresponding graph to show this proportion."
   ]
  },
  {
   "cell_type": "code",
   "execution_count": null,
   "metadata": {},
   "outputs": [],
   "source": []
  },
  {
   "cell_type": "markdown",
   "metadata": {},
   "source": [
    "### Objective 3: Describing the numbers\n",
    "Describe the shape of savings and credits all our users, create a side-by-side box plot to visually show their difference.\n",
    "\n",
    "*hint: the shape can be inferred by looking at a trend line, its either increasing, decreasing or neither*"
   ]
  },
  {
   "cell_type": "code",
   "execution_count": null,
   "metadata": {},
   "outputs": [],
   "source": []
  },
  {
   "cell_type": "markdown",
   "metadata": {},
   "source": [
    "### Objective 4: Net balance\n",
    "Determine the net balance of all of users accounts, this is `savings - credit`. Then determine if being employed causes a positive net balance or negative."
   ]
  },
  {
   "cell_type": "code",
   "execution_count": null,
   "metadata": {},
   "outputs": [],
   "source": []
  },
  {
   "cell_type": "markdown",
   "metadata": {},
   "source": [
    "### Objective 5: Gendered jobs\n",
    "Is there a relationship between employment titles and gender? Show the listing of three most popular titles with their respective male and female proportions (exclude unemployed)."
   ]
  },
  {
   "cell_type": "code",
   "execution_count": null,
   "metadata": {},
   "outputs": [],
   "source": []
  },
  {
   "cell_type": "markdown",
   "metadata": {},
   "source": [
    "### Objective 6: Future marketing\n",
    "Our bank wishes to create an ad campaign targeting the most successful job **markets**. Use the data to determine which job market has the highest disposable income and would be the best candidates for our campaign.\n",
    "\n",
    "*hint: net balance would be a good indicator of this, but the employment column needs to be cleaned of extended titles like II and IV first!*"
   ]
  },
  {
   "cell_type": "code",
   "execution_count": null,
   "metadata": {},
   "outputs": [],
   "source": []
  },
  {
   "cell_type": "markdown",
   "metadata": {},
   "source": [
    "### Objective 7: Export all visuals\n",
    "Export all the visualizations you created into standalone .png files. Then create a report using those images to explain your findings for objectives 2 to 6."
   ]
  },
  {
   "cell_type": "code",
   "execution_count": null,
   "metadata": {},
   "outputs": [],
   "source": []
  }
 ],
 "metadata": {
  "kernelspec": {
   "display_name": "Python 3",
   "language": "python",
   "name": "python3"
  },
  "language_info": {
   "codemirror_mode": {
    "name": "ipython",
    "version": 3
   },
   "file_extension": ".py",
   "mimetype": "text/x-python",
   "name": "python",
   "nbconvert_exporter": "python",
   "pygments_lexer": "ipython3",
   "version": "3.8.5"
  }
 },
 "nbformat": 4,
 "nbformat_minor": 4
}
