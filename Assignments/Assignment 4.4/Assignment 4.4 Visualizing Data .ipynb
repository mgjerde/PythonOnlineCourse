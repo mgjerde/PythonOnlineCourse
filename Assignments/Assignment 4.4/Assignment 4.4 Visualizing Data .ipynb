{
 "cells": [
  {
   "cell_type": "markdown",
   "metadata": {},
   "source": [
    "# Assignment 4.4: Visualizing Data\n",
    "# Turning pandas into graphs\n",
    "In this lesson we will be learning how to solve data analysis questions by integrating visualization tools"
   ]
  },
  {
   "cell_type": "markdown",
   "metadata": {},
   "source": [
    "### Objective 1: Prepare the workspace\n",
    "In the cell below: import `matplotlib.pyplot` as `plt`, `pandas` as `pd`, `seaborn` as `sns`, and enable inline graphing.\n",
    "\n",
    "Then load `bank_users.csv` into a new DataFrame object. Render the DataFrame and observe the output."
   ]
  },
  {
   "cell_type": "code",
   "execution_count": 1,
   "metadata": {},
   "outputs": [],
   "source": [
    "# TODO: Prepare notebook for plt, pd, sns, and inline graphing\n",
    "import matplotlib.pyplot as plt\n",
    "import pandas as pd\n",
    "import seaborn as sns\n",
    "\n",
    "%matplotlib inline"
   ]
  },
  {
   "cell_type": "code",
   "execution_count": 8,
   "metadata": {},
   "outputs": [
    {
     "data": {
      "text/html": [
       "<div>\n",
       "<style scoped>\n",
       "    .dataframe tbody tr th:only-of-type {\n",
       "        vertical-align: middle;\n",
       "    }\n",
       "\n",
       "    .dataframe tbody tr th {\n",
       "        vertical-align: top;\n",
       "    }\n",
       "\n",
       "    .dataframe thead th {\n",
       "        text-align: right;\n",
       "    }\n",
       "</style>\n",
       "<table border=\"1\" class=\"dataframe\">\n",
       "  <thead>\n",
       "    <tr style=\"text-align: right;\">\n",
       "      <th></th>\n",
       "      <th>id</th>\n",
       "      <th>first name</th>\n",
       "      <th>gender</th>\n",
       "      <th>employment</th>\n",
       "      <th>savings</th>\n",
       "      <th>credit</th>\n",
       "    </tr>\n",
       "  </thead>\n",
       "  <tbody>\n",
       "    <tr>\n",
       "      <th>0</th>\n",
       "      <td>3326</td>\n",
       "      <td>Helen-elizabeth Yitzhakov</td>\n",
       "      <td>Male</td>\n",
       "      <td>Internal Auditor</td>\n",
       "      <td>17118.98</td>\n",
       "      <td>1058.92</td>\n",
       "    </tr>\n",
       "    <tr>\n",
       "      <th>1</th>\n",
       "      <td>3327</td>\n",
       "      <td>Chicky Lillywhite</td>\n",
       "      <td>Female</td>\n",
       "      <td>Social Worker</td>\n",
       "      <td>9642.24</td>\n",
       "      <td>4771.27</td>\n",
       "    </tr>\n",
       "    <tr>\n",
       "      <th>2</th>\n",
       "      <td>3328</td>\n",
       "      <td>Pansie Bramont</td>\n",
       "      <td>Female</td>\n",
       "      <td>Clinical Specialist</td>\n",
       "      <td>11481.72</td>\n",
       "      <td>12199.88</td>\n",
       "    </tr>\n",
       "    <tr>\n",
       "      <th>3</th>\n",
       "      <td>3329</td>\n",
       "      <td>Candra McGiven</td>\n",
       "      <td>Male</td>\n",
       "      <td>Media Manager IV</td>\n",
       "      <td>6015.33</td>\n",
       "      <td>8353.39</td>\n",
       "    </tr>\n",
       "    <tr>\n",
       "      <th>4</th>\n",
       "      <td>3330</td>\n",
       "      <td>Carol Bartul</td>\n",
       "      <td>Female</td>\n",
       "      <td>Civil Engineer</td>\n",
       "      <td>8261.59</td>\n",
       "      <td>6047.53</td>\n",
       "    </tr>\n",
       "    <tr>\n",
       "      <th>...</th>\n",
       "      <td>...</td>\n",
       "      <td>...</td>\n",
       "      <td>...</td>\n",
       "      <td>...</td>\n",
       "      <td>...</td>\n",
       "      <td>...</td>\n",
       "    </tr>\n",
       "    <tr>\n",
       "      <th>968</th>\n",
       "      <td>4294</td>\n",
       "      <td>Tarrah Derr</td>\n",
       "      <td>Male</td>\n",
       "      <td>Human Resources Manager</td>\n",
       "      <td>19407.71</td>\n",
       "      <td>8438.94</td>\n",
       "    </tr>\n",
       "    <tr>\n",
       "      <th>969</th>\n",
       "      <td>4295</td>\n",
       "      <td>Theda McIlvaney</td>\n",
       "      <td>Female</td>\n",
       "      <td>Desktop Support Technician</td>\n",
       "      <td>19405.38</td>\n",
       "      <td>13267.43</td>\n",
       "    </tr>\n",
       "    <tr>\n",
       "      <th>970</th>\n",
       "      <td>4296</td>\n",
       "      <td>Sinclair Coulman</td>\n",
       "      <td>Male</td>\n",
       "      <td>Desktop Support Technician</td>\n",
       "      <td>8789.93</td>\n",
       "      <td>7185.13</td>\n",
       "    </tr>\n",
       "    <tr>\n",
       "      <th>971</th>\n",
       "      <td>4297</td>\n",
       "      <td>Mathilda Goldsworthy</td>\n",
       "      <td>Male</td>\n",
       "      <td>Chief Design Engineer</td>\n",
       "      <td>13945.43</td>\n",
       "      <td>2705.41</td>\n",
       "    </tr>\n",
       "    <tr>\n",
       "      <th>972</th>\n",
       "      <td>4298</td>\n",
       "      <td>Zared Glanfield</td>\n",
       "      <td>Male</td>\n",
       "      <td>Accounting Assistant I</td>\n",
       "      <td>16916.80</td>\n",
       "      <td>1481.91</td>\n",
       "    </tr>\n",
       "  </tbody>\n",
       "</table>\n",
       "<p>973 rows × 6 columns</p>\n",
       "</div>"
      ],
      "text/plain": [
       "       id                 first name  gender                  employment  \\\n",
       "0    3326  Helen-elizabeth Yitzhakov    Male            Internal Auditor   \n",
       "1    3327          Chicky Lillywhite  Female               Social Worker   \n",
       "2    3328             Pansie Bramont  Female         Clinical Specialist   \n",
       "3    3329             Candra McGiven    Male            Media Manager IV   \n",
       "4    3330               Carol Bartul  Female              Civil Engineer   \n",
       "..    ...                        ...     ...                         ...   \n",
       "968  4294                Tarrah Derr    Male     Human Resources Manager   \n",
       "969  4295            Theda McIlvaney  Female  Desktop Support Technician   \n",
       "970  4296           Sinclair Coulman    Male  Desktop Support Technician   \n",
       "971  4297       Mathilda Goldsworthy    Male       Chief Design Engineer   \n",
       "972  4298            Zared Glanfield    Male      Accounting Assistant I   \n",
       "\n",
       "      savings    credit  \n",
       "0    17118.98   1058.92  \n",
       "1     9642.24   4771.27  \n",
       "2    11481.72  12199.88  \n",
       "3     6015.33   8353.39  \n",
       "4     8261.59   6047.53  \n",
       "..        ...       ...  \n",
       "968  19407.71   8438.94  \n",
       "969  19405.38  13267.43  \n",
       "970   8789.93   7185.13  \n",
       "971  13945.43   2705.41  \n",
       "972  16916.80   1481.91  \n",
       "\n",
       "[973 rows x 6 columns]"
      ]
     },
     "execution_count": 8,
     "metadata": {},
     "output_type": "execute_result"
    }
   ],
   "source": [
    "# TODO: Read csv into a new DataFrame object\n",
    "df = pd.read_csv(\"bank_users.csv\")\n",
    "df"
   ]
  },
  {
   "cell_type": "markdown",
   "metadata": {},
   "source": [
    "### Objective 2: Investigating employment\n",
    "A large portion of our user base is unemployed. What is the current unemployment rate that we can observe? Use a corresponding graph to show this proportion."
   ]
  },
  {
   "cell_type": "code",
   "execution_count": 50,
   "metadata": {},
   "outputs": [
    {
     "data": {
      "text/plain": [
       "175"
      ]
     },
     "execution_count": 50,
     "metadata": {},
     "output_type": "execute_result"
    },
    {
     "data": {
      "image/png": "[encoded data removed]",
      "text/plain": [
       "<Figure size 1080x1080 with 1 Axes>"
      ]
     },
     "metadata": {
      "needs_background": "light"
     },
     "output_type": "display_data"
    }
   ],
   "source": [
    "fig = plt.figure(figsize=(15,15))\n",
    "ax1 = fig.add_subplot(1,1,1)\n",
    "\n",
    "\n",
    "employment = df[\"id\"].groupby(df[\"employment\"]).apply(lambda x: x if x.item == \"Unemployed\" else \"Employed\").count()\n",
    "# filtered = employment if \n",
    "\n",
    "def beep(test):\n",
    "    if test < employment.max():\n",
    "        return \"Employed\"\n",
    "    else:\n",
    "        return test\n",
    "\n",
    "# employment.plot.pie(ax = ax1)\n",
    "# employment.apply(lambda x: \"employed\" if x == employment.count().max() else \"Employed\").count()\n",
    "\n",
    "employment\n",
    "# filtered"
   ]
  },
  {
   "cell_type": "markdown",
   "metadata": {},
   "source": [
    "### Objective 3: Describing the numbers\n",
    "Describe the shape of savings and credits all our users, create a side-by-side box plot to visually show their difference.\n",
    "\n",
    "*hint: the shape can be inferred by looking at a trend line, its either increasing, decreasing or neither*"
   ]
  },
  {
   "cell_type": "code",
   "execution_count": null,
   "metadata": {},
   "outputs": [],
   "source": []
  },
  {
   "cell_type": "markdown",
   "metadata": {},
   "source": [
    "### Objective 4: Net balance\n",
    "Determine the net balance of all of users accounts, this is `savings - credit`. Then determine if being employed causes a positive net balance or negative."
   ]
  },
  {
   "cell_type": "code",
   "execution_count": null,
   "metadata": {},
   "outputs": [],
   "source": []
  },
  {
   "cell_type": "markdown",
   "metadata": {},
   "source": [
    "### Objective 5: Gendered jobs\n",
    "Is there a relationship between employment titles and gender? Show the listing of three most popular titles with their respective male and female proportions (exclude unemployed)."
   ]
  },
  {
   "cell_type": "code",
   "execution_count": null,
   "metadata": {},
   "outputs": [],
   "source": []
  },
  {
   "cell_type": "markdown",
   "metadata": {},
   "source": [
    "### Objective 6: Future marketing\n",
    "Our bank wishes to create an ad campaign targeting the most successful job **markets**. Use the data to determine which job market has the highest disposable income and would be the best candidates for our campaign.\n",
    "\n",
    "*hint: net balance would be a good indicator of this, but the employment column needs to be cleaned of extended titles like II and IV first!*"
   ]
  },
  {
   "cell_type": "code",
   "execution_count": null,
   "metadata": {},
   "outputs": [],
   "source": []
  },
  {
   "cell_type": "markdown",
   "metadata": {},
   "source": [
    "### Objective 7: Export all visuals\n",
    "Export all the visualizations you created into standalone .png files. Then create a report using those images to explain your findings for objectives 2 to 6."
   ]
  },
  {
   "cell_type": "code",
   "execution_count": null,
   "metadata": {},
   "outputs": [],
   "source": []
  }
 ],
 "metadata": {
  "interpreter": {
   "hash": "ad2bdc8ecc057115af97d19610ffacc2b4e99fae6737bb82f5d7fb13d2f2c186"
  },
  "kernelspec": {
   "display_name": "Python 3.9.7 ('base')",
   "language": "python",
   "name": "python3"
  },
  "language_info": {
   "codemirror_mode": {
    "name": "ipython",
    "version": 3
   },
   "file_extension": ".py",
   "mimetype": "text/x-python",
   "name": "python",
   "nbconvert_exporter": "python",
   "pygments_lexer": "ipython3",
   "version": "3.9.7"
  }
 },
 "nbformat": 4,
 "nbformat_minor": 4
}
