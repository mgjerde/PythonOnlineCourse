{
 "cells": [
  {
   "cell_type": "markdown",
   "metadata": {},
   "source": [
    "# Assignment 4.2: Working with Data\n",
    "# Grouping data 👥 and applying aggregations 💹\n",
    "In this lesson we will be learning how to group data around a common factor and then applying aggragates to derive information"
   ]
  },
  {
   "cell_type": "markdown",
   "metadata": {},
   "source": [
    "### Objective 1: Lock and load\n",
    "For the majoirty of this assignment we will be using the cleaned data set from `Sales_September2019.xlsx`. \n",
    "\n",
    "Import pandas as `pd` and then read in our spreadsheet into a variable called `df`. Render `df` to the notebook and observe the output, take note of the column names and the content of the rows."
   ]
  },
  {
   "cell_type": "code",
   "execution_count": 15,
   "metadata": {},
   "outputs": [
    {
     "data": {
      "text/html": [
       "<div>\n",
       "<style scoped>\n",
       "    .dataframe tbody tr th:only-of-type {\n",
       "        vertical-align: middle;\n",
       "    }\n",
       "\n",
       "    .dataframe tbody tr th {\n",
       "        vertical-align: top;\n",
       "    }\n",
       "\n",
       "    .dataframe thead th {\n",
       "        text-align: right;\n",
       "    }\n",
       "</style>\n",
       "<table border=\"1\" class=\"dataframe\">\n",
       "  <thead>\n",
       "    <tr style=\"text-align: right;\">\n",
       "      <th></th>\n",
       "      <th>Order ID</th>\n",
       "      <th>Product</th>\n",
       "      <th>Quantity Ordered</th>\n",
       "      <th>Price Each</th>\n",
       "      <th>Order Date</th>\n",
       "      <th>Purchase Address</th>\n",
       "    </tr>\n",
       "  </thead>\n",
       "  <tbody>\n",
       "    <tr>\n",
       "      <th>0</th>\n",
       "      <td>248151</td>\n",
       "      <td>AA Batteries (4-pack)</td>\n",
       "      <td>4</td>\n",
       "      <td>3.84</td>\n",
       "      <td>09/17/19 14:44</td>\n",
       "      <td>Storgata 33, 4307, Sandnes</td>\n",
       "    </tr>\n",
       "    <tr>\n",
       "      <th>1</th>\n",
       "      <td>248152</td>\n",
       "      <td>USB-C Charging Cable</td>\n",
       "      <td>2</td>\n",
       "      <td>11.95</td>\n",
       "      <td>09/29/19 10:19</td>\n",
       "      <td>Steinkleiva 4, 4631, Kristiansand</td>\n",
       "    </tr>\n",
       "    <tr>\n",
       "      <th>2</th>\n",
       "      <td>248153</td>\n",
       "      <td>USB-C Charging Cable</td>\n",
       "      <td>1</td>\n",
       "      <td>11.95</td>\n",
       "      <td>09/16/19 17:48</td>\n",
       "      <td>Munkegata 23, 7011, Trondheim</td>\n",
       "    </tr>\n",
       "    <tr>\n",
       "      <th>3</th>\n",
       "      <td>248154</td>\n",
       "      <td>27in FHD Monitor</td>\n",
       "      <td>1</td>\n",
       "      <td>149.99</td>\n",
       "      <td>09/27/19 07:52</td>\n",
       "      <td>Steinkleiva 4, 4631, Kristiansand</td>\n",
       "    </tr>\n",
       "    <tr>\n",
       "      <th>4</th>\n",
       "      <td>248155</td>\n",
       "      <td>USB-C Charging Cable</td>\n",
       "      <td>1</td>\n",
       "      <td>11.95</td>\n",
       "      <td>09/01/19 19:03</td>\n",
       "      <td>Dronningens Gate 5, 0154, Oslo</td>\n",
       "    </tr>\n",
       "    <tr>\n",
       "      <th>...</th>\n",
       "      <td>...</td>\n",
       "      <td>...</td>\n",
       "      <td>...</td>\n",
       "      <td>...</td>\n",
       "      <td>...</td>\n",
       "      <td>...</td>\n",
       "    </tr>\n",
       "    <tr>\n",
       "      <th>11624</th>\n",
       "      <td>259353</td>\n",
       "      <td>AAA Batteries (4-pack)</td>\n",
       "      <td>3</td>\n",
       "      <td>2.99</td>\n",
       "      <td>09/17/19 20:56</td>\n",
       "      <td>Arne Svendsens Gate 1, 1610, Fredrikstad</td>\n",
       "    </tr>\n",
       "    <tr>\n",
       "      <th>11625</th>\n",
       "      <td>259354</td>\n",
       "      <td>iPhone</td>\n",
       "      <td>1</td>\n",
       "      <td>700.00</td>\n",
       "      <td>09/01/19 16:00</td>\n",
       "      <td>Munkegata 23, 7011, Trondheim</td>\n",
       "    </tr>\n",
       "    <tr>\n",
       "      <th>11626</th>\n",
       "      <td>259355</td>\n",
       "      <td>iPhone</td>\n",
       "      <td>1</td>\n",
       "      <td>700.00</td>\n",
       "      <td>09/23/19 07:39</td>\n",
       "      <td>Storgata 33, 4307, Sandnes</td>\n",
       "    </tr>\n",
       "    <tr>\n",
       "      <th>11627</th>\n",
       "      <td>259356</td>\n",
       "      <td>34in Ultrawide Monitor</td>\n",
       "      <td>1</td>\n",
       "      <td>379.99</td>\n",
       "      <td>09/19/19 17:30</td>\n",
       "      <td>Storgata 33, 4307, Sandnes</td>\n",
       "    </tr>\n",
       "    <tr>\n",
       "      <th>11628</th>\n",
       "      <td>259357</td>\n",
       "      <td>USB-C Charging Cable</td>\n",
       "      <td>1</td>\n",
       "      <td>11.95</td>\n",
       "      <td>09/30/19 00:18</td>\n",
       "      <td>Steinkleiva 4, 4631, Kristiansand</td>\n",
       "    </tr>\n",
       "  </tbody>\n",
       "</table>\n",
       "<p>11629 rows × 6 columns</p>\n",
       "</div>"
      ],
      "text/plain": [
       "       Order ID                 Product  Quantity Ordered  Price Each  \\\n",
       "0        248151   AA Batteries (4-pack)                 4        3.84   \n",
       "1        248152    USB-C Charging Cable                 2       11.95   \n",
       "2        248153    USB-C Charging Cable                 1       11.95   \n",
       "3        248154        27in FHD Monitor                 1      149.99   \n",
       "4        248155    USB-C Charging Cable                 1       11.95   \n",
       "...         ...                     ...               ...         ...   \n",
       "11624    259353  AAA Batteries (4-pack)                 3        2.99   \n",
       "11625    259354                  iPhone                 1      700.00   \n",
       "11626    259355                  iPhone                 1      700.00   \n",
       "11627    259356  34in Ultrawide Monitor                 1      379.99   \n",
       "11628    259357    USB-C Charging Cable                 1       11.95   \n",
       "\n",
       "           Order Date                          Purchase Address  \n",
       "0      09/17/19 14:44                Storgata 33, 4307, Sandnes  \n",
       "1      09/29/19 10:19         Steinkleiva 4, 4631, Kristiansand  \n",
       "2      09/16/19 17:48             Munkegata 23, 7011, Trondheim  \n",
       "3      09/27/19 07:52         Steinkleiva 4, 4631, Kristiansand  \n",
       "4      09/01/19 19:03            Dronningens Gate 5, 0154, Oslo  \n",
       "...               ...                                       ...  \n",
       "11624  09/17/19 20:56  Arne Svendsens Gate 1, 1610, Fredrikstad  \n",
       "11625  09/01/19 16:00             Munkegata 23, 7011, Trondheim  \n",
       "11626  09/23/19 07:39                Storgata 33, 4307, Sandnes  \n",
       "11627  09/19/19 17:30                Storgata 33, 4307, Sandnes  \n",
       "11628  09/30/19 00:18         Steinkleiva 4, 4631, Kristiansand  \n",
       "\n",
       "[11629 rows x 6 columns]"
      ]
     },
     "execution_count": 15,
     "metadata": {},
     "output_type": "execute_result"
    }
   ],
   "source": [
    "import pandas as pd\n",
    "\n",
    "df = pd.read_excel(\"Sales_September2019.xlsx\")\n",
    "df\n"
   ]
  },
  {
   "cell_type": "markdown",
   "metadata": {},
   "source": [
    "### Objective 2: Grouping the orders\n",
    "Create a GroupBy object using `Order ID` as the common grouping data point (key). Use this group to determine how many items were sold per order.\n",
    "\n",
    "*Hint: A summation would be a good indicator here*"
   ]
  },
  {
   "cell_type": "code",
   "execution_count": 16,
   "metadata": {},
   "outputs": [
    {
     "data": {
      "text/plain": [
       "Order ID\n",
       "248151    4\n",
       "248152    2\n",
       "248153    1\n",
       "248154    1\n",
       "248155    1\n",
       "         ..\n",
       "259353    3\n",
       "259354    1\n",
       "259355    1\n",
       "259356    1\n",
       "259357    1\n",
       "Name: Quantity Ordered, Length: 11207, dtype: int64"
      ]
     },
     "execution_count": 16,
     "metadata": {},
     "output_type": "execute_result"
    }
   ],
   "source": [
    "# How many items were sold for each order?\n",
    "itemssold = df[\"Quantity Ordered\"].groupby(df[\"Order ID\"])\n",
    "itemssold.sum()"
   ]
  },
  {
   "cell_type": "markdown",
   "metadata": {},
   "source": [
    "### Objective 3: Counting the coins!\n",
    "Add a new column called `Profit`. This column is calculated by multiplying the values from `Quanitity Ordered` with `Price Each`. Then use the sum aggregrate to determine the total profit made for this month."
   ]
  },
  {
   "cell_type": "code",
   "execution_count": 33,
   "metadata": {},
   "outputs": [
    {
     "name": "stdout",
     "output_type": "stream",
     "text": [
      "This months profit: 2098816.7\n"
     ]
    }
   ],
   "source": [
    "# What was the total monthly profit made in September?\n",
    "df[\"Profit\"] = df[\"Quantity Ordered\"] * df[\"Price Each\"]\n",
    "print(f\"This months profit: {round(df['Profit'].sum(),2)}\")"
   ]
  },
  {
   "cell_type": "markdown",
   "metadata": {},
   "source": [
    "### Objective 4: Taking stock\n",
    "Create a GroupBy object using `Product` as the common key. Use this group to determine how much profit was made per product; then filter the result to only show the profits of items over `100 000 NOK`.\n"
   ]
  },
  {
   "cell_type": "code",
   "execution_count": 68,
   "metadata": {},
   "outputs": [
    {
     "data": {
      "text/plain": [
       "Product\n",
       "27in 4K Gaming Monitor      148976.18\n",
       "34in Ultrawide Monitor      143636.22\n",
       "Apple Airpods Headphones    145200.00\n",
       "Google Phone                205200.00\n",
       "Macbook Pro Laptop          489600.00\n",
       "ThinkPad Laptop             248997.51\n",
       "iPhone                      278600.00\n",
       "Name: Profit, dtype: float64"
      ]
     },
     "execution_count": 68,
     "metadata": {},
     "output_type": "execute_result"
    }
   ],
   "source": [
    "# What was items made over 100 000 NOK in sales this month?\n",
    "stock = df[\"Profit\"].groupby(df[\"Product\"]).sum()\n",
    "stock[stock > 100000]"
   ]
  },
  {
   "cell_type": "markdown",
   "metadata": {},
   "source": [
    "#### 🔍 Bonus question\n",
    "What was **the** most profitable item?"
   ]
  },
  {
   "cell_type": "code",
   "execution_count": 69,
   "metadata": {},
   "outputs": [
    {
     "data": {
      "text/plain": [
       "Product\n",
       "Macbook Pro Laptop    489600.0\n",
       "Name: Profit, dtype: float64"
      ]
     },
     "execution_count": 69,
     "metadata": {},
     "output_type": "execute_result"
    }
   ],
   "source": [
    "# Most the profitable item in September\n",
    "stock[stock == stock.max()]"
   ]
  },
  {
   "cell_type": "markdown",
   "metadata": {},
   "source": [
    "### Objective 5: Average consumption\n",
    "Create a new grouping using `Order ID`. Use this group to deteremine the average number of items sold and the average profit made per order."
   ]
  },
  {
   "cell_type": "code",
   "execution_count": 88,
   "metadata": {},
   "outputs": [
    {
     "data": {
      "text/plain": [
       "Quantity Ordered      1.170608\n",
       "Profit              187.277300\n",
       "dtype: float64"
      ]
     },
     "execution_count": 88,
     "metadata": {},
     "output_type": "execute_result"
    }
   ],
   "source": [
    "# On average, how many items were sold per order and how much profit was made?\n",
    "average = df[[\"Quantity Ordered\",\"Profit\"]].groupby(df[\"Order ID\"]).sum().mean()\n",
    "average"
   ]
  },
  {
   "cell_type": "markdown",
   "metadata": {},
   "source": [
    "### Objective 6: Extracting new data\n",
    "A useful statistic to observe is how busy each day of the month was. Luckily each transaction date was recorded, but this includes a time value which would make grouping difficult. It is possible to extract only the date from `Order Date` with a little bit of string manipulation. Do this, and create a new column called `Date Only`. \n",
    "\n",
    "*Hint: You will need to use list comprehension*"
   ]
  },
  {
   "cell_type": "code",
   "execution_count": 93,
   "metadata": {},
   "outputs": [],
   "source": [
    "# Seperate only date from Order Date\n",
    "df[\"Date Only\"] = [ date[:8] for date in df[\"Order Date\"]]"
   ]
  },
  {
   "cell_type": "markdown",
   "metadata": {},
   "source": [
    "### Objective 7: Busyness\n",
    "Create a new grouping using `Date Only` as the key, and extract all the `Order ID` values per date. Then use the `nunique()` aggregation to determine how many unqiue orders were placed each day.  "
   ]
  },
  {
   "cell_type": "code",
   "execution_count": 94,
   "metadata": {},
   "outputs": [
    {
     "data": {
      "text/plain": [
       "Date Only\n",
       "09/01/19    361\n",
       "09/02/19    381\n",
       "09/03/19    364\n",
       "09/04/19    369\n",
       "09/05/19    347\n",
       "09/06/19    381\n",
       "09/07/19    356\n",
       "09/08/19    360\n",
       "09/09/19    383\n",
       "09/10/19    379\n",
       "09/11/19    385\n",
       "09/12/19    374\n",
       "09/13/19    383\n",
       "09/14/19    390\n",
       "09/15/19    392\n",
       "09/16/19    363\n",
       "09/17/19    386\n",
       "09/18/19    369\n",
       "09/19/19    389\n",
       "09/20/19    378\n",
       "09/21/19    363\n",
       "09/22/19    352\n",
       "09/23/19    373\n",
       "09/24/19    376\n",
       "09/25/19    341\n",
       "09/26/19    375\n",
       "09/27/19    404\n",
       "09/28/19    356\n",
       "09/29/19    397\n",
       "09/30/19    363\n",
       "10/01/19     17\n",
       "Name: Order ID, dtype: int64"
      ]
     },
     "execution_count": 94,
     "metadata": {},
     "output_type": "execute_result"
    }
   ],
   "source": [
    "# How many orders were placed every day?\n",
    "ordersperday = df[\"Order ID\"].groupby(df[\"Date Only\"]).nunique()\n",
    "ordersperday"
   ]
  },
  {
   "cell_type": "markdown",
   "metadata": {},
   "source": [
    "### Objective 8: How about the cities?\n",
    "Repeat objective 6 & 7 but instead extract the city name from `Purchase Address` and then determine how many orders unique orders were placed in every city. Name the extracted city name column as `City`.\n",
    "\n",
    "*Hint: Consider using string.split(',')*"
   ]
  },
  {
   "cell_type": "code",
   "execution_count": 97,
   "metadata": {},
   "outputs": [
    {
     "data": {
      "text/plain": [
       "City\n",
       " Bergen          1631\n",
       " Fredrikstad     1643\n",
       " Kristiansand    1676\n",
       " Oslo            1623\n",
       " Sandnes         1608\n",
       " Stavanger       1719\n",
       " Trondheim       1665\n",
       "Name: Order ID, dtype: int64"
      ]
     },
     "execution_count": 97,
     "metadata": {},
     "output_type": "execute_result"
    }
   ],
   "source": [
    "# How many orders were placed in every city?\n",
    "\n",
    "df[\"City\"] = [address.split(\",\")[2] for address in df[\"Purchase Address\"]]\n",
    "orderspercity = df[\"Order ID\"].groupby(df[\"City\"]).nunique()\n",
    "orderspercity\n"
   ]
  },
  {
   "cell_type": "markdown",
   "metadata": {},
   "source": [
    "### Objective 9: The big picture\n",
    "Create one final grouping using `Product` as the key. Then use the following aggregations on each column to create a complete summary of the month:\n",
    "* `Order ID` : count\n",
    "* `Quanity Ordered` : sum & mean\n",
    "* `Price Each` : median\n",
    "* `Profit` : sum"
   ]
  },
  {
   "cell_type": "code",
   "execution_count": 99,
   "metadata": {},
   "outputs": [
    {
     "data": {
      "text/html": [
       "<div>\n",
       "<style scoped>\n",
       "    .dataframe tbody tr th:only-of-type {\n",
       "        vertical-align: middle;\n",
       "    }\n",
       "\n",
       "    .dataframe tbody tr th {\n",
       "        vertical-align: top;\n",
       "    }\n",
       "\n",
       "    .dataframe thead tr th {\n",
       "        text-align: left;\n",
       "    }\n",
       "\n",
       "    .dataframe thead tr:last-of-type th {\n",
       "        text-align: right;\n",
       "    }\n",
       "</style>\n",
       "<table border=\"1\" class=\"dataframe\">\n",
       "  <thead>\n",
       "    <tr>\n",
       "      <th></th>\n",
       "      <th>Order ID</th>\n",
       "      <th colspan=\"2\" halign=\"left\">Quantity Ordered</th>\n",
       "      <th>Price Each</th>\n",
       "      <th>Profit</th>\n",
       "    </tr>\n",
       "    <tr>\n",
       "      <th></th>\n",
       "      <th>count</th>\n",
       "      <th>sum</th>\n",
       "      <th>mean</th>\n",
       "      <th>median</th>\n",
       "      <th>sum</th>\n",
       "    </tr>\n",
       "    <tr>\n",
       "      <th>Product</th>\n",
       "      <th></th>\n",
       "      <th></th>\n",
       "      <th></th>\n",
       "      <th></th>\n",
       "      <th></th>\n",
       "    </tr>\n",
       "  </thead>\n",
       "  <tbody>\n",
       "    <tr>\n",
       "      <th>20in Monitor</th>\n",
       "      <td>274</td>\n",
       "      <td>277</td>\n",
       "      <td>1.010949</td>\n",
       "      <td>109.99</td>\n",
       "      <td>30467.23</td>\n",
       "    </tr>\n",
       "    <tr>\n",
       "      <th>27in 4K Gaming Monitor</th>\n",
       "      <td>381</td>\n",
       "      <td>382</td>\n",
       "      <td>1.002625</td>\n",
       "      <td>389.99</td>\n",
       "      <td>148976.18</td>\n",
       "    </tr>\n",
       "    <tr>\n",
       "      <th>27in FHD Monitor</th>\n",
       "      <td>479</td>\n",
       "      <td>482</td>\n",
       "      <td>1.006263</td>\n",
       "      <td>149.99</td>\n",
       "      <td>72295.18</td>\n",
       "    </tr>\n",
       "    <tr>\n",
       "      <th>34in Ultrawide Monitor</th>\n",
       "      <td>377</td>\n",
       "      <td>378</td>\n",
       "      <td>1.002653</td>\n",
       "      <td>379.99</td>\n",
       "      <td>143636.22</td>\n",
       "    </tr>\n",
       "    <tr>\n",
       "      <th>AA Batteries (4-pack)</th>\n",
       "      <td>1317</td>\n",
       "      <td>1773</td>\n",
       "      <td>1.346241</td>\n",
       "      <td>3.84</td>\n",
       "      <td>6808.32</td>\n",
       "    </tr>\n",
       "    <tr>\n",
       "      <th>AAA Batteries (4-pack)</th>\n",
       "      <td>1284</td>\n",
       "      <td>1927</td>\n",
       "      <td>1.500779</td>\n",
       "      <td>2.99</td>\n",
       "      <td>5761.73</td>\n",
       "    </tr>\n",
       "    <tr>\n",
       "      <th>Apple Airpods Headphones</th>\n",
       "      <td>964</td>\n",
       "      <td>968</td>\n",
       "      <td>1.004149</td>\n",
       "      <td>150.00</td>\n",
       "      <td>145200.00</td>\n",
       "    </tr>\n",
       "    <tr>\n",
       "      <th>Bose SoundSport Headphones</th>\n",
       "      <td>826</td>\n",
       "      <td>830</td>\n",
       "      <td>1.004843</td>\n",
       "      <td>99.99</td>\n",
       "      <td>82991.70</td>\n",
       "    </tr>\n",
       "    <tr>\n",
       "      <th>Flatscreen TV</th>\n",
       "      <td>291</td>\n",
       "      <td>294</td>\n",
       "      <td>1.010309</td>\n",
       "      <td>300.00</td>\n",
       "      <td>88200.00</td>\n",
       "    </tr>\n",
       "    <tr>\n",
       "      <th>Google Phone</th>\n",
       "      <td>342</td>\n",
       "      <td>342</td>\n",
       "      <td>1.000000</td>\n",
       "      <td>600.00</td>\n",
       "      <td>205200.00</td>\n",
       "    </tr>\n",
       "    <tr>\n",
       "      <th>LG Dryer</th>\n",
       "      <td>30</td>\n",
       "      <td>30</td>\n",
       "      <td>1.000000</td>\n",
       "      <td>600.00</td>\n",
       "      <td>18000.00</td>\n",
       "    </tr>\n",
       "    <tr>\n",
       "      <th>LG Washing Machine</th>\n",
       "      <td>46</td>\n",
       "      <td>46</td>\n",
       "      <td>1.000000</td>\n",
       "      <td>600.00</td>\n",
       "      <td>27600.00</td>\n",
       "    </tr>\n",
       "    <tr>\n",
       "      <th>Lightning Charging Cable</th>\n",
       "      <td>1329</td>\n",
       "      <td>1433</td>\n",
       "      <td>1.078254</td>\n",
       "      <td>14.95</td>\n",
       "      <td>21423.35</td>\n",
       "    </tr>\n",
       "    <tr>\n",
       "      <th>Macbook Pro Laptop</th>\n",
       "      <td>288</td>\n",
       "      <td>288</td>\n",
       "      <td>1.000000</td>\n",
       "      <td>1700.00</td>\n",
       "      <td>489600.00</td>\n",
       "    </tr>\n",
       "    <tr>\n",
       "      <th>ThinkPad Laptop</th>\n",
       "      <td>249</td>\n",
       "      <td>249</td>\n",
       "      <td>1.000000</td>\n",
       "      <td>999.99</td>\n",
       "      <td>248997.51</td>\n",
       "    </tr>\n",
       "    <tr>\n",
       "      <th>USB-C Charging Cable</th>\n",
       "      <td>1454</td>\n",
       "      <td>1594</td>\n",
       "      <td>1.096286</td>\n",
       "      <td>11.95</td>\n",
       "      <td>19048.30</td>\n",
       "    </tr>\n",
       "    <tr>\n",
       "      <th>Vareebadd Phone</th>\n",
       "      <td>126</td>\n",
       "      <td>126</td>\n",
       "      <td>1.000000</td>\n",
       "      <td>400.00</td>\n",
       "      <td>50400.00</td>\n",
       "    </tr>\n",
       "    <tr>\n",
       "      <th>Wired Headphones</th>\n",
       "      <td>1175</td>\n",
       "      <td>1302</td>\n",
       "      <td>1.108085</td>\n",
       "      <td>11.99</td>\n",
       "      <td>15610.98</td>\n",
       "    </tr>\n",
       "    <tr>\n",
       "      <th>iPhone</th>\n",
       "      <td>397</td>\n",
       "      <td>398</td>\n",
       "      <td>1.002519</td>\n",
       "      <td>700.00</td>\n",
       "      <td>278600.00</td>\n",
       "    </tr>\n",
       "  </tbody>\n",
       "</table>\n",
       "</div>"
      ],
      "text/plain": [
       "                           Order ID Quantity Ordered           Price Each  \\\n",
       "                              count              sum      mean     median   \n",
       "Product                                                                     \n",
       "20in Monitor                    274              277  1.010949     109.99   \n",
       "27in 4K Gaming Monitor          381              382  1.002625     389.99   \n",
       "27in FHD Monitor                479              482  1.006263     149.99   \n",
       "34in Ultrawide Monitor          377              378  1.002653     379.99   \n",
       "AA Batteries (4-pack)          1317             1773  1.346241       3.84   \n",
       "AAA Batteries (4-pack)         1284             1927  1.500779       2.99   \n",
       "Apple Airpods Headphones        964              968  1.004149     150.00   \n",
       "Bose SoundSport Headphones      826              830  1.004843      99.99   \n",
       "Flatscreen TV                   291              294  1.010309     300.00   \n",
       "Google Phone                    342              342  1.000000     600.00   \n",
       "LG Dryer                         30               30  1.000000     600.00   \n",
       "LG Washing Machine               46               46  1.000000     600.00   \n",
       "Lightning Charging Cable       1329             1433  1.078254      14.95   \n",
       "Macbook Pro Laptop              288              288  1.000000    1700.00   \n",
       "ThinkPad Laptop                 249              249  1.000000     999.99   \n",
       "USB-C Charging Cable           1454             1594  1.096286      11.95   \n",
       "Vareebadd Phone                 126              126  1.000000     400.00   \n",
       "Wired Headphones               1175             1302  1.108085      11.99   \n",
       "iPhone                          397              398  1.002519     700.00   \n",
       "\n",
       "                               Profit  \n",
       "                                  sum  \n",
       "Product                                \n",
       "20in Monitor                 30467.23  \n",
       "27in 4K Gaming Monitor      148976.18  \n",
       "27in FHD Monitor             72295.18  \n",
       "34in Ultrawide Monitor      143636.22  \n",
       "AA Batteries (4-pack)         6808.32  \n",
       "AAA Batteries (4-pack)        5761.73  \n",
       "Apple Airpods Headphones    145200.00  \n",
       "Bose SoundSport Headphones   82991.70  \n",
       "Flatscreen TV                88200.00  \n",
       "Google Phone                205200.00  \n",
       "LG Dryer                     18000.00  \n",
       "LG Washing Machine           27600.00  \n",
       "Lightning Charging Cable     21423.35  \n",
       "Macbook Pro Laptop          489600.00  \n",
       "ThinkPad Laptop             248997.51  \n",
       "USB-C Charging Cable         19048.30  \n",
       "Vareebadd Phone              50400.00  \n",
       "Wired Headphones             15610.98  \n",
       "iPhone                      278600.00  "
      ]
     },
     "execution_count": 99,
     "metadata": {},
     "output_type": "execute_result"
    }
   ],
   "source": [
    "# Total statistics for each type of item sold\n",
    "statistics = df.groupby(df[\"Product\"]).agg({ \"Order ID\" : \"count\", \"Quantity Ordered\" : [\"sum\",\"mean\"], \"Price Each\" : \"median\", \"Profit\": \"sum\" })\n",
    "statistics"
   ]
  },
  {
   "cell_type": "code",
   "execution_count": null,
   "metadata": {},
   "outputs": [],
   "source": []
  }
 ],
 "metadata": {
  "kernelspec": {
   "display_name": "Python 3.9.7 ('base')",
   "language": "python",
   "name": "python3"
  },
  "language_info": {
   "codemirror_mode": {
    "name": "ipython",
    "version": 3
   },
   "file_extension": ".py",
   "mimetype": "text/x-python",
   "name": "python",
   "nbconvert_exporter": "python",
   "pygments_lexer": "ipython3",
   "version": "3.9.7"
  },
  "vscode": {
   "interpreter": {
    "hash": "ad2bdc8ecc057115af97d19610ffacc2b4e99fae6737bb82f5d7fb13d2f2c186"
   }
  }
 },
 "nbformat": 4,
 "nbformat_minor": 4
}
