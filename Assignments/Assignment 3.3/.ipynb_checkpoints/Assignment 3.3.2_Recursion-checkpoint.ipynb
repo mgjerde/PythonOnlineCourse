{
 "cells": [
  {
   "cell_type": "markdown",
   "metadata": {},
   "source": [
    "# Recursion\n",
    "# Solving problems that solve themselves\n",
    "In this lesson we will be learning what recursion is and how we can use it solve repeatable problems"
   ]
  },
  {
   "cell_type": "markdown",
   "metadata": {},
   "source": [
    "### Objective 1: Identifying the basic basics\n",
    "Below is an example of a recursive function that is used to generate the fibonacci sequence. Execute the cell to see how it works and then answer the questions below."
   ]
  },
  {
   "cell_type": "code",
   "execution_count": 42,
   "metadata": {},
   "outputs": [],
   "source": [
    "def fibonacci(n):\n",
    "    if n < 3:\n",
    "        return int(n/2)\n",
    "    else:\n",
    "        return fibonacci(n-1) + fibonacci(n-2)"
   ]
  },
  {
   "cell_type": "code",
   "execution_count": 43,
   "metadata": {},
   "outputs": [
    {
     "name": "stdout",
     "output_type": "stream",
     "text": [
      "34\n"
     ]
    }
   ],
   "source": [
    "fibonacci(10)"
   ]
  },
  {
   "cell_type": "markdown",
   "metadata": {},
   "source": [
    "### Objective 2: Where do we start?\n",
    "Explain what a base case is, and then state the base case for this fibonacci function."
   ]
  },
  {
   "cell_type": "markdown",
   "metadata": {},
   "source": []
  },
  {
   "cell_type": "markdown",
   "metadata": {},
   "source": [
    "### Objective 3: A recurring issue\n",
    "Write a function that will return the factorial of any given integer. \n",
    "* The factorial of a number n is described multiplication of every whole number starting from n to 0.\n",
    "* The factorial of 0 is 1.\n",
    "* An example of factorial of 4 would be `factorial(3) = 4 * factorial(3)`\n",
    "* `factorial(3) = 3 * factorial(2)`\n",
    "* ...etc\n"
   ]
  },
  {
   "cell_type": "code",
   "execution_count": null,
   "metadata": {},
   "outputs": [],
   "source": [
    "def factorial(n):\n",
    "    pass #TODO"
   ]
  },
  {
   "cell_type": "markdown",
   "metadata": {},
   "source": [
    "### Objective 4: Splitting the difference\n",
    "Below a function that will add all the digits of a string of digits using recursion.\n",
    "* When the function is called it will split the string in half and then add the resulting digits together\n",
    "* For example `digit_add(\"12345678\")` would result in `digit_add(\"12345678\") = digit_add(\"1234\") + digit_add(\"5678\")`\n",
    "* When only one number remains then return the that value as an `int`. So `digit_add(\"4\") = 4`\n",
    "\n",
    "Run the code and make sure you understand what is going on!"
   ]
  },
  {
   "cell_type": "code",
   "execution_count": 17,
   "metadata": {},
   "outputs": [
    {
     "data": {
      "text/plain": [
       "270"
      ]
     },
     "execution_count": 17,
     "metadata": {},
     "output_type": "execute_result"
    }
   ],
   "source": [
    "def digit_add(s):\n",
    "    if len(s) <= 1:\n",
    "        return int(s)\n",
    "    else:\n",
    "        return digit_add(s[int(len(s)/2):]) + digit_add(s[:int(len(s)/2)])\n",
    "    \n",
    "digit_add(\"123456789123456789123456789123456789123456789123456789\")"
   ]
  },
  {
   "cell_type": "markdown",
   "metadata": {},
   "source": [
    "### Objective 5: Memoization\n",
    "Let's investigate our `digit_add` a little more carefully.\n",
    "\n",
    "When we call a digit string such as `\"7777\"` it results in `digit_add(\"77\") + digit_add(\"77\")`. When we first find the resulting `digit_add(\"77\")` we will call `digit_add` recursively at least three times, but when the second `digit_add(\"77\")` is evaluated we will call it three times again, which is unnessary since we will already know what the result of `digit_add(\"77\")` is.\n",
    "\n",
    "We can prevent these unneeded recusive calls using Memoization. Copy the function from obejctive 5 and implement a dictionary cache that will first check to see if a string such as `\"77\"` has a resulting number before making a recursive call as normal. "
   ]
  },
  {
   "cell_type": "code",
   "execution_count": null,
   "metadata": {},
   "outputs": [],
   "source": []
  }
 ],
 "metadata": {
  "kernelspec": {
   "display_name": "Python 3 (ipykernel)",
   "language": "python",
   "name": "python3"
  },
  "language_info": {
   "codemirror_mode": {
    "name": "ipython",
    "version": 3
   },
   "file_extension": ".py",
   "mimetype": "text/x-python",
   "name": "python",
   "nbconvert_exporter": "python",
   "pygments_lexer": "ipython3",
   "version": "3.9.7"
  }
 },
 "nbformat": 4,
 "nbformat_minor": 4
}
