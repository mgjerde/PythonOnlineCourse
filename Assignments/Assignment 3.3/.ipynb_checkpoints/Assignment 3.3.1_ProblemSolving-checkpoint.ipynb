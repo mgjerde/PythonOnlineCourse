{
 "cells": [
  {
   "cell_type": "markdown",
   "metadata": {},
   "source": [
    "# Assignment 3.3.1: Problem Solving\n",
    "# The first step is acknowleding you have a problem\n",
    "In this lesson we will be looking at the different types of mistakes and how to address them"
   ]
  },
  {
   "cell_type": "markdown",
   "metadata": {},
   "source": [
    "### Objective 1: Which is which?!\n",
    "Below is an example of a Day of the Week class, below it are three examples of code which are used to create and print a few day of the week objects. Each one suffers from either a semantic, syntax or run time error. Using your understanding from the reading material explain which type of error is occuring and give a brief overview of that type of error."
   ]
  },
  {
   "cell_type": "code",
   "execution_count": null,
   "metadata": {},
   "outputs": [],
   "source": [
    "class DayOfTheWeek:\n",
    "    day = None\n",
    "    day_names = [\"monday\",\"tuesday\",\"wednesday\",\"thursday\",\"friday\",\"saturday\",\"sunday\"]\n",
    "    \n",
    "    def __init__(self,starting_value):\n",
    "        if type(starting_value) is int:\n",
    "            self.day = self.day_names[starting_value]\n",
    "        elif type(starting_value) is str:\n",
    "            self.day = self.day_names[self.day_names.index(starting_value.lower())]\n",
    "        else:\n",
    "            raise ValueError(\"Unknown day of the week\")\n",
    "    def __str__(self):\n",
    "        return f\"The day is {self.day[0].upper() + self.day[1:]}\""
   ]
  },
  {
   "cell_type": "code",
   "execution_count": null,
   "metadata": {},
   "outputs": [],
   "source": [
    "# Error 1\n",
    "friday = DayOfTheWeek(5)\n",
    "print(friday)"
   ]
  },
  {
   "cell_type": "markdown",
   "metadata": {},
   "source": []
  },
  {
   "cell_type": "code",
   "execution_count": null,
   "metadata": {},
   "outputs": [],
   "source": [
    "# Error 2\n",
    "saturday == DayOfTheWeek(\"Saturday\")\n",
    "print(saturday)"
   ]
  },
  {
   "cell_type": "markdown",
   "metadata": {},
   "source": []
  },
  {
   "cell_type": "code",
   "execution_count": null,
   "metadata": {},
   "outputs": [],
   "source": [
    "# Error 3\n",
    "MONDAY = DayOfTheWeek(ord('\\x00'))\n",
    "print(M0NDAY)"
   ]
  },
  {
   "cell_type": "code",
   "execution_count": null,
   "metadata": {},
   "outputs": [],
   "source": []
  },
  {
   "cell_type": "markdown",
   "metadata": {},
   "source": [
    "### Objective 2: Get the ink!\n",
    "Below is a new version of the day class, execute both cells and look at the output. Explain what is going wrong and then copy the code into a new cell and fix it.\n",
    "\n",
    "Hint: Use print statements to help identify where the program is failing."
   ]
  },
  {
   "cell_type": "code",
   "execution_count": null,
   "metadata": {},
   "outputs": [],
   "source": [
    "class Day:\n",
    "    days = [\"monday\",\"tuesday\",\"wednesday\",\"thursday\",\"friday\",\"saturday\",\"sunday\"]\n",
    "    dates = list(range(1,32))\n",
    "    months = [\"jan\",\"feb\",\"mar\",\"apr\",\"jun\",\"jul\",\"aug\",\"sep\",\"oct\",\"nov\",\"dec\"]\n",
    "    \n",
    "    def __init__(self,day,date,month):\n",
    "        self.day = self.assign_from_lst(day,self.days)\n",
    "        self.date = self.assign_from_lst(date,self.dates)\n",
    "        self.month = self.assign_from_lst(month,self.months)\n",
    "    \n",
    "    def __str__(self):\n",
    "        return f\"The day is {self.day}, the {self.date} of {self.month}.\"\n",
    "    \n",
    "    def assign_from_lst(self, value, lst):\n",
    "        if (type(value) is str) and (value in lst):\n",
    "            return lst[lst.index(value.lower())]\n",
    "        else:\n",
    "            raise ValueError(\"Unknown value given\")"
   ]
  },
  {
   "cell_type": "code",
   "execution_count": null,
   "metadata": {},
   "outputs": [],
   "source": [
    "day1 = Day(\"monday\",5,\"feb\") # FIXME: This will cause an error"
   ]
  },
  {
   "cell_type": "code",
   "execution_count": null,
   "metadata": {},
   "outputs": [],
   "source": []
  },
  {
   "cell_type": "code",
   "execution_count": null,
   "metadata": {},
   "outputs": [],
   "source": []
  },
  {
   "cell_type": "markdown",
   "metadata": {},
   "source": [
    "### Objective 3: Acquire help\n",
    "Use the `help()` function on at least 3 built in functions used in the `Day` class listed above. Give a short explanation of how each function is used."
   ]
  },
  {
   "cell_type": "code",
   "execution_count": null,
   "metadata": {},
   "outputs": [],
   "source": []
  },
  {
   "cell_type": "code",
   "execution_count": null,
   "metadata": {},
   "outputs": [],
   "source": []
  },
  {
   "cell_type": "code",
   "execution_count": null,
   "metadata": {},
   "outputs": [],
   "source": []
  },
  {
   "cell_type": "markdown",
   "metadata": {},
   "source": []
  },
  {
   "cell_type": "markdown",
   "metadata": {},
   "source": [
    "### Objective 4: Interactive help\n",
    "Use the Python debugger to step through the execution of the `Day()` class when using the code below. What are the values of `value` and `lst`?"
   ]
  },
  {
   "cell_type": "code",
   "execution_count": null,
   "metadata": {},
   "outputs": [],
   "source": [
    "day2 = Day(\"monday\",\"22\",\"oct\")"
   ]
  },
  {
   "cell_type": "markdown",
   "metadata": {},
   "source": [
    "### Objective 5: Community help\n",
    "Use your favourite search engine to look up some Python commuinity forums. Write a short summary for at least 3 different websites."
   ]
  },
  {
   "cell_type": "code",
   "execution_count": null,
   "metadata": {},
   "outputs": [],
   "source": []
  }
 ],
 "metadata": {
  "kernelspec": {
   "display_name": "Python 3 (ipykernel)",
   "language": "python",
   "name": "python3"
  },
  "language_info": {
   "codemirror_mode": {
    "name": "ipython",
    "version": 3
   },
   "file_extension": ".py",
   "mimetype": "text/x-python",
   "name": "python",
   "nbconvert_exporter": "python",
   "pygments_lexer": "ipython3",
   "version": "3.9.7"
  }
 },
 "nbformat": 4,
 "nbformat_minor": 4
}
