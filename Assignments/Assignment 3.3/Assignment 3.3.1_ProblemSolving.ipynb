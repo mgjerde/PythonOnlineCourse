{
 "cells": [
  {
   "cell_type": "markdown",
   "metadata": {},
   "source": [
    "# Assignment 3.3.1: Problem Solving\n",
    "# The first step is acknowleding you have a problem\n",
    "In this lesson we will be looking at the different types of mistakes and how to address them"
   ]
  },
  {
   "cell_type": "markdown",
   "metadata": {},
   "source": [
    "### Objective 1: Which is which?!\n",
    "Below is an example of a Day of the Week class, below it are three examples of code which are used to create and print a few day of the week objects. Each one suffers from either a semantic, syntax or run time error. Using your understanding from the reading material explain which type of error is occuring and give a brief overview of that type of error."
   ]
  },
  {
   "cell_type": "code",
   "execution_count": 1,
   "metadata": {},
   "outputs": [],
   "source": [
    "class DayOfTheWeek:\n",
    "    day = None\n",
    "    day_names = [\"monday\",\"tuesday\",\"wednesday\",\"thursday\",\"friday\",\"saturday\",\"sunday\"]\n",
    "    \n",
    "    def __init__(self,starting_value):\n",
    "        if type(starting_value) is int:\n",
    "            self.day = self.day_names[starting_value]\n",
    "        elif type(starting_value) is str:\n",
    "            self.day = self.day_names[self.day_names.index(starting_value.lower())]\n",
    "        else:\n",
    "            raise ValueError(\"Unknown day of the week\")\n",
    "    def __str__(self):\n",
    "        return f\"The day is {self.day[0].upper() + self.day[1:]}\""
   ]
  },
  {
   "cell_type": "code",
   "execution_count": 4,
   "metadata": {},
   "outputs": [
    {
     "name": "stdout",
     "output_type": "stream",
     "text": [
      "The day is Saturday\n"
     ]
    }
   ],
   "source": [
    "# Error 1\n",
    "friday = DayOfTheWeek(5)\n",
    "print(friday)"
   ]
  },
  {
   "cell_type": "markdown",
   "metadata": {},
   "source": [
    "This is a `semantic error`, and this is due to it being an index \"error\", the code for friday expecting the index to start at 1 while the code starts at 0"
   ]
  },
  {
   "cell_type": "code",
   "execution_count": 4,
   "metadata": {},
   "outputs": [
    {
     "ename": "NameError",
     "evalue": "name 'saturday' is not defined",
     "output_type": "error",
     "traceback": [
      "\u001b[1;31m---------------------------------------------------------------------------\u001b[0m",
      "\u001b[1;31mNameError\u001b[0m                                 Traceback (most recent call last)",
      "\u001b[1;32m~\\AppData\\Local\\Temp/ipykernel_7260/862836068.py\u001b[0m in \u001b[0;36m<module>\u001b[1;34m\u001b[0m\n\u001b[0;32m      1\u001b[0m \u001b[1;31m# Error 2\u001b[0m\u001b[1;33m\u001b[0m\u001b[1;33m\u001b[0m\u001b[0m\n\u001b[1;32m----> 2\u001b[1;33m \u001b[0msaturday\u001b[0m \u001b[1;33m==\u001b[0m \u001b[0mDayOfTheWeek\u001b[0m\u001b[1;33m(\u001b[0m\u001b[1;34m\"Saturday\"\u001b[0m\u001b[1;33m)\u001b[0m\u001b[1;33m\u001b[0m\u001b[1;33m\u001b[0m\u001b[0m\n\u001b[0m\u001b[0;32m      3\u001b[0m \u001b[0mprint\u001b[0m\u001b[1;33m(\u001b[0m\u001b[0msaturday\u001b[0m\u001b[1;33m)\u001b[0m\u001b[1;33m\u001b[0m\u001b[1;33m\u001b[0m\u001b[0m\n",
      "\u001b[1;31mNameError\u001b[0m: name 'saturday' is not defined"
     ]
    }
   ],
   "source": [
    "# Error 2\n",
    "saturday == DayOfTheWeek(\"Saturday\")\n",
    "print(saturday)"
   ]
  },
  {
   "cell_type": "markdown",
   "metadata": {},
   "source": [
    "This is a `syntax error` due to the double equal signs. This makes the code trying to run a test to see if the variable `saturday` is the same as the `DayofTheWeek` object instead of creating a `DayofTheWeek` object."
   ]
  },
  {
   "cell_type": "code",
   "execution_count": null,
   "metadata": {},
   "outputs": [],
   "source": [
    "# Error 3\n",
    "MONDAY = DayOfTheWeek(ord('\\x00'))\n",
    "print(M0NDAY)"
   ]
  },
  {
   "cell_type": "markdown",
   "metadata": {},
   "source": [
    "This is a `runtime error` due to the the MONDAY variable being written incorrectly in the `print` statement so it checks for a varible(`M0NDAY`) that does not exist yet."
   ]
  },
  {
   "cell_type": "markdown",
   "metadata": {},
   "source": [
    "### Objective 2: Get the ink!\n",
    "Below is a new version of the day class, execute both cells and look at the output. Explain what is going wrong and then copy the code into a new cell and fix it.\n",
    "\n",
    "Hint: Use print statements to help identify where the program is failing."
   ]
  },
  {
   "cell_type": "code",
   "execution_count": 6,
   "metadata": {},
   "outputs": [],
   "source": [
    "class Day:\n",
    "    days = [\"monday\",\"tuesday\",\"wednesday\",\"thursday\",\"friday\",\"saturday\",\"sunday\"]\n",
    "    dates = list(range(1,32))\n",
    "    months = [\"jan\",\"feb\",\"mar\",\"apr\",\"jun\",\"jul\",\"aug\",\"sep\",\"oct\",\"nov\",\"dec\"]\n",
    "    \n",
    "    def __init__(self,day,date,month):\n",
    "        self.day = self.assign_from_lst(day,self.days)\n",
    "        self.date = self.assign_from_lst(date,self.dates)\n",
    "        self.month = self.assign_from_lst(month,self.months)\n",
    "    \n",
    "    def __str__(self):\n",
    "        return f\"The day is {self.day}, the {self.date} of {self.month}.\"\n",
    "    \n",
    "    def assign_from_lst(self, value, lst):\n",
    "        if (type(value) is str) and (value in lst):\n",
    "            return lst[lst.index(value.lower())]\n",
    "        else:\n",
    "            raise ValueError(\"Unknown value given\")"
   ]
  },
  {
   "cell_type": "code",
   "execution_count": 10,
   "metadata": {},
   "outputs": [
    {
     "name": "stdout",
     "output_type": "stream",
     "text": [
      "The day is monday, the 5 of feb.\n"
     ]
    }
   ],
   "source": [
    "day1 = Day(\"monday\",5,\"feb\") # FIXME: This will cause an error\n",
    "print(day1)"
   ]
  },
  {
   "cell_type": "markdown",
   "metadata": {},
   "source": [
    "The problem occurs because the object is created using an `int` rather than a `string` for the `date` variable."
   ]
  },
  {
   "cell_type": "code",
   "execution_count": 9,
   "metadata": {},
   "outputs": [],
   "source": [
    "class Day:\n",
    "    days = [\"monday\",\"tuesday\",\"wednesday\",\"thursday\",\"friday\",\"saturday\",\"sunday\"]\n",
    "    dates = list(range(1,32))\n",
    "    months = [\"jan\",\"feb\",\"mar\",\"apr\",\"jun\",\"jul\",\"aug\",\"sep\",\"oct\",\"nov\",\"dec\"]\n",
    "    \n",
    "    def __init__(self,day,date,month):\n",
    "        self.day = self.assign_from_lst(day,self.days)\n",
    "        self.date = self.assign_from_lst(date,self.dates)\n",
    "        self.month = self.assign_from_lst(month,self.months)\n",
    "    \n",
    "    def __str__(self):\n",
    "        return f\"The day is {self.day}, the {self.date} of {self.month}.\"\n",
    "    \n",
    "    def assign_from_lst(self, value, lst):\n",
    "        if (type(value) is str) and (value in lst):\n",
    "            return lst[lst.index(value.lower())]\n",
    "        elif (type(value) is int) and (value in lst):\n",
    "            return lst[lst.index(value)]\n",
    "        else:\n",
    "            raise ValueError(\"Unknown value given\")\n",
    "\n",
    "day1 = Day(\"monday\",5,\"feb\") # FIXME: This will cause an error"
   ]
  },
  {
   "cell_type": "markdown",
   "metadata": {},
   "source": [
    "### Objective 3: Acquire help\n",
    "Use the `help()` function on at least 3 built in functions used in the `Day` class listed above. Give a short explanation of how each function is used."
   ]
  },
  {
   "cell_type": "code",
   "execution_count": 11,
   "metadata": {},
   "outputs": [
    {
     "name": "stdout",
     "output_type": "stream",
     "text": [
      "Help on function __str__ in module __main__:\n",
      "\n",
      "__str__(self)\n",
      "    Return str(self).\n",
      "\n"
     ]
    }
   ],
   "source": [
    "help(Day.__str__)\n",
    "\n",
    "# This function is used when you try to print out the object."
   ]
  },
  {
   "cell_type": "code",
   "execution_count": 15,
   "metadata": {},
   "outputs": [
    {
     "name": "stdout",
     "output_type": "stream",
     "text": [
      "Help on function __init__ in module __main__:\n",
      "\n",
      "__init__(self, day, date, month)\n",
      "    Initialize self.  See help(type(self)) for accurate signature.\n",
      "\n"
     ]
    }
   ],
   "source": [
    "help(Day.__init__)\n",
    "\n",
    "# This function is used when you try to initiate the object."
   ]
  },
  {
   "cell_type": "code",
   "execution_count": 16,
   "metadata": {},
   "outputs": [
    {
     "name": "stdout",
     "output_type": "stream",
     "text": [
      "Help on function assign_from_lst in module __main__:\n",
      "\n",
      "assign_from_lst(self, value, lst)\n",
      "\n"
     ]
    }
   ],
   "source": [
    "help(Day.assign_from_lst)\n",
    "\n",
    "# This function is used during the initiation of the object to check if the given data is inside the expected lists, and returns said data."
   ]
  },
  {
   "cell_type": "markdown",
   "metadata": {},
   "source": [
    "### Objective 4: Interactive help\n",
    "Use the Python debugger to step through the execution of the `Day()` class when using the code below. What are the values of `value` and `lst`?"
   ]
  },
  {
   "cell_type": "code",
   "execution_count": 31,
   "metadata": {},
   "outputs": [
    {
     "ename": "ValueError",
     "evalue": "Unknown value given",
     "output_type": "error",
     "traceback": [
      "\u001b[1;31m---------------------------------------------------------------------------\u001b[0m",
      "\u001b[1;31mValueError\u001b[0m                                Traceback (most recent call last)",
      "\u001b[1;32m~\\AppData\\Local\\Temp/ipykernel_7260/2416204475.py\u001b[0m in \u001b[0;36m<module>\u001b[1;34m\u001b[0m\n\u001b[1;32m----> 1\u001b[1;33m \u001b[0mday2\u001b[0m \u001b[1;33m=\u001b[0m \u001b[0mDay\u001b[0m\u001b[1;33m(\u001b[0m\u001b[1;34m\"monday\"\u001b[0m\u001b[1;33m,\u001b[0m\u001b[1;34m\"22\"\u001b[0m\u001b[1;33m,\u001b[0m\u001b[1;34m\"oct\"\u001b[0m\u001b[1;33m)\u001b[0m\u001b[1;33m\u001b[0m\u001b[1;33m\u001b[0m\u001b[0m\n\u001b[0m",
      "\u001b[1;32m~\\AppData\\Local\\Temp/ipykernel_7260/2563380356.py\u001b[0m in \u001b[0;36m__init__\u001b[1;34m(self, day, date, month)\u001b[0m\n\u001b[0;32m      6\u001b[0m     \u001b[1;32mdef\u001b[0m \u001b[0m__init__\u001b[0m\u001b[1;33m(\u001b[0m\u001b[0mself\u001b[0m\u001b[1;33m,\u001b[0m\u001b[0mday\u001b[0m\u001b[1;33m,\u001b[0m\u001b[0mdate\u001b[0m\u001b[1;33m,\u001b[0m\u001b[0mmonth\u001b[0m\u001b[1;33m)\u001b[0m\u001b[1;33m:\u001b[0m\u001b[1;33m\u001b[0m\u001b[1;33m\u001b[0m\u001b[0m\n\u001b[0;32m      7\u001b[0m         \u001b[0mself\u001b[0m\u001b[1;33m.\u001b[0m\u001b[0mday\u001b[0m \u001b[1;33m=\u001b[0m \u001b[0mself\u001b[0m\u001b[1;33m.\u001b[0m\u001b[0massign_from_lst\u001b[0m\u001b[1;33m(\u001b[0m\u001b[0mday\u001b[0m\u001b[1;33m,\u001b[0m\u001b[0mself\u001b[0m\u001b[1;33m.\u001b[0m\u001b[0mdays\u001b[0m\u001b[1;33m)\u001b[0m\u001b[1;33m\u001b[0m\u001b[1;33m\u001b[0m\u001b[0m\n\u001b[1;32m----> 8\u001b[1;33m         \u001b[0mself\u001b[0m\u001b[1;33m.\u001b[0m\u001b[0mdate\u001b[0m \u001b[1;33m=\u001b[0m \u001b[0mself\u001b[0m\u001b[1;33m.\u001b[0m\u001b[0massign_from_lst\u001b[0m\u001b[1;33m(\u001b[0m\u001b[0mdate\u001b[0m\u001b[1;33m,\u001b[0m\u001b[0mself\u001b[0m\u001b[1;33m.\u001b[0m\u001b[0mdates\u001b[0m\u001b[1;33m)\u001b[0m\u001b[1;33m\u001b[0m\u001b[1;33m\u001b[0m\u001b[0m\n\u001b[0m\u001b[0;32m      9\u001b[0m         \u001b[0mself\u001b[0m\u001b[1;33m.\u001b[0m\u001b[0mmonth\u001b[0m \u001b[1;33m=\u001b[0m \u001b[0mself\u001b[0m\u001b[1;33m.\u001b[0m\u001b[0massign_from_lst\u001b[0m\u001b[1;33m(\u001b[0m\u001b[0mmonth\u001b[0m\u001b[1;33m,\u001b[0m\u001b[0mself\u001b[0m\u001b[1;33m.\u001b[0m\u001b[0mmonths\u001b[0m\u001b[1;33m)\u001b[0m\u001b[1;33m\u001b[0m\u001b[1;33m\u001b[0m\u001b[0m\n\u001b[0;32m     10\u001b[0m \u001b[1;33m\u001b[0m\u001b[0m\n",
      "\u001b[1;32m~\\AppData\\Local\\Temp/ipykernel_7260/2563380356.py\u001b[0m in \u001b[0;36massign_from_lst\u001b[1;34m(self, value, lst)\u001b[0m\n\u001b[0;32m     18\u001b[0m             \u001b[1;32mreturn\u001b[0m \u001b[0mlst\u001b[0m\u001b[1;33m[\u001b[0m\u001b[0mlst\u001b[0m\u001b[1;33m.\u001b[0m\u001b[0mindex\u001b[0m\u001b[1;33m(\u001b[0m\u001b[0mvalue\u001b[0m\u001b[1;33m)\u001b[0m\u001b[1;33m]\u001b[0m\u001b[1;33m\u001b[0m\u001b[1;33m\u001b[0m\u001b[0m\n\u001b[0;32m     19\u001b[0m         \u001b[1;32melse\u001b[0m\u001b[1;33m:\u001b[0m\u001b[1;33m\u001b[0m\u001b[1;33m\u001b[0m\u001b[0m\n\u001b[1;32m---> 20\u001b[1;33m             \u001b[1;32mraise\u001b[0m \u001b[0mValueError\u001b[0m\u001b[1;33m(\u001b[0m\u001b[1;34m\"Unknown value given\"\u001b[0m\u001b[1;33m)\u001b[0m\u001b[1;33m\u001b[0m\u001b[1;33m\u001b[0m\u001b[0m\n\u001b[0m\u001b[0;32m     21\u001b[0m \u001b[1;33m\u001b[0m\u001b[0m\n\u001b[0;32m     22\u001b[0m \u001b[0mday1\u001b[0m \u001b[1;33m=\u001b[0m \u001b[0mDay\u001b[0m\u001b[1;33m(\u001b[0m\u001b[1;34m\"monday\"\u001b[0m\u001b[1;33m,\u001b[0m\u001b[1;36m5\u001b[0m\u001b[1;33m,\u001b[0m\u001b[1;34m\"feb\"\u001b[0m\u001b[1;33m)\u001b[0m \u001b[1;31m# FIXME: This will cause an error\u001b[0m\u001b[1;33m\u001b[0m\u001b[1;33m\u001b[0m\u001b[0m\n",
      "\u001b[1;31mValueError\u001b[0m: Unknown value given"
     ]
    }
   ],
   "source": [
    "day2 = Day(\"monday\",\"22\",\"oct\")\n"
   ]
  },
  {
   "cell_type": "code",
   "execution_count": 32,
   "metadata": {},
   "outputs": [
    {
     "name": "stdout",
     "output_type": "stream",
     "text": [
      "> \u001b[1;32mc:\\users\\mariu\\appdata\\local\\temp\\ipykernel_7260\\2563380356.py\u001b[0m(20)\u001b[0;36massign_from_lst\u001b[1;34m()\u001b[0m\n",
      "\n",
      "Value: 22 <class 'str'>\n",
      "Lst: [1, 2, 3, 4, 5, 6, 7, 8, 9, 10, 11, 12, 13, 14, 15, 16, 17, 18, 19, 20, 21, 22, 23, 24, 25, 26, 27, 28, 29, 30, 31] <class 'list'>\n",
      "--KeyboardInterrupt--\n",
      "\n",
      "KeyboardInterrupt: Interrupted by user\n"
     ]
    }
   ],
   "source": [
    "%debug\n",
    "\n",
    "# value is a string with the value of \"22\" and lst is a list with the numbers between 1 and 31"
   ]
  },
  {
   "cell_type": "markdown",
   "metadata": {},
   "source": [
    "### Objective 5: Community help\n",
    "Use your favourite search engine to look up some Python commuinity forums. Write a short summary for at least 3 different websites."
   ]
  },
  {
   "cell_type": "markdown",
   "metadata": {},
   "source": [
    "***Stack overflow***\n",
    "\n",
    "A community where the users both asks and answers development related questions.\n",
    "\n",
    "***CodeWars***\n",
    "\n",
    "A community where the users try to solve problems and also share said solutions with the rest of the community.\n",
    "\n",
    "***Codeforum***\n",
    "\n",
    "Much the same as stack overflow but in a more forum based format.\n"
   ]
  }
 ],
 "metadata": {
  "interpreter": {
   "hash": "ad2bdc8ecc057115af97d19610ffacc2b4e99fae6737bb82f5d7fb13d2f2c186"
  },
  "kernelspec": {
   "display_name": "Python 3.9.7 ('base')",
   "language": "python",
   "name": "python3"
  },
  "language_info": {
   "codemirror_mode": {
    "name": "ipython",
    "version": 3
   },
   "file_extension": ".py",
   "mimetype": "text/x-python",
   "name": "python",
   "nbconvert_exporter": "python",
   "pygments_lexer": "ipython3",
   "version": "3.9.7"
  }
 },
 "nbformat": 4,
 "nbformat_minor": 4
}
