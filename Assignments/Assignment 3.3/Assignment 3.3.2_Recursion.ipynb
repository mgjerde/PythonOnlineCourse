{
 "cells": [
  {
   "cell_type": "markdown",
   "metadata": {},
   "source": [
    "# Recursion\n",
    "# Solving problems that solve themselves\n",
    "In this lesson we will be learning what recursion is and how we can use it solve repeatable problems"
   ]
  },
  {
   "cell_type": "markdown",
   "metadata": {},
   "source": [
    "### Objective 1: Identifying the basic basics\n",
    "Below is an example of a recursive function that is used to generate the fibonacci sequence. Execute the cell to see how it works and then answer the questions below."
   ]
  },
  {
   "cell_type": "code",
   "execution_count": 1,
   "metadata": {},
   "outputs": [],
   "source": [
    "def fibonacci(n):\n",
    "    if n < 3:\n",
    "        return int(n/2)\n",
    "    else:\n",
    "        return fibonacci(n-1) + fibonacci(n-2)"
   ]
  },
  {
   "cell_type": "code",
   "execution_count": 2,
   "metadata": {},
   "outputs": [
    {
     "data": {
      "text/plain": [
       "34"
      ]
     },
     "execution_count": 2,
     "metadata": {},
     "output_type": "execute_result"
    }
   ],
   "source": [
    "fibonacci(10)"
   ]
  },
  {
   "cell_type": "markdown",
   "metadata": {},
   "source": [
    "### Objective 2: Where do we start?\n",
    "Explain what a base case is, and then state the base case for this fibonacci function."
   ]
  },
  {
   "cell_type": "markdown",
   "metadata": {},
   "source": [
    "a base action is the functional part of recursive code that makes sure it has a way to stop. the base code for that function is that it always stops when `n` is less than 3 and that it numbers in the fibonacci \"tree\" always reduces in size so that it asome point always will be less than 3"
   ]
  },
  {
   "cell_type": "markdown",
   "metadata": {},
   "source": [
    "### Objective 3: A recurring issue\n",
    "Write a function that will return the factorial of any given integer. \n",
    "* The factorial of a number n is described multiplication of every whole number starting from n to 0.\n",
    "* The factorial of 0 is 1.\n",
    "* An example of factorial of 4 would be `factorial(3) = 4 * factorial(3)`\n",
    "* `factorial(3) = 3 * factorial(2)`\n",
    "* ...etc\n"
   ]
  },
  {
   "cell_type": "code",
   "execution_count": 12,
   "metadata": {},
   "outputs": [],
   "source": [
    "def factorial(n):\n",
    "    if n < 2:\n",
    "        return 1\n",
    "    else:\n",
    "        return (n * factorial(n-1))"
   ]
  },
  {
   "cell_type": "markdown",
   "metadata": {},
   "source": [
    "### Objective 4: Splitting the difference\n",
    "Below a function that will add all the digits of a string of digits using recursion.\n",
    "* When the function is called it will split the string in half and then add the resulting digits together\n",
    "* For example `digit_add(\"12345678\")` would result in `digit_add(\"12345678\") = digit_add(\"1234\") + digit_add(\"5678\")`\n",
    "* When only one number remains then return the that value as an `int`. So `digit_add(\"4\") = 4`\n",
    "\n",
    "Run the code and make sure you understand what is going on!"
   ]
  },
  {
   "cell_type": "code",
   "execution_count": 15,
   "metadata": {},
   "outputs": [
    {
     "data": {
      "text/plain": [
       "14"
      ]
     },
     "execution_count": 15,
     "metadata": {},
     "output_type": "execute_result"
    }
   ],
   "source": [
    "def digit_add(s):\n",
    "    if len(s) <= 1:\n",
    "        return int(s)\n",
    "    else:\n",
    "        return digit_add(s[int(len(s)/2):]) + digit_add(s[:int(len(s)/2)])\n",
    "    \n",
    "digit_add(\"123456789123456789123456789123456789123456789123456789\")"
   ]
  },
  {
   "cell_type": "markdown",
   "metadata": {},
   "source": [
    "### Objective 5: Memoization\n",
    "Let's investigate our `digit_add` a little more carefully.\n",
    "\n",
    "When we call a digit string such as `\"7777\"` it results in `digit_add(\"77\") + digit_add(\"77\")`. When we first find the resulting `digit_add(\"77\")` we will call `digit_add` recursively at least three times, but when the second `digit_add(\"77\")` is evaluated we will call it three times again, which is unnessary since we will already know what the result of `digit_add(\"77\")` is.\n",
    "\n",
    "We can prevent these unneeded recusive calls using Memoization. Copy the function from obejctive 5 and implement a dictionary cache that will first check to see if a string such as `\"77\"` has a resulting number before making a recursive call as normal. "
   ]
  },
  {
   "cell_type": "code",
   "execution_count": 22,
   "metadata": {},
   "outputs": [
    {
     "name": "stdout",
     "output_type": "stream",
     "text": [
      "270\n",
      "{'89': 17, '67': 13, '6789': 30, '45': 9, '345': 12, '3456789': 42, '12': 3, '8912': 20, '567': 18, '5678912': 38, '56789123456789': 80, '34': 7, '1234': 10, '789': 24, '7891234': 34, '56': 11, '456': 15, '23': 5, '123': 6, '123456': 21, '1234567891234': 55, '123456789123456789123456789': 135, '123456789123456789123456789123456789123456789123456789': 270}\n"
     ]
    }
   ],
   "source": [
    "memoization = { }\n",
    "\n",
    "def digit_add(s):\n",
    "    if s in memoization:\n",
    "        return memoization[s]\n",
    "    if len(s) <= 1:\n",
    "        return int(s)\n",
    "    digits = digit_add(s[int(len(s)/2):]) + digit_add(s[:int(len(s)/2)])\n",
    "    memoization[s] = digits\n",
    "    return digits\n",
    "    \n",
    "print(digit_add(\"123456789123456789123456789123456789123456789123456789\"))\n",
    "print(memoization)"
   ]
  }
 ],
 "metadata": {
  "interpreter": {
   "hash": "ad2bdc8ecc057115af97d19610ffacc2b4e99fae6737bb82f5d7fb13d2f2c186"
  },
  "kernelspec": {
   "display_name": "Python 3.9.7 ('base')",
   "language": "python",
   "name": "python3"
  },
  "language_info": {
   "codemirror_mode": {
    "name": "ipython",
    "version": 3
   },
   "file_extension": ".py",
   "mimetype": "text/x-python",
   "name": "python",
   "nbconvert_exporter": "python",
   "pygments_lexer": "ipython3",
   "version": "3.9.7"
  }
 },
 "nbformat": 4,
 "nbformat_minor": 4
}
