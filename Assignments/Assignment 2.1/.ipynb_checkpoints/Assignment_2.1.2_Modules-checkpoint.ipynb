{
 "cells": [
  {
   "cell_type": "markdown",
   "metadata": {},
   "source": [
    "# Modules\n",
    "# Creating, importing, and using pip\n",
    "In this lesson we will be learning how to import modules "
   ]
  },
  {
   "cell_type": "markdown",
   "metadata": {},
   "source": [
    "### Objective 1: Apples!\n",
    "Import `apples` and print `apples.definition`."
   ]
  },
  {
   "cell_type": "code",
   "execution_count": 1,
   "metadata": {},
   "outputs": [],
   "source": []
  },
  {
   "cell_type": "markdown",
   "metadata": {},
   "source": [
    "### Objective 2: Aliasing\n",
    "Import the apples module as `a` and the copy module as `c`. Create a deepcopy of apple's types variable using copy's `deepcopy()` function and assign it to a new variabled called `copied_types`. Prove your code works by printing the contents of `copied_types` with the following code:\n",
    "```\n",
    "for a,b in copied_types.items():\n",
    "    print (a,b)\n",
    "```"
   ]
  },
  {
   "cell_type": "code",
   "execution_count": null,
   "metadata": {},
   "outputs": [],
   "source": []
  },
  {
   "cell_type": "markdown",
   "metadata": {},
   "source": [
    "### Objective 3: Selective import\n",
    "Selective imports by using the `from <module> import <object>` function allows us to only import single objects from that module one at a time. For this objective investigate the built-in `sys` modules and write a small program that does the following:\n",
    "* Prints the operating system of the workstation as either \"Windows\", \"Mac\", \"Linux\", or \"Other\"\n",
    "* Prints the list of all `PYTHONPATH` file locations, each on their own line.\n",
    "* Prints the current system version of Python\n",
    "\n",
    "Any `sys` functions used must be imported selectively."
   ]
  },
  {
   "cell_type": "code",
   "execution_count": null,
   "metadata": {},
   "outputs": [],
   "source": []
  },
  {
   "cell_type": "markdown",
   "metadata": {},
   "source": [
    "### Objective 4: Writing a full module\n",
    "Create a new notebook, in this notebook we will be coding our own calculator program that allows us to do mathematical computations. Your program must have the following functions:\n",
    "* addition - takes in a list of numerics and returns the addition of all elements. \n",
    "* subtraction - takes in a list of numerics and returns the subtraction of the 2nd, 3rd, etc from the 1st element\n",
    "* multiplication - takes in a list of numerics and returns the multiplication of all the elements.\n",
    "* division - takes in a list of numerics and returns the division of the 1st and 2nd element, then the result with the 3rd, etc.\n",
    "* power - takes in a list of numerics and returns the power of the 1st and 2nd element, then the result with the 3rd, etc. \n",
    "\n",
    "Export this notebook as `custom_calc.py` and then complete the code below to ensure everything imports correctly and your program works. Your calculator program will be graded for neatness and proper commenting."
   ]
  },
  {
   "cell_type": "code",
   "execution_count": null,
   "metadata": {},
   "outputs": [],
   "source": [
    "# TODO: Import custom_calc here\n",
    "\n",
    "addition([12,7,-100,81,72]) #72\n",
    "subtraction([99,100]) #-1\n",
    "multiplication([33,9,1000,-5]) #-1485000\n",
    "divison([700,10,7]) #10\n",
    "power([9,3,1]) #729"
   ]
  }
 ],
 "metadata": {
  "kernelspec": {
   "display_name": "Python 3 (ipykernel)",
   "language": "python",
   "name": "python3"
  },
  "language_info": {
   "codemirror_mode": {
    "name": "ipython",
    "version": 3
   },
   "file_extension": ".py",
   "mimetype": "text/x-python",
   "name": "python",
   "nbconvert_exporter": "python",
   "pygments_lexer": "ipython3",
   "version": "3.9.7"
  }
 },
 "nbformat": 4,
 "nbformat_minor": 4
}
