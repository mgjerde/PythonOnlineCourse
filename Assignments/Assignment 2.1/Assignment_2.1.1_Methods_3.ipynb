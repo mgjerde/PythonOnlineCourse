{
 "cells": [
  {
   "cell_type": "markdown",
   "metadata": {},
   "source": [
    "# Methods Part III\n",
    "# Lambda functions\n",
    "In this lesson we will continue practicing method coding and using lambda functions as \"once-off\" methods"
   ]
  },
  {
   "cell_type": "markdown",
   "metadata": {},
   "source": [
    "### Objective 1: Explain that lambda\n",
    "Why is a lambda function called an anonymous function?"
   ]
  },
  {
   "cell_type": "markdown",
   "metadata": {},
   "source": []
  },
  {
   "cell_type": "markdown",
   "metadata": {},
   "source": [
    "### Objective 2: The first lambda function\n",
    "Write a lambda function assigned to `capitalize` that takes in a string and returns a string with the first letter always capitalized. "
   ]
  },
  {
   "cell_type": "code",
   "execution_count": 2,
   "metadata": {},
   "outputs": [
    {
     "name": "stdout",
     "output_type": "stream",
     "text": [
      "True\n"
     ]
    }
   ],
   "source": [
    "capitalized = lambda word : word[0].upper() + word[1:]\n",
    "\n",
    "print( capitalized(\"norway\") == \"Norway\" )"
   ]
  },
  {
   "cell_type": "markdown",
   "metadata": {},
   "source": [
    "### Objective 3: More lambda\n",
    "Write a lambda function assigned to `absolute` which returns the square and then square rooted of a given numeric."
   ]
  },
  {
   "cell_type": "code",
   "execution_count": 7,
   "metadata": {},
   "outputs": [
    {
     "name": "stdout",
     "output_type": "stream",
     "text": [
      "True\n"
     ]
    }
   ],
   "source": [
    "absolute = lambda number : (number ** 2) ** 0.5\n",
    "print( absolute(-15) == 15 )"
   ]
  },
  {
   "cell_type": "markdown",
   "metadata": {},
   "source": [
    "### Objective 4: Mapping a lambda\n",
    "One useful aspect of lambda functions is they don't need to be assigned to a variable which allows it to be used as an arguement for functions that need a function as a parameter. One such function is the built in `map` function which will take a function and apply it to every item in a given list. The format of this is `map(function, list)`. Below write a map using a lambda function that applies a interest rate multiplier of `1.097` to each item in the list."
   ]
  },
  {
   "cell_type": "code",
   "execution_count": 10,
   "metadata": {},
   "outputs": [
    {
     "name": "stdout",
     "output_type": "stream",
     "text": [
      "[164.54999999999998, 877.6, 1156.238, 88.857, 709.759]\n"
     ]
    }
   ],
   "source": [
    "# example: \n",
    "# m = map(lambda x: x+1, [1,2,3,4,5])\n",
    "# print(list(m))\n",
    "\n",
    "values = [150,800,1054,81,647]\n",
    "\n",
    "print(list(map(lambda n: n*1.097, values)))"
   ]
  },
  {
   "cell_type": "markdown",
   "metadata": {},
   "source": [
    "### Objective 5: Sorting a lambda\n",
    "Lambda functions can also be used as a key for sorting tuples. In the cell below use the `sorted(list, key=function)` method to sort the list of tuples by the grades of the subject in the second item position."
   ]
  },
  {
   "cell_type": "code",
   "execution_count": 12,
   "metadata": {},
   "outputs": [
    {
     "name": "stdout",
     "output_type": "stream",
     "text": [
      "[('Biology', 21), ('English', 54), ('Computer Science', 70), ('Mathematics', 90)]\n"
     ]
    }
   ],
   "source": [
    "# example: \n",
    "# s = sorted([\"abcd\",\"efg\"], key=lambda x: len(x))\n",
    "# print(list(s))\n",
    "\n",
    "grades = [(\"English\",54),(\"Mathematics\",90),(\"Computer Science\",70),(\"Biology\",21)]\n",
    "\n",
    "print(list(sorted(grades, key=lambda n : n[1])))"
   ]
  },
  {
   "cell_type": "code",
   "execution_count": null,
   "metadata": {},
   "outputs": [],
   "source": []
  }
 ],
 "metadata": {
  "kernelspec": {
   "display_name": "Python 3 (ipykernel)",
   "language": "python",
   "name": "python3"
  },
  "language_info": {
   "codemirror_mode": {
    "name": "ipython",
    "version": 3
   },
   "file_extension": ".py",
   "mimetype": "text/x-python",
   "name": "python",
   "nbconvert_exporter": "python",
   "pygments_lexer": "ipython3",
   "version": "3.9.7"
  }
 },
 "nbformat": 4,
 "nbformat_minor": 4
}
