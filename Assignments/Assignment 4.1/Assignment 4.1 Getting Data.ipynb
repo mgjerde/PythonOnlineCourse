{
 "cells": [
  {
   "cell_type": "markdown",
   "metadata": {},
   "source": [
    "# Assignment 4.1: Getting Data\n",
    "# Getting fancy with Data 📃 and Pandas 🐼\n",
    "In this lesson we will be learning the basics of pandas and how to create, edit, export and import DataFrames and Series"
   ]
  },
  {
   "cell_type": "markdown",
   "metadata": {},
   "source": [
    "### Objective 1: Data fundamentals\n",
    "Explain the difference between Quantitative Data and Qualitative Data. Then give an example of each.\n"
   ]
  },
  {
   "cell_type": "markdown",
   "metadata": {},
   "source": [
    "`Quantitative` data is information that can be described and identified with numbers. ie. `0`, `25`, `True`(1), `False`(0)\n",
    "\n",
    "`Qualitative` data is information that can be described and identified by being \"freeform\" information, information that can't be organized in a quantity. ie. `Marius`, `Oslo`, `Happy`"
   ]
  },
  {
   "cell_type": "markdown",
   "metadata": {},
   "source": [
    "### Objective 2: Are you series?\n",
    "In the cell below import pandas as `pd` and create a new Series object with the following data inside, store the Series in the variable `cities`.\n",
    "```\n",
    "oslo\n",
    "bergen\n",
    "trondheim\n",
    "stavanger\n",
    "kristiansand\n",
    "fredrikstad\n",
    "sandnes\n",
    "```"
   ]
  },
  {
   "cell_type": "code",
   "execution_count": 21,
   "metadata": {},
   "outputs": [],
   "source": [
    "import pandas as pd\n",
    "\n",
    "cities = pd.Series([\"oslo\",\"bergen\",\"trondheim\",\"stavanger\",\"kristiansand\",\"fredrikstad\",\"sandnes\"])\n"
   ]
  },
  {
   "cell_type": "markdown",
   "metadata": {},
   "source": [
    "### Objective 3: Name the label\n",
    "Change the internal name of our `cities` Series to \"City Names\" and index name to \"Norwegian\". Print the Series to validate the changes."
   ]
  },
  {
   "cell_type": "code",
   "execution_count": 22,
   "metadata": {},
   "outputs": [
    {
     "name": "stdout",
     "output_type": "stream",
     "text": [
      "Norwegian\n",
      "0            oslo\n",
      "1          bergen\n",
      "2       trondheim\n",
      "3       stavanger\n",
      "4    kristiansand\n",
      "5     fredrikstad\n",
      "6         sandnes\n",
      "Name: City Names, dtype: object\n"
     ]
    }
   ],
   "source": [
    "cities.name = \"City Names\"\n",
    "cities.index.name = \"Norwegian\"\n",
    "\n",
    "print(cities)"
   ]
  },
  {
   "cell_type": "markdown",
   "metadata": {},
   "source": [
    "### Objective 4: An aging prosperity\n",
    "Below is the code to create a new Series called `ages`, run the cell and observe the output. Unfortunately the values are behind by one year. Use a Series operation to increase all the data by one year."
   ]
  },
  {
   "cell_type": "code",
   "execution_count": 23,
   "metadata": {},
   "outputs": [
    {
     "name": "stdout",
     "output_type": "stream",
     "text": [
      "0    22\n",
      "1    24\n",
      "2    21\n",
      "3    20\n",
      "4    33\n",
      "5    19\n",
      "6    20\n",
      "Name: Age, dtype: int64\n",
      "0    23\n",
      "1    25\n",
      "2    22\n",
      "3    21\n",
      "4    34\n",
      "5    20\n",
      "6    21\n",
      "Name: Age, dtype: int64\n"
     ]
    }
   ],
   "source": [
    "ages = pd.Series([22,24,21,20,33,19,20],name=\"Age\")\n",
    "print(ages)\n",
    "\n",
    "ages +=1\n",
    "print(ages)"
   ]
  },
  {
   "cell_type": "markdown",
   "metadata": {},
   "source": [
    "### Objective 5: Frame it!\n",
    "Create a new pandas DataFrame object called `members` with the following values in it:\n",
    "```\n",
    "Name\t\t\t\tGender\t\tTShirt Size\n",
    "Meaghan Lackey\t\tFemale\t\tXL\n",
    "Griswold Vasil\t\tMale\t\tXL\n",
    "Fredrika Benz\t\tFemale\t\t3XL\n",
    "Madeleine Field\t\tFemale\t\tS\n",
    "Rahal Harriagn\t\tMale\t\tXS\n",
    "Brewster Deport\t\tMale\t\tL\n",
    "Burtie Lakenden\t\tFemale\t\tL\n",
    "```\n",
    "\n",
    "*Tip: It might be useful to seperate each column to their own object!*"
   ]
  },
  {
   "cell_type": "code",
   "execution_count": 28,
   "metadata": {},
   "outputs": [
    {
     "data": {
      "text/html": [
       "<div>\n",
       "<style scoped>\n",
       "    .dataframe tbody tr th:only-of-type {\n",
       "        vertical-align: middle;\n",
       "    }\n",
       "\n",
       "    .dataframe tbody tr th {\n",
       "        vertical-align: top;\n",
       "    }\n",
       "\n",
       "    .dataframe thead th {\n",
       "        text-align: right;\n",
       "    }\n",
       "</style>\n",
       "<table border=\"1\" class=\"dataframe\">\n",
       "  <thead>\n",
       "    <tr style=\"text-align: right;\">\n",
       "      <th></th>\n",
       "      <th>Name</th>\n",
       "      <th>Gender</th>\n",
       "      <th>TShirt Size</th>\n",
       "    </tr>\n",
       "  </thead>\n",
       "  <tbody>\n",
       "    <tr>\n",
       "      <th>0</th>\n",
       "      <td>Meaghan Lackey</td>\n",
       "      <td>Female</td>\n",
       "      <td>XL</td>\n",
       "    </tr>\n",
       "    <tr>\n",
       "      <th>1</th>\n",
       "      <td>Griswold Vasil</td>\n",
       "      <td>Male</td>\n",
       "      <td>XL</td>\n",
       "    </tr>\n",
       "    <tr>\n",
       "      <th>2</th>\n",
       "      <td>Fredrika Benz</td>\n",
       "      <td>Female</td>\n",
       "      <td>3XL</td>\n",
       "    </tr>\n",
       "    <tr>\n",
       "      <th>3</th>\n",
       "      <td>Madeleine Field</td>\n",
       "      <td>Female</td>\n",
       "      <td>S</td>\n",
       "    </tr>\n",
       "    <tr>\n",
       "      <th>4</th>\n",
       "      <td>Rahal Harriagn</td>\n",
       "      <td>Male</td>\n",
       "      <td>XS</td>\n",
       "    </tr>\n",
       "    <tr>\n",
       "      <th>5</th>\n",
       "      <td>Brewster Deport</td>\n",
       "      <td>Male</td>\n",
       "      <td>L</td>\n",
       "    </tr>\n",
       "    <tr>\n",
       "      <th>6</th>\n",
       "      <td>Burtie Lakenden</td>\n",
       "      <td>Female</td>\n",
       "      <td>L</td>\n",
       "    </tr>\n",
       "  </tbody>\n",
       "</table>\n",
       "</div>"
      ],
      "text/plain": [
       "              Name  Gender TShirt Size\n",
       "0   Meaghan Lackey  Female          XL\n",
       "1   Griswold Vasil    Male          XL\n",
       "2    Fredrika Benz  Female         3XL\n",
       "3  Madeleine Field  Female           S\n",
       "4   Rahal Harriagn    Male          XS\n",
       "5  Brewster Deport    Male           L\n",
       "6  Burtie Lakenden  Female           L"
      ]
     },
     "execution_count": 28,
     "metadata": {},
     "output_type": "execute_result"
    }
   ],
   "source": [
    "memberdata = {\n",
    "    \"Name\": [\"Meaghan Lackey\",\"Griswold Vasil\",\"Fredrika Benz\",\"Madeleine Field\",\"Rahal Harriagn\",\"Brewster Deport\",\"Burtie Lakenden\"],\n",
    "    \"Gender\": [\"Female\",\"Male\",\"Female\",\"Female\",\"Male\",\"Male\",\"Female\"],\n",
    "    \"TShirt Size\": [\"XL\",\"XL\",\"3XL\",\"S\",\"XS\",\"L\",\"L\"]\n",
    "}\n",
    "\n",
    "members = pd.DataFrame(memberdata)\n",
    "members"
   ]
  },
  {
   "cell_type": "markdown",
   "metadata": {},
   "source": [
    "### Objective 6: Only by name please.\n",
    "Extract all the names in our DataFrame into a new variable called `names`, print this variable and observe what object type is returned."
   ]
  },
  {
   "cell_type": "code",
   "execution_count": 29,
   "metadata": {},
   "outputs": [
    {
     "name": "stdout",
     "output_type": "stream",
     "text": [
      "0     Meaghan Lackey\n",
      "1     Griswold Vasil\n",
      "2      Fredrika Benz\n",
      "3    Madeleine Field\n",
      "4     Rahal Harriagn\n",
      "5    Brewster Deport\n",
      "6    Burtie Lakenden\n",
      "Name: Name, dtype: object\n",
      "<class 'pandas.core.series.Series'>\n"
     ]
    }
   ],
   "source": [
    "names = members[\"Name\"]\n",
    "print(names)\n",
    "print(type(names))"
   ]
  },
  {
   "cell_type": "markdown",
   "metadata": {},
   "source": [
    "### Objective 7: Bringing it all together\n",
    "Assign two new columns to our `members` DataFrame:\n",
    "* Add our `cities` Series from objective 1 as `members[\"City\"]`\n",
    "* Add our corrected `ages` Series from objective 4 as `members[\"Age\"]`\n",
    "\n",
    "Then call `members` variable to create a pretty HTML table in our notebook. "
   ]
  },
  {
   "cell_type": "code",
   "execution_count": 30,
   "metadata": {},
   "outputs": [
    {
     "data": {
      "text/html": [
       "<div>\n",
       "<style scoped>\n",
       "    .dataframe tbody tr th:only-of-type {\n",
       "        vertical-align: middle;\n",
       "    }\n",
       "\n",
       "    .dataframe tbody tr th {\n",
       "        vertical-align: top;\n",
       "    }\n",
       "\n",
       "    .dataframe thead th {\n",
       "        text-align: right;\n",
       "    }\n",
       "</style>\n",
       "<table border=\"1\" class=\"dataframe\">\n",
       "  <thead>\n",
       "    <tr style=\"text-align: right;\">\n",
       "      <th></th>\n",
       "      <th>Name</th>\n",
       "      <th>Gender</th>\n",
       "      <th>TShirt Size</th>\n",
       "      <th>City</th>\n",
       "      <th>Age</th>\n",
       "    </tr>\n",
       "  </thead>\n",
       "  <tbody>\n",
       "    <tr>\n",
       "      <th>0</th>\n",
       "      <td>Meaghan Lackey</td>\n",
       "      <td>Female</td>\n",
       "      <td>XL</td>\n",
       "      <td>oslo</td>\n",
       "      <td>23</td>\n",
       "    </tr>\n",
       "    <tr>\n",
       "      <th>1</th>\n",
       "      <td>Griswold Vasil</td>\n",
       "      <td>Male</td>\n",
       "      <td>XL</td>\n",
       "      <td>bergen</td>\n",
       "      <td>25</td>\n",
       "    </tr>\n",
       "    <tr>\n",
       "      <th>2</th>\n",
       "      <td>Fredrika Benz</td>\n",
       "      <td>Female</td>\n",
       "      <td>3XL</td>\n",
       "      <td>trondheim</td>\n",
       "      <td>22</td>\n",
       "    </tr>\n",
       "    <tr>\n",
       "      <th>3</th>\n",
       "      <td>Madeleine Field</td>\n",
       "      <td>Female</td>\n",
       "      <td>S</td>\n",
       "      <td>stavanger</td>\n",
       "      <td>21</td>\n",
       "    </tr>\n",
       "    <tr>\n",
       "      <th>4</th>\n",
       "      <td>Rahal Harriagn</td>\n",
       "      <td>Male</td>\n",
       "      <td>XS</td>\n",
       "      <td>kristiansand</td>\n",
       "      <td>34</td>\n",
       "    </tr>\n",
       "    <tr>\n",
       "      <th>5</th>\n",
       "      <td>Brewster Deport</td>\n",
       "      <td>Male</td>\n",
       "      <td>L</td>\n",
       "      <td>fredrikstad</td>\n",
       "      <td>20</td>\n",
       "    </tr>\n",
       "    <tr>\n",
       "      <th>6</th>\n",
       "      <td>Burtie Lakenden</td>\n",
       "      <td>Female</td>\n",
       "      <td>L</td>\n",
       "      <td>sandnes</td>\n",
       "      <td>21</td>\n",
       "    </tr>\n",
       "  </tbody>\n",
       "</table>\n",
       "</div>"
      ],
      "text/plain": [
       "              Name  Gender TShirt Size          City  Age\n",
       "0   Meaghan Lackey  Female          XL          oslo   23\n",
       "1   Griswold Vasil    Male          XL        bergen   25\n",
       "2    Fredrika Benz  Female         3XL     trondheim   22\n",
       "3  Madeleine Field  Female           S     stavanger   21\n",
       "4   Rahal Harriagn    Male          XS  kristiansand   34\n",
       "5  Brewster Deport    Male           L   fredrikstad   20\n",
       "6  Burtie Lakenden  Female           L       sandnes   21"
      ]
     },
     "execution_count": 30,
     "metadata": {},
     "output_type": "execute_result"
    }
   ],
   "source": [
    "members[\"City\"] = cities\n",
    "members[\"Age\"] = ages\n",
    "members"
   ]
  },
  {
   "cell_type": "markdown",
   "metadata": {},
   "source": [
    "### Objective 8: Export to something useful!\n",
    "Write our completed `members` DataFrame to a new Excel spreadsheet called `members.xlsx`. Open the spreadsheet on your work station to ensure all the data extracted correctly! Submit `members.xlsx` as part of the assignment upload."
   ]
  },
  {
   "cell_type": "code",
   "execution_count": 31,
   "metadata": {},
   "outputs": [],
   "source": [
    "members.to_excel(r\"members.xlsx\")"
   ]
  },
  {
   "cell_type": "markdown",
   "metadata": {},
   "source": [
    "### Objective 9: Read it and weep!\n",
    "Now read in our `members.xlsx` file into a new variable called `member_data`. Print `member_data` in the cell below and explain one key difference between the `members` and `member_data` Dataframes."
   ]
  },
  {
   "cell_type": "code",
   "execution_count": 34,
   "metadata": {},
   "outputs": [
    {
     "name": "stdout",
     "output_type": "stream",
     "text": [
      "              Name  Gender TShirt Size          City  Age\n",
      "0   Meaghan Lackey  Female          XL          oslo   23\n",
      "1   Griswold Vasil    Male          XL        bergen   25\n",
      "2    Fredrika Benz  Female         3XL     trondheim   22\n",
      "3  Madeleine Field  Female           S     stavanger   21\n",
      "4   Rahal Harriagn    Male          XS  kristiansand   34\n",
      "5  Brewster Deport    Male           L   fredrikstad   20\n",
      "6  Burtie Lakenden  Female           L       sandnes   21\n",
      "   Unnamed: 0             Name  Gender TShirt Size          City  Age\n",
      "0           0   Meaghan Lackey  Female          XL          oslo   23\n",
      "1           1   Griswold Vasil    Male          XL        bergen   25\n",
      "2           2    Fredrika Benz  Female         3XL     trondheim   22\n",
      "3           3  Madeleine Field  Female           S     stavanger   21\n",
      "4           4   Rahal Harriagn    Male          XS  kristiansand   34\n",
      "5           5  Brewster Deport    Male           L   fredrikstad   20\n",
      "6           6  Burtie Lakenden  Female           L       sandnes   21\n"
     ]
    }
   ],
   "source": [
    "member_data = pd.read_excel(r\"members.xlsx\")\n",
    "print(members)\n",
    "print(member_data)"
   ]
  },
  {
   "cell_type": "markdown",
   "metadata": {},
   "source": [
    "The new `member_data` variable brings the `\"row index\"` as a column because by default, pandas saves that as a seperate column."
   ]
  },
  {
   "cell_type": "markdown",
   "metadata": {},
   "source": []
  }
 ],
 "metadata": {
  "interpreter": {
   "hash": "ad2bdc8ecc057115af97d19610ffacc2b4e99fae6737bb82f5d7fb13d2f2c186"
  },
  "kernelspec": {
   "display_name": "Python 3.9.7 ('base')",
   "language": "python",
   "name": "python3"
  },
  "language_info": {
   "codemirror_mode": {
    "name": "ipython",
    "version": 3
   },
   "file_extension": ".py",
   "mimetype": "text/x-python",
   "name": "python",
   "nbconvert_exporter": "python",
   "pygments_lexer": "ipython3",
   "version": "3.9.7"
  }
 },
 "nbformat": 4,
 "nbformat_minor": 4
}
