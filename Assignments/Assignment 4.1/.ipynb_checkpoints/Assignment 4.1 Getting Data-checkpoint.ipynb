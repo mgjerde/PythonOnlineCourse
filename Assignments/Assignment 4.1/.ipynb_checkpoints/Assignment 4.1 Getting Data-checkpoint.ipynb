{
 "cells": [
  {
   "cell_type": "markdown",
   "metadata": {},
   "source": [
    "# Assignment 4.1: Getting Data\n",
    "# Getting fancy with Data 📃 and Pandas 🐼\n",
    "In this lesson we will be learning the basics of pandas and how to create, edit, export and import DataFrames and Series"
   ]
  },
  {
   "cell_type": "markdown",
   "metadata": {},
   "source": [
    "### Objective 1: Data fundamentals\n",
    "Explain the difference between Quantitative Data and Qualitative Data. Then give an example of each.\n"
   ]
  },
  {
   "cell_type": "markdown",
   "metadata": {},
   "source": []
  },
  {
   "cell_type": "markdown",
   "metadata": {},
   "source": [
    "### Objective 2: Are you series?\n",
    "In the cell below import pandas as `pd` and create a new Series object with the following data inside, store the Series in the variable `cities`.\n",
    "```\n",
    "oslo\n",
    "bergen\n",
    "trondheim\n",
    "stavanger\n",
    "kristiansand\n",
    "fredrikstad\n",
    "sandnes\n",
    "```"
   ]
  },
  {
   "cell_type": "code",
   "execution_count": null,
   "metadata": {},
   "outputs": [],
   "source": []
  },
  {
   "cell_type": "markdown",
   "metadata": {},
   "source": [
    "### Objective 3: Name the label\n",
    "Change the internal name of our `cities` Series to \"City Names\" and index name to \"Norwegian\". Print the Series to validate the changes."
   ]
  },
  {
   "cell_type": "code",
   "execution_count": null,
   "metadata": {},
   "outputs": [],
   "source": []
  },
  {
   "cell_type": "markdown",
   "metadata": {},
   "source": [
    "### Objective 4: An aging prosperity\n",
    "Below is the code to create a new Series called `ages`, run the cell and observe the output. Unfortunately the values are behind by one year. Use a Series operation to increase all the data by one year."
   ]
  },
  {
   "cell_type": "code",
   "execution_count": null,
   "metadata": {},
   "outputs": [],
   "source": [
    "ages = pd.Series([22,24,21,20,33,19,20],name=\"Age\")\n",
    "print(ages)\n",
    "\n",
    "# Apply and reassign ages here!"
   ]
  },
  {
   "cell_type": "markdown",
   "metadata": {},
   "source": [
    "### Objective 5: Frame it!\n",
    "Create a new pandas DataFrame object called `members` with the following values in it:\n",
    "```\n",
    "Name\t\t\t\tGender\t\tTShirt Size\n",
    "Meaghan Lackey\t\tFemale\t\tXL\n",
    "Griswold Vasil\t\tMale\t\tXL\n",
    "Fredrika Benz\t\tFemale\t\t3XL\n",
    "Madeleine Field\t\tFemale\t\tS\n",
    "Rahal Harriagn\t\tMale\t\tXS\n",
    "Brewster Deport\t\tMale\t\tL\n",
    "Burtie Lakenden\t\tFemale\t\tL\n",
    "```\n",
    "\n",
    "*Tip: It might be useful to seperate each column to their own object!*"
   ]
  },
  {
   "cell_type": "code",
   "execution_count": null,
   "metadata": {},
   "outputs": [],
   "source": []
  },
  {
   "cell_type": "markdown",
   "metadata": {},
   "source": [
    "### Objective 6: Only by name please.\n",
    "Extract all the names in our DataFrame into a new variable called `names`, print this variable and observe what object type is returned."
   ]
  },
  {
   "cell_type": "code",
   "execution_count": null,
   "metadata": {},
   "outputs": [],
   "source": []
  },
  {
   "cell_type": "markdown",
   "metadata": {},
   "source": [
    "### Objective 7: Bringing it all together\n",
    "Assign two new columns to our `members` DataFrame:\n",
    "* Add our `cities` Series from objective 1 as `members[\"City\"]`\n",
    "* Add our corrected `ages` Series from objective 4 as `members[\"Age\"]`\n",
    "\n",
    "Then call `members` variable to create a pretty HTML table in our notebook. "
   ]
  },
  {
   "cell_type": "code",
   "execution_count": null,
   "metadata": {},
   "outputs": [],
   "source": []
  },
  {
   "cell_type": "markdown",
   "metadata": {},
   "source": [
    "### Objective 8: Export to something useful!\n",
    "Write our completed `members` DataFrame to a new Excel spreadsheet called `members.xlsx`. Open the spreadsheet on your work station to ensure all the data extracted correctly! Submit `members.xlsx` as part of the assignment upload."
   ]
  },
  {
   "cell_type": "code",
   "execution_count": null,
   "metadata": {},
   "outputs": [],
   "source": []
  },
  {
   "cell_type": "markdown",
   "metadata": {},
   "source": [
    "### Objective 9: Read it and weep!\n",
    "Now read in our `members.xlsx` file into a new variable called `member_data`. Print `member_data` in the cell below and explain one key difference between the `members` and `member_data` Dataframes."
   ]
  },
  {
   "cell_type": "code",
   "execution_count": null,
   "metadata": {},
   "outputs": [],
   "source": []
  },
  {
   "cell_type": "markdown",
   "metadata": {},
   "source": []
  }
 ],
 "metadata": {
  "kernelspec": {
   "display_name": "Python 3 (ipykernel)",
   "language": "python",
   "name": "python3"
  },
  "language_info": {
   "codemirror_mode": {
    "name": "ipython",
    "version": 3
   },
   "file_extension": ".py",
   "mimetype": "text/x-python",
   "name": "python",
   "nbconvert_exporter": "python",
   "pygments_lexer": "ipython3",
   "version": "3.9.7"
  }
 },
 "nbformat": 4,
 "nbformat_minor": 4
}
