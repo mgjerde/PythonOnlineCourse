{
 "cells": [
  {
   "cell_type": "markdown",
   "metadata": {},
   "source": [
    "# File Input & Output\n",
    "# Adding files into our code\n",
    "In this lesson we will be learning how to read data from files and writing output to files."
   ]
  },
  {
   "cell_type": "markdown",
   "metadata": {},
   "source": [
    "### Objective 1: Why the IO, bro?\n",
    "If we create a dict populated with thousands of data elements, and then turn off our workstation, what happens to that data? Explain how file IO could solve this."
   ]
  },
  {
   "cell_type": "markdown",
   "metadata": {},
   "source": [
    "Since all of the elements are stored in memory and RAM is volatile, the data gets wiped when the power is gone. The solution is to store the data in files since that is stored on the harddrive."
   ]
  },
  {
   "cell_type": "markdown",
   "metadata": {},
   "source": [
    "### Objective 2: IO Flags\n",
    "To open a file we need to grant the Python interpreter permissions by declaring a permission flag when using the `open()` built-in function. State and explain the difference between each flag, then give an example of how each would be used."
   ]
  },
  {
   "cell_type": "markdown",
   "metadata": {},
   "source": [
    "\n",
    "* `open(filename, \"r\")`\n",
    "opens the file with permissions to read the file, but not write to the file\n",
    "* `open(filename, \"w\")`\n",
    "creates a new file and gives access to write to this file, but if the file already exists, it overwrites this file with the new one\n",
    "* `open(filename, \"a\")`\n",
    "opens a file and gives acess for writing but does not delete the file, but instead starts writing at the end of the existing file.\n",
    "* `open(filename, \"x\")`\n",
    "opens a file for writing, but if the file already exists, it throws an error.\n",
    "\n"
   ]
  },
  {
   "cell_type": "markdown",
   "metadata": {},
   "source": [
    "### Objective 3: Read 'em and weep\n",
    "Use the `open()` and the `readlines()` methods, write a program the counts the number of times every letter appears in `alice_in_wonderland.txt`. We are only interested in the alphabet from A to Z, so ensure your program removes or ignores any special characters like `\\n` or `;`, etc. Finally print your data in descending order, showing the letter and the number of instances recorded."
   ]
  },
  {
   "cell_type": "code",
   "execution_count": 16,
   "metadata": {},
   "outputs": [
    {
     "name": "stdout",
     "output_type": "stream",
     "text": [
      "{'a': 8794, 'b': 1475, 'c': 2400, 'd': 4934, 'e': 13579, 'f': 2001, 'g': 2531, 'h': 7374, 'i': 7516, 'j': 146, 'k': 1158, 'l': 4718, 'm': 2107, 'n': 7020, 'o': 8147, 'p': 1524, 'q': 209, 'r': 5440, 's': 6502, 't': 10689, 'u': 3469, 'v': 847, 'w': 2676, 'x': 148, 'y': 2262, 'z': 78}\n"
     ]
    }
   ],
   "source": [
    "interestingcharacters = {\n",
    "    \"a\": 0,\"b\": 0,\"c\": 0,\"d\": 0,\"e\": 0,\"f\": 0,\"g\": 0,\"h\": 0,\"i\": 0,\"j\": 0,\"k\": 0,\"l\": 0,\"m\": 0,\n",
    "    \"n\": 0,\"o\": 0,\"p\": 0,\"q\": 0,\"r\": 0,\"s\": 0,\"t\": 0,\"u\": 0,\"v\": 0,\"w\": 0,\"x\": 0,\"y\": 0,\"z\": 0\n",
    "    }\n",
    "\n",
    "\n",
    "with open(\"alice_in_wonderland.txt\",\"r\") as file_in:\n",
    "    for line in file_in.readlines():\n",
    "        for letter in line.lower():\n",
    "            for character in interestingcharacters:\n",
    "                if character == letter:\n",
    "                    interestingcharacters[character] += 1\n",
    "\n",
    "print(interestingcharacters)\n"
   ]
  },
  {
   "cell_type": "markdown",
   "metadata": {},
   "source": [
    "### Objective 4: Report your findings!\n",
    "Using the data recovered from objective 3, write a program that creates a file called `letters_in_alice.txt` and the write each letter and the number of occurances in alphabetical order from a to z on its own new line in the file. An example of the output would be\n",
    "\n",
    "`a 100`\n",
    "\n",
    "`b 701`\n",
    "\n",
    "etc"
   ]
  },
  {
   "cell_type": "code",
   "execution_count": 15,
   "metadata": {},
   "outputs": [],
   "source": [
    "with open(\"letters_in_alice.txt\",\"w\") as file_out:\n",
    "    for character in interestingcharacters:\n",
    "        file_out.write(f\"{character} {interestingcharacters[character]} \\n\")\n",
    "\n"
   ]
  },
  {
   "cell_type": "markdown",
   "metadata": {},
   "source": [
    "### Objective 5: A clean sweep\n",
    "Write a program that does the following:\n",
    "1. Opens a `alice_in_wonderland.txt` and writes to new file `aiw_rewritten.txt`\n",
    "2. Read each line in alice in wonderland and remove every non alphabetical character, for example `,'.-!` etc, however keep whitespaces\n",
    "3. Replace any uppercase letter with its lowercase\n",
    "4. Then replace every instances of the whole word `alice` with your name!\n",
    "5. Output the resulting story book into `aiw_rewritten`.\n"
   ]
  },
  {
   "cell_type": "code",
   "execution_count": 21,
   "metadata": {},
   "outputs": [],
   "source": [
    "accepted = \"abcdefghijklmnopqrstuvwxyz \"\n",
    "with open(\"alice_in_wonderland.txt\", \"r\") as file_in:\n",
    "    with open(\"aiw_rewritten.txt\", \"w\") as file_out:\n",
    "        for line in file_in.readlines():\n",
    "            newline = \"\".join(char for char in line.lower() if char in accepted).replace(\"alice\",\"marius\")\n",
    "            # newline = newline.lower()\n",
    "            file_out.write(f\"{newline}\\n\")\n",
    "            "
   ]
  }
 ],
 "metadata": {
  "interpreter": {
   "hash": "ad2bdc8ecc057115af97d19610ffacc2b4e99fae6737bb82f5d7fb13d2f2c186"
  },
  "kernelspec": {
   "display_name": "Python 3.9.7 ('base')",
   "language": "python",
   "name": "python3"
  },
  "language_info": {
   "codemirror_mode": {
    "name": "ipython",
    "version": 3
   },
   "file_extension": ".py",
   "mimetype": "text/x-python",
   "name": "python",
   "nbconvert_exporter": "python",
   "pygments_lexer": "ipython3",
   "version": "3.9.7"
  }
 },
 "nbformat": 4,
 "nbformat_minor": 4
}
