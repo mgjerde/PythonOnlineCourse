{
 "cells": [
  {
   "cell_type": "markdown",
   "metadata": {},
   "source": [
    "# Inheritance\n",
    "# Subclasses, inheritance, and overrides\n",
    "In this lesson we will be exploring the use of inheritance and subclasses."
   ]
  },
  {
   "cell_type": "markdown",
   "metadata": {},
   "source": [
    "### Objective 1: The basics: ET phone home\n",
    "Below is the class definition for a `Phone` class. Execute the cell and observe the output. Then in the cell below it create a subclass called `SmartPhone` that adds the following attributes:\n",
    "* A boolean `WiFi`\n",
    "* A list called `Apps`\n",
    "* A string called `Camera`\n",
    "* An int called `MegaPixels` \n",
    "\n",
    "Create a new class function called `more_info(wifi, apps, camera, megapixels)` to assign these values to the object. "
   ]
  },
  {
   "cell_type": "code",
   "execution_count": 1,
   "metadata": {},
   "outputs": [
    {
     "name": "stdout",
     "output_type": "stream",
     "text": [
      "KX-PRS120 Panasonic (022-558-7479)\n"
     ]
    }
   ],
   "source": [
    "class Phone:\n",
    "    phone_number = None\n",
    "    model = None\n",
    "    make = None\n",
    "    \n",
    "    def __init__(self, number, model, make):\n",
    "        self.phone_number = number\n",
    "        self.model = model\n",
    "        self.make = make\n",
    "    \n",
    "    def __str__(self):\n",
    "        return f\"{self.make} {self.model} ({self.phone_number})\"\n",
    "    \n",
    "kxprs120 = Phone(\"022-558-7479\",\"Panasonic\",\"KX-PRS120\")\n",
    "\n",
    "print(kxprs120)"
   ]
  },
  {
   "cell_type": "code",
   "execution_count": 2,
   "metadata": {},
   "outputs": [
    {
     "name": "stdout",
     "output_type": "stream",
     "text": [
      "Galaxy S10 Samsung (021-844-9670)\n"
     ]
    }
   ],
   "source": [
    "class SmartPhone(Phone):\n",
    "    wifi = None\n",
    "    apps = None\n",
    "    camera = None\n",
    "    megapixels = None\n",
    "\n",
    "    def more_info(self,wifi, apps, camera, megapixels):\n",
    "        self.wifi = wifi\n",
    "        self.apps = apps\n",
    "        self.camera = camera\n",
    "        self.megapixels = megapixels\n",
    "\n",
    "galaxys10 = SmartPhone(\"021-844-9670\",\"Samsung\",\"Galaxy S10\")\n",
    "galaxys10.more_info(True,[\"Google Play\",\"Facebook\",\"Instagram\",\"Pokemon Go\"],\"Backfacing\",13)\n",
    "print(galaxys10)"
   ]
  },
  {
   "cell_type": "markdown",
   "metadata": {},
   "source": [
    "### Objective 2: Overrides and assignments\n",
    "Our `SmartPhone` subclass is functional, but not effecient. Copy the code from the cell above and apply the following changes:\n",
    "* Use an override on `__init__` to add the additional paramaters from `more_info` to the initialization of the object\n",
    " * Hint: the `super()` function may be very important here\n",
    "* Use an override on `__str__` to extend the string representation of the class to the following format:\n",
    " * `Samsung Galaxy S10 (021-844-9670), Apps installed: 4, 13 MP Backfacing camera`\n",
    "* Write a new function called `install_app()` which add a new app to our internal app list if the app is not already installed."
   ]
  },
  {
   "cell_type": "code",
   "execution_count": 3,
   "metadata": {},
   "outputs": [
    {
     "name": "stdout",
     "output_type": "stream",
     "text": [
      "Samsung Galaxy S10 (021-844-9670), Apps installed: 5, 13 MP Backfacing camera\n",
      "Samsung Galaxy S11 (123), Apps installed: 0, 10 MP Frontfacing camera\n"
     ]
    }
   ],
   "source": [
    "class SmartPhone(Phone):\n",
    "    wifi = None\n",
    "    apps = None\n",
    "    camera = None\n",
    "    megapixels = None\n",
    "\n",
    "    def __init__(self, number, model, make, wifi, apps, camera, megapixels):\n",
    "        super(SmartPhone,self).__init__(number,model,make)\n",
    "        self.wifi = wifi\n",
    "        self.apps = apps\n",
    "        self.camera = camera\n",
    "        self.megapixels = megapixels\n",
    "\n",
    "    def __str__(self):\n",
    "        return f\"{self.model} {self.make} ({self.phone_number}), Apps installed: {len(self.apps)}, {self.megapixels} MP {self.camera} camera\"\n",
    "    \n",
    "    def more_info(self,wifi, apps, camera, megapixels):\n",
    "        self.wifi = wifi\n",
    "        self.apps = apps\n",
    "        self.camera = camera\n",
    "        self.megapixels = megapixels\n",
    "\n",
    "    def install_app(self, app):\n",
    "        if app not in self.apps:\n",
    "            self.apps.append(app)\n",
    "\n",
    "galaxys10 = SmartPhone(\"021-844-9670\",\"Samsung\",\"Galaxy S10\",True,[\"Google Play\",\"Facebook\",\"Instagram\",\"Pokemon Go\"],\"Backfacing\",13)\n",
    "galaxys11 = SmartPhone(\"123\",\"Samsung\", \"Galaxy S11\",True,[],\"Frontfacing\",10)\n",
    "galaxys10.install_app(\"Facebook 2 - Facebookerer\")\n",
    "print(galaxys10)\n",
    "print(galaxys11)"
   ]
  },
  {
   "cell_type": "markdown",
   "metadata": {},
   "source": [
    "### Objective 3: Backwards compatability?\n",
    "Is it possible to add Apps to our `kxprs120` object? Attempt to do this in the cell below. Explain the result your get in the cell below that and give some insight on whats going on."
   ]
  },
  {
   "cell_type": "code",
   "execution_count": 4,
   "metadata": {},
   "outputs": [
    {
     "ename": "AttributeError",
     "evalue": "'Phone' object has no attribute 'install_apps'",
     "output_type": "error",
     "traceback": [
      "\u001b[1;31m---------------------------------------------------------------------------\u001b[0m",
      "\u001b[1;31mAttributeError\u001b[0m                            Traceback (most recent call last)",
      "\u001b[1;32m~\\AppData\\Local\\Temp/ipykernel_83316/3791036554.py\u001b[0m in \u001b[0;36m<module>\u001b[1;34m\u001b[0m\n\u001b[1;32m----> 1\u001b[1;33m \u001b[0mkxprs120\u001b[0m\u001b[1;33m.\u001b[0m\u001b[0minstall_apps\u001b[0m\u001b[1;33m(\u001b[0m\u001b[1;34m\"wakka\"\u001b[0m\u001b[1;33m)\u001b[0m \u001b[1;31m# 1\u001b[0m\u001b[1;33m\u001b[0m\u001b[1;33m\u001b[0m\u001b[0m\n\u001b[0m",
      "\u001b[1;31mAttributeError\u001b[0m: 'Phone' object has no attribute 'install_apps'"
     ]
    }
   ],
   "source": [
    "kxprs120.install_apps(\"wakka\") # 1"
   ]
  },
  {
   "cell_type": "markdown",
   "metadata": {},
   "source": [
    "i'm not sure if i understand the objective here, but atleast an answer is:\n",
    "\n",
    "since `kxprs120` is not a object of the `SmartPhone` class, it doesnt have the `install_app` method"
   ]
  },
  {
   "cell_type": "markdown",
   "metadata": {},
   "source": [
    "### Objective 4: Even smarter phones\n",
    "Create two more classes called `AndroidSmartPhone` and `AppleSmartPhone`. Both of these must be subclasses of the `SmartPhone` class.\n",
    "\n",
    "The android class must have following additional properties:\n",
    "* `version` string\n",
    "* `version_number` string\n",
    "\n",
    "The apples class must have the following properties:\n",
    "* `ios` string\n",
    "* `timemachine` bool"
   ]
  },
  {
   "cell_type": "code",
   "execution_count": 5,
   "metadata": {},
   "outputs": [],
   "source": [
    "class AndroidSmartPhone(SmartPhone):\n",
    "    def __init__(self, number, model, make, wifi, apps, camera, megapixels, version, version_number):\n",
    "        super(AndroidSmartPhone,self).__init__(number,model,make, wifi, apps, camera, megapixels)\n",
    "        self.version = version\n",
    "        self.version_number = version_number\n",
    "\n",
    "class AppleSmartPhone(SmartPhone):\n",
    "    def __init__(self, number, model, make, wifi, apps, camera, megapixels, ios, timemachine):\n",
    "        super(AppleSmartPhone,self).__init__(number,model,make, wifi, apps, camera, megapixels)\n",
    "        self.ios = ios\n",
    "        self.timemachine = timemachine\n",
    "\n"
   ]
  },
  {
   "cell_type": "markdown",
   "metadata": {},
   "source": [
    "### Objective 5: Compatibility?\n",
    "Is it possible to access the `MegaPixels` value from an `AppleSmartPhone` object? Test this, and explain your understanding."
   ]
  },
  {
   "cell_type": "code",
   "execution_count": 6,
   "metadata": {},
   "outputs": [
    {
     "name": "stdout",
     "output_type": "stream",
     "text": [
      "120\n"
     ]
    }
   ],
   "source": [
    "iphone = AppleSmartPhone(\"12345678\", \"Apple\",\"iPhone 5\",True,[\"Whatsapp\",\"Reddit\",\"Plex\"],\"Front and backfacing\",120,\"5\",True)\n",
    "print(iphone.megapixels)"
   ]
  },
  {
   "cell_type": "markdown",
   "metadata": {},
   "source": [
    "since the variable was initialized with the super() function, there is no problem accessing the value"
   ]
  },
  {
   "cell_type": "markdown",
   "metadata": {},
   "source": [
    "### Objective 6: Backwards?\n",
    "Is it possible to acces the `version` parameter from a `SmartPhone` object? Test and explain."
   ]
  },
  {
   "cell_type": "code",
   "execution_count": 7,
   "metadata": {},
   "outputs": [
    {
     "ename": "AttributeError",
     "evalue": "'SmartPhone' object has no attribute 'version'",
     "output_type": "error",
     "traceback": [
      "\u001b[1;31m---------------------------------------------------------------------------\u001b[0m",
      "\u001b[1;31mAttributeError\u001b[0m                            Traceback (most recent call last)",
      "\u001b[1;32m~\\AppData\\Local\\Temp/ipykernel_83316/3284677667.py\u001b[0m in \u001b[0;36m<module>\u001b[1;34m\u001b[0m\n\u001b[1;32m----> 1\u001b[1;33m \u001b[0mprint\u001b[0m\u001b[1;33m(\u001b[0m\u001b[0mgalaxys10\u001b[0m\u001b[1;33m.\u001b[0m\u001b[0mversion\u001b[0m\u001b[1;33m)\u001b[0m\u001b[1;33m\u001b[0m\u001b[1;33m\u001b[0m\u001b[0m\n\u001b[0m",
      "\u001b[1;31mAttributeError\u001b[0m: 'SmartPhone' object has no attribute 'version'"
     ]
    }
   ],
   "source": [
    "print(galaxys10.version)"
   ]
  },
  {
   "cell_type": "markdown",
   "metadata": {},
   "source": [
    "Since there is no variable named version in the SmartPhone object, there is no way of accessing such a variable"
   ]
  },
  {
   "cell_type": "markdown",
   "metadata": {},
   "source": [
    "### Objective 7: Instances and subclasses\n",
    "Use the `isinstance()` and `issubclass()` methods to test the following, you may create a few test objects as needed...\n",
    "* Is a `SmartPhone` a `Phone`?\n",
    "* Is an `AndroidSmartPhone` a `SmartPhone`?\n",
    "* Is an `AppleSmartPhone` a `Phone`?\n",
    "* Is `kxprs120` an instance of a `Phone`?\n",
    "* Is `galaxys10` an instance of `Phone`?\n",
    "\n",
    "Explain your understanding for each of the results"
   ]
  },
  {
   "cell_type": "code",
   "execution_count": 8,
   "metadata": {},
   "outputs": [
    {
     "name": "stdout",
     "output_type": "stream",
     "text": [
      "Is a Smartphone a Phone? True\n",
      "Is an AndroidSmartPhone a SmartPhone? True\n",
      "Is an AppleSmartPhone a Phone? True\n",
      "Is kxprs120 an instance of a Phone? True\n",
      "Is galaxys10 an instance of Phone? True\n"
     ]
    }
   ],
   "source": [
    "print(f\"Is a Smartphone a Phone? {issubclass(SmartPhone,Phone)}\")\n",
    "print(f\"Is an AndroidSmartPhone a SmartPhone? {issubclass(AndroidSmartPhone,SmartPhone)}\")\n",
    "print(f\"Is an AppleSmartPhone a Phone? {issubclass(AppleSmartPhone,Phone)}\")\n",
    "print(f\"Is kxprs120 an instance of a Phone? {isinstance(kxprs120,Phone)}\")\n",
    "print(f\"Is galaxys10 an instance of Phone? {isinstance(galaxys10,Phone)}\")"
   ]
  }
 ],
 "metadata": {
  "interpreter": {
   "hash": "ad2bdc8ecc057115af97d19610ffacc2b4e99fae6737bb82f5d7fb13d2f2c186"
  },
  "kernelspec": {
   "display_name": "Python 3.9.7 ('base')",
   "language": "python",
   "name": "python3"
  },
  "language_info": {
   "codemirror_mode": {
    "name": "ipython",
    "version": 3
   },
   "file_extension": ".py",
   "mimetype": "text/x-python",
   "name": "python",
   "nbconvert_exporter": "python",
   "pygments_lexer": "ipython3",
   "version": "3.9.7"
  }
 },
 "nbformat": 4,
 "nbformat_minor": 4
}
