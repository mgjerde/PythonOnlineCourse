{
 "cells": [
  {
   "cell_type": "markdown",
   "metadata": {},
   "source": [
    "# Inheritance\n",
    "# Subclasses, inheritance, and overrides\n",
    "In this lesson we will be exploring the use of inheritance and subclasses."
   ]
  },
  {
   "cell_type": "markdown",
   "metadata": {},
   "source": [
    "### Objective 1: The basics: ET phone home\n",
    "Below is the class definition for a `Phone` class. Execute the cell and observe the output. Then in the cell below it create a subclass called `SmartPhone` that adds the following attributes:\n",
    "* A boolean `WiFi`\n",
    "* A list called `Apps`\n",
    "* A string called `Camera`\n",
    "* An int called `MegaPixels` \n",
    "\n",
    "Create a new class function called `more_info(wifi, apps, camera, megapixels)` to assign these values to the object. "
   ]
  },
  {
   "cell_type": "code",
   "execution_count": 4,
   "metadata": {},
   "outputs": [
    {
     "name": "stdout",
     "output_type": "stream",
     "text": [
      "KX-PRS120 Panasonic (022-558-7479)\n"
     ]
    }
   ],
   "source": [
    "class Phone:\n",
    "    phone_number = None\n",
    "    model = None\n",
    "    make = None\n",
    "    \n",
    "    def __init__(self, number, model, make):\n",
    "        self.phone_number = number\n",
    "        self.model = model\n",
    "        self.make = make\n",
    "    \n",
    "    def __str__(self):\n",
    "        return f\"{self.make} {self.model} ({self.phone_number})\"\n",
    "    \n",
    "kxprs120 = Phone(\"022-558-7479\",\"Panasonic\",\"KX-PRS120\")\n",
    "\n",
    "print(kxprs120)"
   ]
  },
  {
   "cell_type": "code",
   "execution_count": null,
   "metadata": {},
   "outputs": [],
   "source": [
    "# TODO: Create smartphone subclass here\n",
    "\n",
    "galaxys10 = SmartPhone(\"021-844-9670\",\"Samsung\",\"Galaxy S10\")\n",
    "galaxys10.more_info(True,[\"Google Play\",\"Facebook\",\"Instagram\",\"Pokemon Go\"],\"Backfacing\",13)\n",
    "print(galaxys10)"
   ]
  },
  {
   "cell_type": "markdown",
   "metadata": {},
   "source": [
    "### Objective 2: Overrides and assignments\n",
    "Our `SmartPhone` subclass is functional, but not effecient. Copy the code from the cell above and apply the following changes:\n",
    "* Use an override on `__init__` to add the additional paramaters from `more_info` to the initialization of the object\n",
    " * Hint: the `super()` function may be very important here\n",
    "* Use an override on `__str__` to extend the string representation of the class to the following format:\n",
    " * `Samsung Galaxy S10 (021-844-9670), Apps installed: 4, 13 MP Backfacing camera`\n",
    "* Write a new function called `install_app()` which add a new app to our internal app list if the app is not already installed."
   ]
  },
  {
   "cell_type": "code",
   "execution_count": null,
   "metadata": {},
   "outputs": [],
   "source": []
  },
  {
   "cell_type": "markdown",
   "metadata": {},
   "source": [
    "### Objective 3: Backwards compatability?\n",
    "Is it possible to add Apps to our `kxprs120` object? Attempt to do this in the cell below. Explain the result your get in the cell below that and give some insight on whats going on."
   ]
  },
  {
   "cell_type": "code",
   "execution_count": null,
   "metadata": {},
   "outputs": [],
   "source": []
  },
  {
   "cell_type": "markdown",
   "metadata": {},
   "source": []
  },
  {
   "cell_type": "markdown",
   "metadata": {},
   "source": [
    "### Objective 4: Even smarter phones\n",
    "Create two more classes called `AndroidSmartPhone` and `AppleSmartPhone`. Both of these must be subclasses of the `SmartPhone` class.\n",
    "\n",
    "The android class must have following additional properties:\n",
    "* `version` string\n",
    "* `version_number` string\n",
    "\n",
    "The apples class must have the following properties:\n",
    "* `ios` string\n",
    "* `timemachine` bool"
   ]
  },
  {
   "cell_type": "code",
   "execution_count": null,
   "metadata": {},
   "outputs": [],
   "source": []
  },
  {
   "cell_type": "markdown",
   "metadata": {},
   "source": [
    "### Objective 5: Compatibility?\n",
    "Is it possible to access the `MegaPixels` value from an `AppleSmartPhone` object? Test this, and explain your understanding."
   ]
  },
  {
   "cell_type": "code",
   "execution_count": null,
   "metadata": {},
   "outputs": [],
   "source": []
  },
  {
   "cell_type": "markdown",
   "metadata": {},
   "source": []
  },
  {
   "cell_type": "markdown",
   "metadata": {},
   "source": [
    "### Objective 6: Backwards?\n",
    "Is it possible to acces the `version` parameter from a `SmartPhone` object? Test and explain."
   ]
  },
  {
   "cell_type": "code",
   "execution_count": null,
   "metadata": {},
   "outputs": [],
   "source": []
  },
  {
   "cell_type": "markdown",
   "metadata": {},
   "source": []
  },
  {
   "cell_type": "markdown",
   "metadata": {},
   "source": [
    "### Objective 7: Instances and subclasses\n",
    "Use the `isinstance()` and `issubclass()` methods to test the following, you may create a few test objects as needed...\n",
    "* Is a `SmartPhone` a `Phone`?\n",
    "* Is an `AndroidSmartPhone` a `SmartPhone`?\n",
    "* Is an `AppleSmartPhone` a `Phone`?\n",
    "* Is `kxprs120` an instance of a `Phone`?\n",
    "* Is `galaxys10` an instance of `Phone`?\n",
    "\n",
    "Explain your understanding for each of the results"
   ]
  },
  {
   "cell_type": "code",
   "execution_count": null,
   "metadata": {},
   "outputs": [],
   "source": []
  }
 ],
 "metadata": {
  "kernelspec": {
   "display_name": "Python 3 (ipykernel)",
   "language": "python",
   "name": "python3"
  },
  "language_info": {
   "codemirror_mode": {
    "name": "ipython",
    "version": 3
   },
   "file_extension": ".py",
   "mimetype": "text/x-python",
   "name": "python",
   "nbconvert_exporter": "python",
   "pygments_lexer": "ipython3",
   "version": "3.9.7"
  }
 },
 "nbformat": 4,
 "nbformat_minor": 4
}
