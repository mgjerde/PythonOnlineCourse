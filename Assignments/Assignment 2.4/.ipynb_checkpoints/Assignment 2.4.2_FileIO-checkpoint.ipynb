{
 "cells": [
  {
   "cell_type": "markdown",
   "metadata": {},
   "source": [
    "# File Input & Output\n",
    "# Adding files into our code\n",
    "In this lesson we will be learning how to read data from files and writing output to files."
   ]
  },
  {
   "cell_type": "markdown",
   "metadata": {},
   "source": [
    "### Objective 1: Why the IO, bro?\n",
    "If we create a dict populated with thousands of data elements, and then turn off our workstation, what happens to that data? Explain how file IO could solve this."
   ]
  },
  {
   "cell_type": "markdown",
   "metadata": {},
   "source": []
  },
  {
   "cell_type": "markdown",
   "metadata": {},
   "source": [
    "### Objective 2: IO Flags\n",
    "To open a file we need to grant the Python interpreter permissions by declaring a permission flag when using the `open()` built-in function. State and explain the difference between each flag, then give an example of how each would be used."
   ]
  },
  {
   "cell_type": "markdown",
   "metadata": {},
   "source": []
  },
  {
   "cell_type": "markdown",
   "metadata": {},
   "source": [
    "### Objective 3: Read 'em and weep\n",
    "Use the `open()` and the `readlines()` methods, write a program the counts the number of times every letter appears in `alice_in_wonderland.txt`. We are only interested in the alphabet from A to Z, so ensure your program removes or ignores any special characters like `\\n` or `;`, etc. Finally print your data in descending order, showing the letter and the number of instances recorded."
   ]
  },
  {
   "cell_type": "code",
   "execution_count": null,
   "metadata": {},
   "outputs": [],
   "source": []
  },
  {
   "cell_type": "markdown",
   "metadata": {},
   "source": [
    "### Objective 4: Report your findings!\n",
    "Using the data recovered from objective 3, write a program that creates a file called `letters_in_alice.txt` and the write each letter and the number of occurances in alphabetical order from a to z on its own new line in the file. An example of the output would be\n",
    "\n",
    "`a 100`\n",
    "\n",
    "`b 701`\n",
    "\n",
    "etc"
   ]
  },
  {
   "cell_type": "code",
   "execution_count": null,
   "metadata": {},
   "outputs": [],
   "source": []
  },
  {
   "cell_type": "markdown",
   "metadata": {},
   "source": [
    "### Objective 5: A clean sweep\n",
    "Write a program that does the following:\n",
    "1. Opens a `alice_in_wonderland.txt` and writes to new file `aiw_rewritten.txt`\n",
    "2. Read each line in alice in wonderland and remove every non alphabetical character, for example `,'.-!` etc, however keep whitespaces\n",
    "3. Replace any uppercase letter with its lowercase\n",
    "4. Then replace every instances of the whole word `alice` with your name!\n",
    "5. Output the resulting story book into `aiw_rewritten`.\n"
   ]
  },
  {
   "cell_type": "code",
   "execution_count": null,
   "metadata": {},
   "outputs": [],
   "source": []
  }
 ],
 "metadata": {
  "kernelspec": {
   "display_name": "Python 3 (ipykernel)",
   "language": "python",
   "name": "python3"
  },
  "language_info": {
   "codemirror_mode": {
    "name": "ipython",
    "version": 3
   },
   "file_extension": ".py",
   "mimetype": "text/x-python",
   "name": "python",
   "nbconvert_exporter": "python",
   "pygments_lexer": "ipython3",
   "version": "3.9.7"
  }
 },
 "nbformat": 4,
 "nbformat_minor": 4
}
