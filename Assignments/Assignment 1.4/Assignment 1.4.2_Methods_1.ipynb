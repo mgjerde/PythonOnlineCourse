{
 "cells": [
  {
   "cell_type": "markdown",
   "metadata": {},
   "source": [
    "# Methods I\n",
    "# Basic methodologies\n",
    "In this lesson we will be coding methods and functions"
   ]
  },
  {
   "cell_type": "markdown",
   "metadata": {},
   "source": [
    "### Objective 1: Philosphy behind the method\n",
    "Explain what a method is. Explain what the primary reason we, as programmers, make use of methods in our software is."
   ]
  },
  {
   "cell_type": "markdown",
   "metadata": {},
   "source": [
    "A method is a set of commands written as function that can be reused within the program\n",
    "The primary reason we use methods is to reduce the code we need to write."
   ]
  },
  {
   "cell_type": "markdown",
   "metadata": {},
   "source": [
    "### Objective 2: The basics\n",
    "Write a method that prints every letter from A to Z in the English alphabet. Yor method name must be `print_alpha`"
   ]
  },
  {
   "cell_type": "code",
   "execution_count": 1,
   "metadata": {},
   "outputs": [
    {
     "name": "stdout",
     "output_type": "stream",
     "text": [
      "a\n",
      "b\n",
      "c\n",
      "d\n",
      "e\n",
      "f\n",
      "g\n",
      "h\n",
      "i\n",
      "j\n",
      "k\n",
      "l\n",
      "m\n",
      "n\n",
      "o\n",
      "p\n",
      "q\n",
      "r\n",
      "s\n",
      "t\n",
      "u\n",
      "v\n",
      "w\n",
      "x\n",
      "y\n",
      "z\n"
     ]
    }
   ],
   "source": [
    "def print_alpha():\n",
    "    letters = \"abcdefghijklmnopqrstuvwxyz\"\n",
    "    for letter in letters:\n",
    "        print(letter)\n",
    "\n",
    "print_alpha()"
   ]
  },
  {
   "cell_type": "markdown",
   "metadata": {},
   "source": [
    "### Objective 3: Adding parameters\n",
    "Write a method called `menu_print` that does the following:\n",
    "* The method uses two paramaters `restaurant` and `menu`.\n",
    "* `restaurant` is a string with the name of a restaurant \n",
    "* `menu` is a list of tuples with all the menu items in it, each tuple has the food name in position 0 and cost as a float in position 1\n",
    "* The function must print the name of the restaurant and each menu item's name and price on a serperate line."
   ]
  },
  {
   "cell_type": "code",
   "execution_count": 5,
   "metadata": {},
   "outputs": [
    {
     "name": "stdout",
     "output_type": "stream",
     "text": [
      "Applebees\n",
      "Hamburger        13.99\n",
      "French Fries      8.99\n",
      "Salad            10.99\n"
     ]
    }
   ],
   "source": [
    "def menu_print(restaurant, menu):\n",
    "    print(restaurant)\n",
    "    for (item, price) in menu:\n",
    "        print(f\"{item:<15} {price:>6}\")\n",
    "\n",
    "menu_print(\"Applebees\",[(\"Hamburger\",13.99),(\"French Fries\",8.99),(\"Salad\",10.99)])"
   ]
  },
  {
   "cell_type": "markdown",
   "metadata": {},
   "source": [
    "### Objective 4: Optional paramaters\n",
    "Copy your code from above into the cell below. Create a third optional paramater called `inflation` with a default value of `1`. Make your function multiply the menu item prices with the value given by `inflation` before printing it. Then run the cell below it to ensure your function is working properly."
   ]
  },
  {
   "cell_type": "code",
   "execution_count": 10,
   "metadata": {},
   "outputs": [
    {
     "name": "stdout",
     "output_type": "stream",
     "text": [
      "Applebees\n",
      "Hamburger        13.99\n",
      "French Fries      8.99\n",
      "Salad            10.99\n"
     ]
    }
   ],
   "source": [
    "def menu_print(restaurant, menu, inflation=1):\n",
    "    print(restaurant)\n",
    "    for (item, price) in menu:\n",
    "        print(f\"{item:<15} {price*inflation:>6.2f}\")\n",
    "\n",
    "menu_print(\"Applebees\",[(\"Hamburger\",13.99),(\"French Fries\",8.99),(\"Salad\",10.99)])"
   ]
  },
  {
   "cell_type": "code",
   "execution_count": 11,
   "metadata": {},
   "outputs": [
    {
     "name": "stdout",
     "output_type": "stream",
     "text": [
      "Applebees\n",
      "Hamburger        13.99\n",
      "French Fries      8.99\n",
      "Salad            10.99\n",
      "Applebees\n",
      "Hamburger        14.69\n",
      "French Fries      9.44\n",
      "Salad            11.54\n",
      "Applebees\n",
      "Hamburger        18.61\n",
      "French Fries     11.96\n",
      "Salad            14.62\n"
     ]
    }
   ],
   "source": [
    "menu_print(\"Applebees\",[(\"Hamburger\",13.99),(\"French Fries\",8.99),(\"Salad\",10.99)]) # default\n",
    "menu_print(\"Applebees\",[(\"Hamburger\",13.99),(\"French Fries\",8.99),(\"Salad\",10.99)],1.05)\n",
    "menu_print(\"Applebees\",[(\"Hamburger\",13.99),(\"French Fries\",8.99),(\"Salad\",10.99)],1.33)"
   ]
  },
  {
   "cell_type": "markdown",
   "metadata": {},
   "source": [
    "### Objective 5: Return statements\n",
    "Write a function called `item_price` below that does the following:\n",
    "* Searches for the name of an item in the `Applebees` list\n",
    "* If the item is found then it will return the price of that item as a float\n",
    "* If the item is not found it will return -1\n"
   ]
  },
  {
   "cell_type": "code",
   "execution_count": 17,
   "metadata": {},
   "outputs": [
    {
     "name": "stdout",
     "output_type": "stream",
     "text": [
      "8.99\n",
      "-1\n"
     ]
    }
   ],
   "source": [
    "Applebees = [(\"Hamburger\",13.99),(\"French Fries\",8.99),(\"Salad\",10.99),(\"Soda\",2.99),(\"Chocolate Cake\",15.99)]\n",
    "\n",
    "def item_price(name):\n",
    "    for (item, price) in Applebees:\n",
    "        if item == name:\n",
    "            return float(price)\n",
    "    return -1\n",
    "\n",
    "print(item_price(\"French Fries\"))\n",
    "print(item_price(\"Tapioca\"))"
   ]
  },
  {
   "cell_type": "markdown",
   "metadata": {},
   "source": [
    "### Objective 6: Multiple return\n",
    "Copy your code from the objective above to the cell below. Modify your code to the following:\n",
    "* Apply inflation to each price over the course of 5 years\n",
    "* You must return the price for this year, the next year, the year after that, etc for the next 5 years.\n",
    "* The inflation rate is 1.01\n",
    "* If the item is not found in the list only return -1"
   ]
  },
  {
   "cell_type": "code",
   "execution_count": 21,
   "metadata": {},
   "outputs": [
    {
     "name": "stdout",
     "output_type": "stream",
     "text": [
      "[8.99, 9.08, 9.17, 9.26, 9.36, 9.45]\n",
      "-1\n"
     ]
    }
   ],
   "source": [
    "Applebees = [(\"Hamburger\",13.99),(\"French Fries\",8.99),(\"Salad\",10.99),(\"Soda\",2.99),(\"Chocolate Cake\",15.99)]\n",
    "\n",
    "def item_price(name):\n",
    "    inflationrate = 1.01\n",
    "    inflation5years = []\n",
    "    for (item, price) in Applebees:\n",
    "        if item == name:\n",
    "            inflation5years.append(price)\n",
    "            for i in range(5):\n",
    "                price *= inflationrate\n",
    "                inflation5years.append(round(price,2))\n",
    "            return inflation5years\n",
    "    return -1\n",
    "\n",
    "print(item_price(\"French Fries\"))\n",
    "print(item_price(\"Tapioca\"))"
   ]
  },
  {
   "cell_type": "markdown",
   "metadata": {},
   "source": [
    "### Objective 7: Blank return\n",
    "What happens when we call a function without a return statement? Does it return a data type? Test this below and explain your findings."
   ]
  },
  {
   "cell_type": "code",
   "execution_count": 28,
   "metadata": {},
   "outputs": [
    {
     "data": {
      "text/plain": [
       "NoneType"
      ]
     },
     "execution_count": 28,
     "metadata": {},
     "output_type": "execute_result"
    }
   ],
   "source": [
    "def noreturnfunction():\n",
    "    pass\n",
    "\n",
    "type(noreturnfunction())"
   ]
  },
  {
   "cell_type": "markdown",
   "metadata": {},
   "source": [
    "It returns a None type Object."
   ]
  }
 ],
 "metadata": {
  "kernelspec": {
   "display_name": "Python 3 (ipykernel)",
   "language": "python",
   "name": "python3"
  },
  "language_info": {
   "codemirror_mode": {
    "name": "ipython",
    "version": 3
   },
   "file_extension": ".py",
   "mimetype": "text/x-python",
   "name": "python",
   "nbconvert_exporter": "python",
   "pygments_lexer": "ipython3",
   "version": "3.9.7"
  }
 },
 "nbformat": 4,
 "nbformat_minor": 4
}
