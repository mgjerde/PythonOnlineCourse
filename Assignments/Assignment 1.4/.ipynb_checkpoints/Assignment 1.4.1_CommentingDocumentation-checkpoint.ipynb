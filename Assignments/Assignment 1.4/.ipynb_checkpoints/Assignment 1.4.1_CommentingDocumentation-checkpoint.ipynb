{
 "cells": [
  {
   "cell_type": "markdown",
   "metadata": {},
   "source": [
    "# Commenting and Documentation\n",
    "# \\#Leave your comments\n",
    "In this lesson we will be working on the readability of our code"
   ]
  },
  {
   "cell_type": "markdown",
   "metadata": {},
   "source": [
    "### Objective 1: Refreshing\n",
    "Demonstrate your understanding of how to use comments. Write a small program that includes a for loop and properly comment what your program does. Be creative.\\\n",
    "Your comments must include an example of the code will be doing and an example of a justification."
   ]
  },
  {
   "cell_type": "code",
   "execution_count": null,
   "metadata": {},
   "outputs": [],
   "source": []
  },
  {
   "cell_type": "markdown",
   "metadata": {},
   "source": [
    "### Objective 2: Tagging\n",
    "Look up the use of tagging in coding comments. Give 3 examples of tags and how they would be used."
   ]
  },
  {
   "cell_type": "markdown",
   "metadata": {},
   "source": []
  },
  {
   "cell_type": "markdown",
   "metadata": {},
   "source": [
    "### Objective 3: Refreshing\n",
    "Demonstrate your understanding of how to use comments. Write a small program that includes a for loop and properly comment what your program does. Be creative.\\\n",
    "Your comments must include an example of the code will be doing and an example of a justification."
   ]
  },
  {
   "cell_type": "code",
   "execution_count": null,
   "metadata": {},
   "outputs": [],
   "source": []
  },
  {
   "cell_type": "markdown",
   "metadata": {},
   "source": [
    "### Objective 4: Naming convention\n",
    "Explain what a naming convention is. How is it used? And why is it important to adopt one?"
   ]
  },
  {
   "cell_type": "markdown",
   "metadata": {},
   "source": []
  },
  {
   "cell_type": "markdown",
   "metadata": {},
   "source": [
    "### Objective 5: Code review\n",
    "A code review is the the action of reading someone else's code and giving feedback on the style and naming convention applied. Review the code below and give feedback on how it can be improved. You must name at least 3 flaws."
   ]
  },
  {
   "cell_type": "code",
   "execution_count": null,
   "metadata": {},
   "outputs": [],
   "source": [
    "# Lottery.py\n",
    "from random import randint as r\n",
    "mynum = []\n",
    "for i in range(6):\n",
    "    NUMBER = r(1,51)\n",
    "    while (NUMBER in mynum):\n",
    "        NUMBER = r(1,51)\n",
    "    mynum.append(NUMBER)\n",
    "print(sorted(mynum))"
   ]
  },
  {
   "cell_type": "markdown",
   "metadata": {},
   "source": []
  },
  {
   "cell_type": "markdown",
   "metadata": {},
   "source": [
    "### Objective 6: Creating your own\n",
    "Suppose you were to create a naming convention for a company. Which naming styles would you choose for the code? Give some reasoning behind your choice.\n",
    "Then apply your new naming convention by rewriting *lottery.py* from the example above."
   ]
  },
  {
   "cell_type": "markdown",
   "metadata": {},
   "source": []
  },
  {
   "cell_type": "code",
   "execution_count": null,
   "metadata": {},
   "outputs": [],
   "source": []
  }
 ],
 "metadata": {
  "kernelspec": {
   "display_name": "Python 3 (ipykernel)",
   "language": "python",
   "name": "python3"
  },
  "language_info": {
   "codemirror_mode": {
    "name": "ipython",
    "version": 3
   },
   "file_extension": ".py",
   "mimetype": "text/x-python",
   "name": "python",
   "nbconvert_exporter": "python",
   "pygments_lexer": "ipython3",
   "version": "3.9.7"
  }
 },
 "nbformat": 4,
 "nbformat_minor": 4
}
