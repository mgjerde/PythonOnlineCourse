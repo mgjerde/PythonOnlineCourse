{
 "cells": [
  {
   "cell_type": "markdown",
   "metadata": {},
   "source": [
    "# Methods II\n",
    "# Namespaces\n",
    "In this lesson we will continue practicing method coding and understanding namespaces"
   ]
  },
  {
   "cell_type": "markdown",
   "metadata": {},
   "source": [
    "### Objective 1: Understanding namespaces\n",
    "Explain the difference between a local and global namespaces. What happens to the namespace when a function is defined?"
   ]
  },
  {
   "cell_type": "markdown",
   "metadata": {},
   "source": []
  },
  {
   "cell_type": "markdown",
   "metadata": {},
   "source": [
    "### Objective 2: Namespaces in practice\n",
    "Run the following code and answer the questions below."
   ]
  },
  {
   "cell_type": "code",
   "execution_count": null,
   "metadata": {},
   "outputs": [],
   "source": [
    "# dice_simulator.py\n",
    "from random import randint\n",
    "SIDES = 6\n",
    "\n",
    "def roll_dice(times):\n",
    "    result = []\n",
    "    for i in range(times):\n",
    "        result.append(randint(1,SIDES))\n",
    "    return result\n",
    "\n",
    "roll_dice(10) "
   ]
  },
  {
   "cell_type": "markdown",
   "metadata": {},
   "source": [
    "From all the variables `randint`, `SIDES`, `roll_dice`,`times`, and `result`. Which are local variables and which are global?"
   ]
  },
  {
   "cell_type": "markdown",
   "metadata": {},
   "source": []
  },
  {
   "cell_type": "markdown",
   "metadata": {},
   "source": [
    "What happens when we move `result` outside the method to line 4?"
   ]
  },
  {
   "cell_type": "markdown",
   "metadata": {},
   "source": []
  },
  {
   "cell_type": "markdown",
   "metadata": {},
   "source": [
    "Write the code `print(result)` one line 12 and re-run the cell. Explain what is happening"
   ]
  },
  {
   "cell_type": "code",
   "execution_count": null,
   "metadata": {},
   "outputs": [],
   "source": []
  },
  {
   "cell_type": "markdown",
   "metadata": {},
   "source": [
    "### Objective 3: locals() and globals()\n",
    "In the cell below call the function `locals()` and `globals()`. Explain what these functions return. *Hint: use help() to help your understanding*"
   ]
  },
  {
   "cell_type": "code",
   "execution_count": null,
   "metadata": {},
   "outputs": [],
   "source": []
  },
  {
   "cell_type": "markdown",
   "metadata": {},
   "source": []
  },
  {
   "cell_type": "markdown",
   "metadata": {},
   "source": [
    "### Objective 4: Methods in practice\n",
    "Copy and modify the code from Objective 2 to do the following:\n",
    "* Let `results` instead be a global variable will continuously add dice roll results to the list.\n",
    "* Create a new function called `clear_rolls` that removes the items from `results`\n",
    "* Create a new function called `average` which calculates the average between all current dice rolls in `results`"
   ]
  },
  {
   "cell_type": "code",
   "execution_count": null,
   "metadata": {},
   "outputs": [],
   "source": []
  }
 ],
 "metadata": {
  "kernelspec": {
   "display_name": "Python 3 (ipykernel)",
   "language": "python",
   "name": "python3"
  },
  "language_info": {
   "codemirror_mode": {
    "name": "ipython",
    "version": 3
   },
   "file_extension": ".py",
   "mimetype": "text/x-python",
   "name": "python",
   "nbconvert_exporter": "python",
   "pygments_lexer": "ipython3",
   "version": "3.9.7"
  }
 },
 "nbformat": 4,
 "nbformat_minor": 4
}
