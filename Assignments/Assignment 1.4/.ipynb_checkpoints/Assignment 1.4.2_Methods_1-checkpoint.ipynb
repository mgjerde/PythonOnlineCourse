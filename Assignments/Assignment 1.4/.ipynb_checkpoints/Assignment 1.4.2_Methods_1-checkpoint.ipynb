{
 "cells": [
  {
   "cell_type": "markdown",
   "metadata": {},
   "source": [
    "# Methods I\n",
    "# Basic methodologies\n",
    "In this lesson we will be coding methods and functions"
   ]
  },
  {
   "cell_type": "markdown",
   "metadata": {},
   "source": [
    "### Objective 1: Philosphy behind the method\n",
    "Explain what a method is. Explain what the primary reason we, as programmers, make use of methods in our software is."
   ]
  },
  {
   "cell_type": "markdown",
   "metadata": {},
   "source": []
  },
  {
   "cell_type": "markdown",
   "metadata": {},
   "source": [
    "### Objective 2: The basics\n",
    "Write a method that prints every letter from A to Z in the English alphabet. Yor method name must be `print_alpha`"
   ]
  },
  {
   "cell_type": "code",
   "execution_count": null,
   "metadata": {},
   "outputs": [],
   "source": [
    "# your method here\n",
    "\n",
    "print_alpha()"
   ]
  },
  {
   "cell_type": "markdown",
   "metadata": {},
   "source": [
    "### Objective 3: Adding parameters\n",
    "Write a method called `menu_print` that does the following:\n",
    "* The method uses two paramaters `restaurant` and `menu`.\n",
    "* `restaurant` is a string with the name of a restaurant \n",
    "* `menu` is a list of tuples with all the menu items in it, each tuple has the food name in position 0 and cost as a float in position 1\n",
    "* The function must print the name of the restaurant and each menu item's name and price on a serperate line."
   ]
  },
  {
   "cell_type": "code",
   "execution_count": null,
   "metadata": {},
   "outputs": [],
   "source": [
    "# your function here\n",
    "\n",
    "menu_print(\"Applebees\",[(\"Hamburger\",13.99),(\"French Fries\",8.99),(\"Salad\",10.99)])"
   ]
  },
  {
   "cell_type": "markdown",
   "metadata": {},
   "source": [
    "### Objective 4: Optional paramaters\n",
    "Copy your code from above into the cell below. Create a third optional paramater called `inflation` with a default value of `1`. Make your function multiply the menu item prices with the value given by `inflation` before printing it. Then run the cell below it to ensure your function is working properly."
   ]
  },
  {
   "cell_type": "code",
   "execution_count": null,
   "metadata": {},
   "outputs": [],
   "source": [
    "# modified code here"
   ]
  },
  {
   "cell_type": "code",
   "execution_count": null,
   "metadata": {},
   "outputs": [],
   "source": [
    "menu_print(\"Applebees\",[(\"Hamburger\",13.99),(\"French Fries\",8.99),(\"Salad\",10.99)]) # default\n",
    "menu_print(\"Applebees\",[(\"Hamburger\",13.99),(\"French Fries\",8.99),(\"Salad\",10.99)],1.05)\n",
    "menu_print(\"Applebees\",[(\"Hamburger\",13.99),(\"French Fries\",8.99),(\"Salad\",10.99)],1.33)"
   ]
  },
  {
   "cell_type": "markdown",
   "metadata": {},
   "source": [
    "### Objective 5: Return statements\n",
    "Write a function called `item_price` below that does the following:\n",
    "* Searches for the name of an item in the `Applebees` list\n",
    "* If the item is found then it will return the price of that item as a float\n",
    "* If the item is not found it will return -1\n"
   ]
  },
  {
   "cell_type": "code",
   "execution_count": null,
   "metadata": {},
   "outputs": [],
   "source": [
    "Applebees = [(\"Hamburger\",13.99),(\"French Fries\",8.99),(\"Salad\",10.99),(\"Soda\",2.99),(\"Chocolate Cake\",15.99)]\n",
    "\n",
    "#your function here\n",
    "\n",
    "print(item_price(\"French Fries\"))\n",
    "print(item_price(\"Tapioca\"))"
   ]
  },
  {
   "cell_type": "code",
   "execution_count": null,
   "metadata": {},
   "outputs": [],
   "source": []
  },
  {
   "cell_type": "markdown",
   "metadata": {},
   "source": [
    "### Objective 6: Multiple return\n",
    "Copy your code from the objective above to the cell below. Modify your code to the following:\n",
    "* Apply inflation to each price over the course of 5 years\n",
    "* You must return the price for this year, the next year, the year after that, etc for the next 5 years.\n",
    "* The inflation rate is 1.01\n",
    "* If the item is not found in the list only return -1"
   ]
  },
  {
   "cell_type": "code",
   "execution_count": null,
   "metadata": {},
   "outputs": [],
   "source": []
  },
  {
   "cell_type": "markdown",
   "metadata": {},
   "source": [
    "### Objective 7: Blank return\n",
    "What happens when we call a function without a return statement? Does it return a data type? Test this below and explain your findings."
   ]
  },
  {
   "cell_type": "code",
   "execution_count": null,
   "metadata": {},
   "outputs": [],
   "source": []
  },
  {
   "cell_type": "markdown",
   "metadata": {},
   "source": []
  }
 ],
 "metadata": {
  "kernelspec": {
   "display_name": "Python 3 (ipykernel)",
   "language": "python",
   "name": "python3"
  },
  "language_info": {
   "codemirror_mode": {
    "name": "ipython",
    "version": 3
   },
   "file_extension": ".py",
   "mimetype": "text/x-python",
   "name": "python",
   "nbconvert_exporter": "python",
   "pygments_lexer": "ipython3",
   "version": "3.9.7"
  }
 },
 "nbformat": 4,
 "nbformat_minor": 4
}
