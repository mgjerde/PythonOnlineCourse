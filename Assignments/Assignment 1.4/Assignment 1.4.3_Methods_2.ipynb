{
 "cells": [
  {
   "cell_type": "markdown",
   "metadata": {},
   "source": [
    "# Methods II\n",
    "# Namespaces\n",
    "In this lesson we will continue practicing method coding and understanding namespaces"
   ]
  },
  {
   "cell_type": "markdown",
   "metadata": {},
   "source": [
    "### Objective 1: Understanding namespaces\n",
    "Explain the difference between a local and global namespaces. What happens to the namespace when a function is defined?"
   ]
  },
  {
   "cell_type": "markdown",
   "metadata": {},
   "source": [
    "A local namespace will only be accessible from within its scope, while a global namespace is accessible throughout the program\n",
    "Nothing happends to the namespace when the function is defined, it's only when function is called that the namespace gets created and is accessible"
   ]
  },
  {
   "cell_type": "markdown",
   "metadata": {},
   "source": [
    "### Objective 2: Namespaces in practice\n",
    "Run the following code and answer the questions below."
   ]
  },
  {
   "cell_type": "code",
   "execution_count": 5,
   "metadata": {},
   "outputs": [
    {
     "data": {
      "text/plain": [
       "[6, 1, 6, 4, 6, 2, 2, 2, 3, 6]"
      ]
     },
     "execution_count": 5,
     "metadata": {},
     "output_type": "execute_result"
    }
   ],
   "source": [
    "# dice_simulator.py\n",
    "from random import randint\n",
    "SIDES = 6\n",
    "result = []\n",
    "def roll_dice(times):\n",
    "    \n",
    "    for i in range(times):\n",
    "        result.append(randint(1,SIDES))\n",
    "    return result\n",
    "\n",
    "roll_dice(10)\n",
    "print(result)"
   ]
  },
  {
   "cell_type": "markdown",
   "metadata": {},
   "source": [
    "From all the variables `randint`, `SIDES`, `roll_dice`,`times`, and `result`. Which are local variables and which are global?"
   ]
  },
  {
   "cell_type": "markdown",
   "metadata": {},
   "source": [
    "Global: `randint`, `SIDES`, `roll_dice`\n",
    "\n",
    "Local: `times`, `result`"
   ]
  },
  {
   "cell_type": "markdown",
   "metadata": {},
   "source": [
    "What happens when we move `result` outside the method to line 4?"
   ]
  },
  {
   "cell_type": "markdown",
   "metadata": {},
   "source": [
    "the `result` would become global and accessible for the whole program. It would also not be destroyed at the end of the roll_dice function, and would just append the roll results to the list if the function would be ran multiple times"
   ]
  },
  {
   "cell_type": "markdown",
   "metadata": {},
   "source": [
    "Write the code `print(result)` one line 12 and re-run the cell. Explain what is happening"
   ]
  },
  {
   "cell_type": "markdown",
   "metadata": {},
   "source": [
    "* the `result` variable is stored as a global list\n",
    "* then the script is registering `roll_dice` as a function\n",
    "* then it runs this function with `10` as a parameter.\n",
    "    * it then runs the for loop `10` times based on the parameter and appends a random number between 1 and 6 (as stored in the SIDES variable) to the `result` list\n",
    "* it then prints out the data stored in the `results` variable"
   ]
  },
  {
   "cell_type": "markdown",
   "metadata": {},
   "source": [
    "### Objective 3: locals() and globals()\n",
    "In the cell below call the function `locals()` and `globals()`. Explain what these functions return. *Hint: use help() to help your understanding*"
   ]
  },
  {
   "cell_type": "code",
   "execution_count": 6,
   "metadata": {},
   "outputs": [
    {
     "data": {
      "text/plain": [
       "{'__name__': '__main__',\n",
       " '__doc__': 'Automatically created module for IPython interactive environment',\n",
       " '__package__': None,\n",
       " '__loader__': None,\n",
       " '__spec__': None,\n",
       " '__builtin__': <module 'builtins' (built-in)>,\n",
       " '__builtins__': <module 'builtins' (built-in)>,\n",
       " '_ih': ['',\n",
       "  '# dice_simulator.py\\nfrom random import randint\\nSIDES = 6\\n\\ndef roll_dice(times):\\n    result = []\\n    for i in range(times):\\n        result.append(randint(1,SIDES))\\n    return result\\n\\nroll_dice(10) ',\n",
       "  '# dice_simulator.py\\nfrom random import randint\\nSIDES = 6\\nresult = []\\ndef roll_dice(times):\\n    \\n    for i in range(times):\\n        result.append(randint(1,SIDES))\\n    return result\\n\\nroll_dice(10)\\nprint(result)',\n",
       "  '# dice_simulator.py\\nfrom random import randint\\nSIDES = 6\\nresult = []\\ndef roll_dice(times):\\n    \\n    for i in range(times):\\n        result.append(randint(1,SIDES))\\n    return result\\n\\nroll_dice(10)\\nprint(result)',\n",
       "  '# dice_simulator.py\\nfrom random import randint\\nSIDES = 6\\nresult = []\\ndef roll_dice(times):\\n    \\n    for i in range(times):\\n        result.append(randint(1,SIDES))\\n    return result\\n\\nroll_dice(10)\\n# print(result)',\n",
       "  '# dice_simulator.py\\nfrom random import randint\\nSIDES = 6\\nresult = []\\ndef roll_dice(times):\\n    \\n    for i in range(times):\\n        result.append(randint(1,SIDES))\\n    return result\\n\\nroll_dice(10)\\n# print(result)*',\n",
       "  'locals()\\nglobals()'],\n",
       " '_oh': {1: [4, 2, 6, 6, 2, 1, 6, 1, 4, 2],\n",
       "  4: [3, 1, 2, 6, 6, 2, 4, 5, 5, 1],\n",
       "  5: [6, 1, 6, 4, 6, 2, 2, 2, 3, 6]},\n",
       " '_dh': ['c:\\\\Users\\\\mariu\\\\Noroff\\\\PythonOnlineCourse\\\\Assignments\\\\Assignment 1.4'],\n",
       " 'In': ['',\n",
       "  '# dice_simulator.py\\nfrom random import randint\\nSIDES = 6\\n\\ndef roll_dice(times):\\n    result = []\\n    for i in range(times):\\n        result.append(randint(1,SIDES))\\n    return result\\n\\nroll_dice(10) ',\n",
       "  '# dice_simulator.py\\nfrom random import randint\\nSIDES = 6\\nresult = []\\ndef roll_dice(times):\\n    \\n    for i in range(times):\\n        result.append(randint(1,SIDES))\\n    return result\\n\\nroll_dice(10)\\nprint(result)',\n",
       "  '# dice_simulator.py\\nfrom random import randint\\nSIDES = 6\\nresult = []\\ndef roll_dice(times):\\n    \\n    for i in range(times):\\n        result.append(randint(1,SIDES))\\n    return result\\n\\nroll_dice(10)\\nprint(result)',\n",
       "  '# dice_simulator.py\\nfrom random import randint\\nSIDES = 6\\nresult = []\\ndef roll_dice(times):\\n    \\n    for i in range(times):\\n        result.append(randint(1,SIDES))\\n    return result\\n\\nroll_dice(10)\\n# print(result)',\n",
       "  '# dice_simulator.py\\nfrom random import randint\\nSIDES = 6\\nresult = []\\ndef roll_dice(times):\\n    \\n    for i in range(times):\\n        result.append(randint(1,SIDES))\\n    return result\\n\\nroll_dice(10)\\n# print(result)*',\n",
       "  'locals()\\nglobals()'],\n",
       " 'Out': {1: [4, 2, 6, 6, 2, 1, 6, 1, 4, 2],\n",
       "  4: [3, 1, 2, 6, 6, 2, 4, 5, 5, 1],\n",
       "  5: [6, 1, 6, 4, 6, 2, 2, 2, 3, 6]},\n",
       " 'get_ipython': <bound method InteractiveShell.get_ipython of <ipykernel.zmqshell.ZMQInteractiveShell object at 0x000001DDB465B790>>,\n",
       " 'exit': <IPython.core.autocall.ZMQExitAutocall at 0x1ddb4729370>,\n",
       " 'quit': <IPython.core.autocall.ZMQExitAutocall at 0x1ddb4729370>,\n",
       " '_': [6, 1, 6, 4, 6, 2, 2, 2, 3, 6],\n",
       " '__': [3, 1, 2, 6, 6, 2, 4, 5, 5, 1],\n",
       " '___': [4, 2, 6, 6, 2, 1, 6, 1, 4, 2],\n",
       " 'site': <module 'site' from 'C:\\\\ProgramData\\\\Anaconda3\\\\lib\\\\site.py'>,\n",
       " 'os': <module 'os' from 'C:\\\\ProgramData\\\\Anaconda3\\\\lib\\\\os.py'>,\n",
       " 'sys': <module 'sys' (built-in)>,\n",
       " '__vsc_ipynb_file__': 'c:\\\\Users\\\\mariu\\\\Noroff\\\\PythonOnlineCourse\\\\Assignments\\\\Assignment 1.4\\\\Assignment 1.4.3_Methods_2.ipynb',\n",
       " '_i': '# dice_simulator.py\\nfrom random import randint\\nSIDES = 6\\nresult = []\\ndef roll_dice(times):\\n    \\n    for i in range(times):\\n        result.append(randint(1,SIDES))\\n    return result\\n\\nroll_dice(10)\\n# print(result)*',\n",
       " '_ii': '# dice_simulator.py\\nfrom random import randint\\nSIDES = 6\\nresult = []\\ndef roll_dice(times):\\n    \\n    for i in range(times):\\n        result.append(randint(1,SIDES))\\n    return result\\n\\nroll_dice(10)\\n# print(result)',\n",
       " '_iii': '# dice_simulator.py\\nfrom random import randint\\nSIDES = 6\\nresult = []\\ndef roll_dice(times):\\n    \\n    for i in range(times):\\n        result.append(randint(1,SIDES))\\n    return result\\n\\nroll_dice(10)\\nprint(result)',\n",
       " '_i1': '# dice_simulator.py\\nfrom random import randint\\nSIDES = 6\\n\\ndef roll_dice(times):\\n    result = []\\n    for i in range(times):\\n        result.append(randint(1,SIDES))\\n    return result\\n\\nroll_dice(10) ',\n",
       " 'randint': <bound method Random.randint of <random.Random object at 0x000001DDB02254A0>>,\n",
       " 'SIDES': 6,\n",
       " 'roll_dice': <function __main__.roll_dice(times)>,\n",
       " '_1': [4, 2, 6, 6, 2, 1, 6, 1, 4, 2],\n",
       " '_i2': '# dice_simulator.py\\nfrom random import randint\\nSIDES = 6\\nresult = []\\ndef roll_dice(times):\\n    \\n    for i in range(times):\\n        result.append(randint(1,SIDES))\\n    return result\\n\\nroll_dice(10)\\nprint(result)',\n",
       " 'result': [6, 1, 6, 4, 6, 2, 2, 2, 3, 6],\n",
       " '_i3': '# dice_simulator.py\\nfrom random import randint\\nSIDES = 6\\nresult = []\\ndef roll_dice(times):\\n    \\n    for i in range(times):\\n        result.append(randint(1,SIDES))\\n    return result\\n\\nroll_dice(10)\\nprint(result)',\n",
       " '_i4': '# dice_simulator.py\\nfrom random import randint\\nSIDES = 6\\nresult = []\\ndef roll_dice(times):\\n    \\n    for i in range(times):\\n        result.append(randint(1,SIDES))\\n    return result\\n\\nroll_dice(10)\\n# print(result)',\n",
       " '_4': [3, 1, 2, 6, 6, 2, 4, 5, 5, 1],\n",
       " '_i5': '# dice_simulator.py\\nfrom random import randint\\nSIDES = 6\\nresult = []\\ndef roll_dice(times):\\n    \\n    for i in range(times):\\n        result.append(randint(1,SIDES))\\n    return result\\n\\nroll_dice(10)\\n# print(result)*',\n",
       " '_5': [6, 1, 6, 4, 6, 2, 2, 2, 3, 6],\n",
       " '_i6': 'locals()\\nglobals()'}"
      ]
     },
     "execution_count": 6,
     "metadata": {},
     "output_type": "execute_result"
    }
   ],
   "source": [
    "locals()\n",
    "globals()"
   ]
  },
  {
   "cell_type": "markdown",
   "metadata": {},
   "source": [
    "these functions echoes out what is stored in the local and global namespaces respectively."
   ]
  },
  {
   "cell_type": "markdown",
   "metadata": {},
   "source": [
    "### Objective 4: Methods in practice\n",
    "Copy and modify the code from Objective 2 to do the following:\n",
    "* Let `results` instead be a global variable will continuously add dice roll results to the list.\n",
    "* Create a new function called `clear_rolls` that removes the items from `results`\n",
    "* Create a new function called `average` which calculates the average between all current dice rolls in `results`"
   ]
  },
  {
   "cell_type": "code",
   "execution_count": 13,
   "metadata": {},
   "outputs": [
    {
     "name": "stdout",
     "output_type": "stream",
     "text": [
      "4.2\n"
     ]
    }
   ],
   "source": [
    "# dice_simulator.py\n",
    "from random import randint\n",
    "SIDES = 6\n",
    "results = []\n",
    "\n",
    "def roll_dice(times):\n",
    "    for i in range(times):\n",
    "        results.append(randint(1,SIDES))\n",
    "\n",
    "def clear_rolls():\n",
    "    results.clear()\n",
    "\n",
    "def average():\n",
    "    avg = 0\n",
    "    for dice in results:\n",
    "        avg += dice\n",
    "    avg = avg / len(results)\n",
    "    return avg\n",
    "\n",
    "clear_rolls()\n",
    "roll_dice(3)\n",
    "roll_dice(2)\n",
    "print(average())"
   ]
  },
  {
   "cell_type": "code",
   "execution_count": 1,
   "metadata": {},
   "outputs": [
    {
     "data": {
      "text/plain": [
       "False"
      ]
     },
     "execution_count": 1,
     "metadata": {},
     "output_type": "execute_result"
    }
   ],
   "source": [
    "None in [\"1\",\"2\"]"
   ]
  },
  {
   "cell_type": "code",
   "execution_count": null,
   "metadata": {},
   "outputs": [],
   "source": []
  }
 ],
 "metadata": {
  "kernelspec": {
   "display_name": "Python 3 (ipykernel)",
   "language": "python",
   "name": "python3"
  },
  "language_info": {
   "codemirror_mode": {
    "name": "ipython",
    "version": 3
   },
   "file_extension": ".py",
   "mimetype": "text/x-python",
   "name": "python",
   "nbconvert_exporter": "python",
   "pygments_lexer": "ipython3",
   "version": "3.9.7"
  }
 },
 "nbformat": 4,
 "nbformat_minor": 4
}
