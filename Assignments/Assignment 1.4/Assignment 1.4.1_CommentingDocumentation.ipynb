{
 "cells": [
  {
   "cell_type": "markdown",
   "metadata": {},
   "source": [
    "# Commenting and Documentation\n",
    "# \\#Leave your comments\n",
    "In this lesson we will be working on the readability of our code"
   ]
  },
  {
   "cell_type": "markdown",
   "metadata": {},
   "source": [
    "### Objective 1: Refreshing\n",
    "Demonstrate your understanding of how to use comments. Write a small program that includes a for loop and properly comment what your program does. Be creative.\\\n",
    "Your comments must include an example of the code will be doing and an example of a justification."
   ]
  },
  {
   "cell_type": "code",
   "execution_count": 6,
   "metadata": {},
   "outputs": [
    {
     "name": "stdout",
     "output_type": "stream",
     "text": [
      "Andy Weir - AW\n",
      "Neil Gaiman - NG\n",
      "Ernest Cline - EC\n",
      "J. R. R Tolkien - JRRT\n",
      "Douglas Adams - DA\n",
      "Terry Pratchett - TP\n",
      "Hunter S Thompson - HST\n"
     ]
    }
   ],
   "source": [
    "authorsOnMyShelf = [\"Andy Weir\", \"Neil Gaiman\", \"Ernest Cline\",\"J. R. R Tolkien\", \"Douglas Adams\", \"Terry Pratchett\",\"Hunter S Thompson\"] # List of different authors\n",
    "\n",
    "# This will go through each name, and then print them out alongside their initials.\n",
    "for author in authorsOnMyShelf:\n",
    "    names = author.split() # This line will take the name given and split it into forename and surname e.g. 'Stephen Hawking' would be split into a list of 'Stephen' and 'Hawking'\n",
    "    initials = \"\"\n",
    "    \n",
    "    # This loop will go through each name, and take the first letter of each name and add it to the string called initials e.g 'S' and 'H'\n",
    "    for name in names:\n",
    "        initials += name[0]\n",
    "    print(f\"{author} - {initials}\") # This line prints out the authors name and adds the initials of said author e.g \"Stephen Hawking - SH\"\n"
   ]
  },
  {
   "cell_type": "markdown",
   "metadata": {},
   "source": [
    "### Objective 2: Tagging\n",
    "Look up the use of tagging in coding comments. Give 3 examples of tags and how they would be used."
   ]
  },
  {
   "cell_type": "markdown",
   "metadata": {},
   "source": [
    "3 Tags that can be used is\n",
    "\n",
    "`# TODO`\n",
    "This is a tag to remind the coders about features that need to be implemented\n",
    "\n",
    "`# BUG`\n",
    "This tag signifies that there's an identified bug that needs to be rectified\n",
    "\n",
    "`# FIXME`\n",
    "This tag signifies that the code could be adjusted for better readability or refactoring"
   ]
  },
  {
   "cell_type": "markdown",
   "metadata": {},
   "source": [
    "### Objective 3: Refreshing\n",
    "Demonstrate your understanding of how to use comments. Write a small program that includes a for loop and properly comment what your program does. Be creative.\\\n",
    "Your comments must include an example of the code will be doing and an example of a justification."
   ]
  },
  {
   "cell_type": "code",
   "execution_count": 5,
   "metadata": {},
   "outputs": [
    {
     "ename": "NameError",
     "evalue": "name 'y' is not defined",
     "output_type": "error",
     "traceback": [
      "\u001b[1;31m---------------------------------------------------------------------------\u001b[0m",
      "\u001b[1;31mNameError\u001b[0m                                 Traceback (most recent call last)",
      "\u001b[1;32m~\\AppData\\Local\\Temp/ipykernel_482284/1821145302.py\u001b[0m in \u001b[0;36m<module>\u001b[1;34m\u001b[0m\n\u001b[0;32m      5\u001b[0m     \u001b[1;32mpass\u001b[0m\u001b[1;33m\u001b[0m\u001b[1;33m\u001b[0m\u001b[0m\n\u001b[0;32m      6\u001b[0m \u001b[1;33m\u001b[0m\u001b[0m\n\u001b[1;32m----> 7\u001b[1;33m \u001b[0mprint\u001b[0m\u001b[1;33m(\u001b[0m\u001b[0my\u001b[0m\u001b[1;33m)\u001b[0m \u001b[1;31m# BUG y is not accessible\u001b[0m\u001b[1;33m\u001b[0m\u001b[1;33m\u001b[0m\u001b[0m\n\u001b[0m",
      "\u001b[1;31mNameError\u001b[0m: name 'y' is not defined"
     ]
    }
   ],
   "source": [
    "x = [\"cheese\", \"Jam\", \"Banana\"] # FIXME Need better naming on the variable\n",
    "\n",
    "for y in x: \n",
    "    # TODO Need to add some things to actually do here\n",
    "    pass\n",
    "\n",
    "print(y) # BUG y is not accessible"
   ]
  },
  {
   "cell_type": "markdown",
   "metadata": {},
   "source": [
    "### Objective 4: Naming convention\n",
    "Explain what a naming convention is. How is it used? And why is it important to adopt one?"
   ]
  },
  {
   "cell_type": "markdown",
   "metadata": {},
   "source": [
    "A naming convention is a way of naming your variables based on some set of rules for easier code readability."
   ]
  },
  {
   "cell_type": "markdown",
   "metadata": {},
   "source": [
    "### Objective 5: Code review\n",
    "A code review is the the action of reading someone else's code and giving feedback on the style and naming convention applied. Review the code below and give feedback on how it can be improved. You must name at least 3 flaws."
   ]
  },
  {
   "cell_type": "code",
   "execution_count": 8,
   "metadata": {},
   "outputs": [
    {
     "name": "stdout",
     "output_type": "stream",
     "text": [
      "[2, 7, 22, 27, 28, 40]\n"
     ]
    }
   ],
   "source": [
    "# Lottery.py\n",
    "from random import randint as r # no need to name the import as r as it is less intuitive than randint\n",
    "mynum = [] # mynum is not really describing much about what it is used for, and since it is going to be filled with the NUMBER variables it should be named numbers\n",
    "for i in range(6): \n",
    "    NUMBER = r(1,51) # code would look prettier with number in lowercase to keep with the naming convention\n",
    "    while (NUMBER in mynum):\n",
    "        NUMBER = r(1,51)\n",
    "    mynum.append(NUMBER)\n",
    "print(sorted(mynum))"
   ]
  },
  {
   "cell_type": "markdown",
   "metadata": {},
   "source": []
  },
  {
   "cell_type": "markdown",
   "metadata": {},
   "source": [
    "### Objective 6: Creating your own\n",
    "Suppose you were to create a naming convention for a company. Which naming styles would you choose for the code? Give some reasoning behind your choice.\n",
    "Then apply your new naming convention by rewriting *lottery.py* from the example above."
   ]
  },
  {
   "cell_type": "markdown",
   "metadata": {},
   "source": [
    "Personally i would choose to go for the mixed case naming convention as it gives the posibility of multiword identifiers if needed."
   ]
  },
  {
   "cell_type": "code",
   "execution_count": 10,
   "metadata": {},
   "outputs": [
    {
     "name": "stdout",
     "output_type": "stream",
     "text": [
      "[13, 25, 28, 30, 50, 51]\n"
     ]
    }
   ],
   "source": [
    "# Lottery.py\n",
    "from random import randint\n",
    "numbers = [] # mynum is not really describing much about what it is used for, and since it is going to be filled with the NUMBER variables it should be named numbers\n",
    "for i in range(6): \n",
    "    number = randint(1,51) # code would look prettier with number in lowercase to keep with the naming convention\n",
    "    while (number in numbers):\n",
    "        number = r(1,51)\n",
    "    numbers.append(number)\n",
    "print(sorted(numbers))"
   ]
  }
 ],
 "metadata": {
  "kernelspec": {
   "display_name": "Python 3 (ipykernel)",
   "language": "python",
   "name": "python3"
  },
  "language_info": {
   "codemirror_mode": {
    "name": "ipython",
    "version": 3
   },
   "file_extension": ".py",
   "mimetype": "text/x-python",
   "name": "python",
   "nbconvert_exporter": "python",
   "pygments_lexer": "ipython3",
   "version": "3.9.7"
  }
 },
 "nbformat": 4,
 "nbformat_minor": 4
}
