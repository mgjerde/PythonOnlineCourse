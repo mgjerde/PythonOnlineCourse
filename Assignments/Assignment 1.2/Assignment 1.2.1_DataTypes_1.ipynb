{
 "cells": [
  {
   "cell_type": "markdown",
   "metadata": {},
   "source": [
    "# Data Types I\n",
    "## Numeric vs non-numeric data types\n",
    "In this lesson we will be diving into all the data type in Python and how they are used."
   ]
  },
  {
   "cell_type": "markdown",
   "metadata": {},
   "source": [
    "### Objective 1: Numerics\n",
    "Assign an example for each of the following variables in code:\n",
    "* `a` : Basic Interger\n",
    "* `b` : Binary Interger\n",
    "* `c` : Octal Interger\n",
    "* `d` : Hexidecimal Interger\n",
    "* `e` : Basic float\n",
    "* `f` : Scientific notation float"
   ]
  },
  {
   "cell_type": "code",
   "execution_count": 2,
   "metadata": {},
   "outputs": [],
   "source": [
    "a = 6047\n",
    "b = 0b1011110011111\n",
    "c = 0o13637\n",
    "d = 0x179f\n",
    "e = 6047.0\n",
    "f = 6047000e-3"
   ]
  },
  {
   "cell_type": "markdown",
   "metadata": {},
   "source": [
    "### Objective 2: Booleans\n",
    "Assign the value `True` to `x` and `False` to `y`. Then print the results for the following logical operations:\n",
    "* `x and y`\n",
    "* `x or y`\n",
    "* `not x`\n",
    "* `not y`"
   ]
  },
  {
   "cell_type": "code",
   "execution_count": 1,
   "metadata": {},
   "outputs": [
    {
     "name": "stdout",
     "output_type": "stream",
     "text": [
      "False\n",
      "True\n",
      "False\n",
      "True\n"
     ]
    }
   ],
   "source": [
    "x = True\n",
    "y = False\n",
    "print(x and y)\n",
    "print (x or y)\n",
    "print(not x)\n",
    "print(not y)"
   ]
  },
  {
   "cell_type": "markdown",
   "metadata": {},
   "source": [
    "### Objective 3: Strings\n",
    "Show three different ways to store the string value `Hello, Norway!` in the variables `s1`, `s2`, and `s3`."
   ]
  },
  {
   "cell_type": "code",
   "execution_count": 3,
   "metadata": {},
   "outputs": [],
   "source": [
    "s1 = 'Hello, Norway!'\n",
    "s2 = \"Hello, Norway!\"\n",
    "s3 = '''Hello, Norway!'''"
   ]
  },
  {
   "cell_type": "markdown",
   "metadata": {},
   "source": [
    "### Objective 4: Escaping characters\n",
    "Reassign the value of `s1` to store `G'day, Norway!`. \\\n",
    "Reassign the value of `s2` to store `Hello       Norway!`. \\\n",
    "Reassign the valye of `s3` to store `Hello\n",
    "Norway!` \\\n",
    "You may use any method of string definition you wish. Print all three variables to prove you successfully reassigned them."
   ]
  },
  {
   "cell_type": "code",
   "execution_count": 4,
   "metadata": {},
   "outputs": [],
   "source": [
    "s1 = 'G\\'day, Norway!'\n",
    "s2 = \"Hello\\tNorway!\"\n",
    "s3 = \"Hello\\nNorway!\""
   ]
  },
  {
   "cell_type": "markdown",
   "metadata": {},
   "source": [
    "### Objective 5: Nothing\n",
    "Assign the `None` type to the variable `n`. Explain how is the `None` data type useful to us?"
   ]
  },
  {
   "cell_type": "code",
   "execution_count": null,
   "metadata": {},
   "outputs": [],
   "source": [
    "n = None"
   ]
  },
  {
   "cell_type": "markdown",
   "metadata": {},
   "source": [
    "n can then be used in a expression to check if the variable is set, i.e: `if n: do something`"
   ]
  },
  {
   "cell_type": "markdown",
   "metadata": {},
   "source": [
    "### Objective 6: Bringing it all together\n",
    "Write a small program that outputs information about your favourite hobby. Within your program store the number of years you've been involved with your hobby in a variable `years`, the name of your hobby `name`, and short description under `info`. Additionally create two more variables that holds interesting facts about your hobby. Complete your program by printing all five variables as output."
   ]
  },
  {
   "cell_type": "code",
   "execution_count": 1,
   "metadata": {},
   "outputs": [
    {
     "name": "stdout",
     "output_type": "stream",
     "text": [
      "25 football 22 people fighting for a single round ball the ball is normally mostly white and sometimes there's some black\n"
     ]
    }
   ],
   "source": [
    "years = 25\n",
    "name = \"football\"\n",
    "info = \"22 people fighting for a single round ball\"\n",
    "fact1 = \"the ball is normally mostly white\"\n",
    "fact2 = \"and sometimes there's some black\"\n",
    "\n",
    "print(years,name,info,fact1,fact2)"
   ]
  }
 ],
 "metadata": {
  "kernelspec": {
   "display_name": "Python 3 (ipykernel)",
   "language": "python",
   "name": "python3"
  },
  "language_info": {
   "codemirror_mode": {
    "name": "ipython",
    "version": 3
   },
   "file_extension": ".py",
   "mimetype": "text/x-python",
   "name": "python",
   "nbconvert_exporter": "python",
   "pygments_lexer": "ipython3",
   "version": "3.9.7"
  }
 },
 "nbformat": 4,
 "nbformat_minor": 4
}
