{
 "cells": [
  {
   "cell_type": "markdown",
   "metadata": {},
   "source": [
    "# Week 02, Assignment 04: Data Types I\n",
    "## Numeric vs non-numeric data types\n",
    "In this lesson we will be diving into all the data type in Python and how they are used."
   ]
  },
  {
   "cell_type": "markdown",
   "metadata": {},
   "source": [
    "### Objective 1: Data\n",
    "What is data? Explain how data is classified in Python."
   ]
  },
  {
   "cell_type": "markdown",
   "metadata": {},
   "source": []
  },
  {
   "cell_type": "markdown",
   "metadata": {},
   "source": [
    "### Objective 2: Numerics\n",
    "Assign an example for each of the following variables in code:\n",
    "* `a` : Basic Interger\n",
    "* `b` : Binary Interger\n",
    "* `c` : Octal Interger\n",
    "* `d` : Hexidecimal Interger\n",
    "* `e` : Basic float\n",
    "* `f` : Scientific notation float"
   ]
  },
  {
   "cell_type": "code",
   "execution_count": null,
   "metadata": {},
   "outputs": [],
   "source": []
  },
  {
   "cell_type": "markdown",
   "metadata": {},
   "source": [
    "### Objective 3: Booleans\n",
    "Assign the value `True` to `x` and `False` to `y`. Then print the results for the following logical operations:\n",
    "* `x and y`\n",
    "* `x or y`\n",
    "* `not x`\n",
    "* `not y`"
   ]
  },
  {
   "cell_type": "code",
   "execution_count": null,
   "metadata": {},
   "outputs": [],
   "source": []
  },
  {
   "cell_type": "markdown",
   "metadata": {},
   "source": [
    "### Objective 4: Strings\n",
    "Show three different ways to store the string value `Hello, Norway!` in the variables `s1`, `s2`, and `s3`."
   ]
  },
  {
   "cell_type": "code",
   "execution_count": null,
   "metadata": {},
   "outputs": [],
   "source": []
  },
  {
   "cell_type": "markdown",
   "metadata": {},
   "source": [
    "### Objective 5: Escaping characters\n",
    "Reassign the value of `s1` to store `G'day, Norway!`. \\\n",
    "Reassign the value of `s2` to store `Hello       Norway!`. \\\n",
    "Reassign the valye of `s3` to store `Hello\n",
    "Norway!` \\\n",
    "You may use any method of string definition you wish. Print all three variables to prove you successfully reassigned them."
   ]
  },
  {
   "cell_type": "code",
   "execution_count": null,
   "metadata": {},
   "outputs": [],
   "source": []
  },
  {
   "cell_type": "markdown",
   "metadata": {},
   "source": [
    "### Objective 6: Nothing\n",
    "Assign the `None` type to the variable `n`. Explain how is the `None` data type useful to us?"
   ]
  },
  {
   "cell_type": "code",
   "execution_count": null,
   "metadata": {},
   "outputs": [],
   "source": []
  },
  {
   "cell_type": "markdown",
   "metadata": {},
   "source": []
  },
  {
   "cell_type": "markdown",
   "metadata": {},
   "source": [
    "### Objective 7: Bringing it all together\n",
    "Write a small program that outputs information about your favourite hobby. Within your program store the number of years you've been involved with your hobby in a variable `years`, the name of your hobby `name`, and short description under `info`. Additionally create two more variables that holds interesting facts about your hobby. Complete your program by printing all five variables as output."
   ]
  },
  {
   "cell_type": "code",
   "execution_count": null,
   "metadata": {},
   "outputs": [],
   "source": []
  }
 ],
 "metadata": {
  "kernelspec": {
   "display_name": "Python 3",
   "language": "python",
   "name": "python3"
  },
  "language_info": {
   "codemirror_mode": {
    "name": "ipython",
    "version": 3
   },
   "file_extension": ".py",
   "mimetype": "text/x-python",
   "name": "python",
   "nbconvert_exporter": "python",
   "pygments_lexer": "ipython3",
   "version": "3.8.5"
  }
 },
 "nbformat": 4,
 "nbformat_minor": 4
}
