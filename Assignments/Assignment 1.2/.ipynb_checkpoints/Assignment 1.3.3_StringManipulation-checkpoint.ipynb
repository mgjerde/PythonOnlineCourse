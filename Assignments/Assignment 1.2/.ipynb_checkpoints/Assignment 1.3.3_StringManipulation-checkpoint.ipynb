{
 "cells": [
  {
   "cell_type": "markdown",
   "metadata": {},
   "source": [
    "# Week 03, Assignment 01: String Manipulation\n",
    "## Slicing and changing Strings\n",
    "In this lesson we will be practicing the techniques used to manipulate String data."
   ]
  },
  {
   "cell_type": "markdown",
   "metadata": {},
   "source": [
    "### Objective 1: Editing a string\n",
    "Run the code below. Explain what is happening in the cell below it."
   ]
  },
  {
   "cell_type": "code",
   "execution_count": null,
   "metadata": {},
   "outputs": [],
   "source": [
    "norway = \"Norway\"\n",
    "norway[0] = \"M\"\n",
    "print(norway)"
   ]
  },
  {
   "cell_type": "markdown",
   "metadata": {},
   "source": []
  },
  {
   "cell_type": "markdown",
   "metadata": {},
   "source": [
    "### Objective 2: Slice & Dice\n",
    "Using the variable `company_information`, slice the variable to get the following strings in their corresponding variable names below:\n",
    "* `country = \"Norway\"`\n",
    "* `year = 1966`\n",
    "* `company_type = PTY LTD`"
   ]
  },
  {
   "cell_type": "code",
   "execution_count": 2,
   "metadata": {},
   "outputs": [],
   "source": [
    "company_information = '''The Norway Package Delivery Corperation, PTY LTD.\n",
    "(Established 1966).'''"
   ]
  },
  {
   "cell_type": "code",
   "execution_count": null,
   "metadata": {},
   "outputs": [],
   "source": []
  },
  {
   "cell_type": "markdown",
   "metadata": {},
   "source": [
    "### Objective 3: Think deeply\n",
    "Explain what the term \"deep copy\" means. Create a deep copy of the variable `country` as used above."
   ]
  },
  {
   "cell_type": "markdown",
   "metadata": {},
   "source": []
  },
  {
   "cell_type": "code",
   "execution_count": null,
   "metadata": {},
   "outputs": [],
   "source": []
  },
  {
   "cell_type": "markdown",
   "metadata": {},
   "source": [
    "### Objective 4: Escaping out\n",
    "Create a string variable with the following value stored within: \\\n",
    "`This doesn't seem too \"difficult\" to accomplish.\n",
    "However, there are some...    hidden pitfalls \\o/ to beware of!` \\\n",
    "Your string must demonstrate the use of the escape character to display quotations marks, insert a newline character, insert a tabspace, and escape a blackslash.\n",
    "Print your variable."
   ]
  },
  {
   "cell_type": "code",
   "execution_count": null,
   "metadata": {},
   "outputs": [],
   "source": []
  },
  {
   "cell_type": "markdown",
   "metadata": {},
   "source": [
    "### Objective 5: Splitting hairs\n",
    "Split the string stored in `animal_raw` into `animals` and then print the list item containing `lion`."
   ]
  },
  {
   "cell_type": "code",
   "execution_count": 3,
   "metadata": {},
   "outputs": [],
   "source": [
    "animal_raw = \"zebra;giraffe;lion;hippo;penguin\""
   ]
  },
  {
   "cell_type": "markdown",
   "metadata": {},
   "source": [
    "### Objective 6: Joining it up\n",
    "Join the list in `animals` into a single string using a newline character as a delimiter. Print this new string."
   ]
  },
  {
   "cell_type": "code",
   "execution_count": null,
   "metadata": {},
   "outputs": [],
   "source": []
  },
  {
   "cell_type": "markdown",
   "metadata": {},
   "source": [
    "### Objective 7: Operator... Operator...\n",
    "Create a string called `star_line` that stores the as the following value `**********`, you must demonstrate the use of the *Repeat* string operator. \\\n",
    "Create a string called `filename`, that concatinates the strings `norway` and `.jpg`."
   ]
  },
  {
   "cell_type": "code",
   "execution_count": null,
   "metadata": {},
   "outputs": [],
   "source": []
  },
  {
   "cell_type": "markdown",
   "metadata": {},
   "source": [
    "### Objective 8: Methods\n",
    "Carefully read the table in the *String Methods* section. Create a variable called `example` and demonstrate the use of each string method listed in the table."
   ]
  },
  {
   "cell_type": "code",
   "execution_count": null,
   "metadata": {},
   "outputs": [],
   "source": []
  }
 ],
 "metadata": {
  "kernelspec": {
   "display_name": "Python 3",
   "language": "python",
   "name": "python3"
  },
  "language_info": {
   "codemirror_mode": {
    "name": "ipython",
    "version": 3
   },
   "file_extension": ".py",
   "mimetype": "text/x-python",
   "name": "python",
   "nbconvert_exporter": "python",
   "pygments_lexer": "ipython3",
   "version": "3.8.5"
  }
 },
 "nbformat": 4,
 "nbformat_minor": 4
}
