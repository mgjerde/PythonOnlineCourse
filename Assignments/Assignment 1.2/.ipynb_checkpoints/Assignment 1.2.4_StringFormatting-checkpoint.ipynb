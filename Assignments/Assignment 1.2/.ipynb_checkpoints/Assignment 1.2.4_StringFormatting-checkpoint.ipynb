{
 "cells": [
  {
   "cell_type": "markdown",
   "metadata": {},
   "source": [
    "# String Formatting\n",
    "## Advanced String manipulation \n",
    "In this lesson we will continue practicing String manipulation using formatting."
   ]
  },
  {
   "cell_type": "markdown",
   "metadata": {},
   "source": [
    "### Objective 1: Know the styles\n",
    "Write a string for each of the three styles of string formatting. Each string must display the value stored in `year` and `name` below."
   ]
  },
  {
   "cell_type": "code",
   "execution_count": 2,
   "metadata": {},
   "outputs": [],
   "source": [
    "year = 1995\n",
    "name = \"Bobby Blue\""
   ]
  },
  {
   "cell_type": "markdown",
   "metadata": {},
   "source": [
    "### Objective 2: Injecting data\n",
    "At this point you are free to choose whichever style you wish use for string formatting. We recommend f-string style if you are using Python 3.8 and above. \\\n",
    "Write a formatted string that does the following with the data below:\n",
    "* Displays `percentage` at 2 decimal places.\n",
    "* Truncates `country` to the only the first 3 letters.\n",
    "* Displays `population` as a whole decimal number.\n",
    "* The format of the string must be `country : population ( percentage )`."
   ]
  },
  {
   "cell_type": "code",
   "execution_count": 3,
   "metadata": {},
   "outputs": [],
   "source": [
    "country = \"Norway\"\n",
    "percentage = 10.2578962350\n",
    "population = 5368000"
   ]
  },
  {
   "cell_type": "markdown",
   "metadata": {},
   "source": [
    "### Objective 3: Reusing a format\n",
    "Demonstrate your formatting from objective 2 is reusable. Change the values of `country`, `percentage`, and `population` to any values you wish and print the resulting string."
   ]
  },
  {
   "cell_type": "code",
   "execution_count": null,
   "metadata": {},
   "outputs": [],
   "source": []
  },
  {
   "cell_type": "markdown",
   "metadata": {},
   "source": [
    "### Objective 4: Padding\n",
    "In the example above, change the padding of each element so that there is exactly 10 white leading white spaces before each data. Demonstrate this by copying your the cell above and adjusting your existing code."
   ]
  },
  {
   "cell_type": "code",
   "execution_count": null,
   "metadata": {},
   "outputs": [],
   "source": []
  }
 ],
 "metadata": {
  "kernelspec": {
   "display_name": "Python 3 (ipykernel)",
   "language": "python",
   "name": "python3"
  },
  "language_info": {
   "codemirror_mode": {
    "name": "ipython",
    "version": 3
   },
   "file_extension": ".py",
   "mimetype": "text/x-python",
   "name": "python",
   "nbconvert_exporter": "python",
   "pygments_lexer": "ipython3",
   "version": "3.9.7"
  }
 },
 "nbformat": 4,
 "nbformat_minor": 4
}
