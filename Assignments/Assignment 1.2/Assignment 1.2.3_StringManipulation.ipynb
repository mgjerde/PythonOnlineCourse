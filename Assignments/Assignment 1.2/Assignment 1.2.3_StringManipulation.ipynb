{
 "cells": [
  {
   "cell_type": "markdown",
   "metadata": {},
   "source": [
    "# String Manipulation\n",
    "## Slicing and changing Strings\n",
    "In this lesson we will be practicing the techniques used to manipulate String data."
   ]
  },
  {
   "cell_type": "markdown",
   "metadata": {},
   "source": [
    "### Objective 1: Editing a string\n",
    "Run the code below. Explain what is happening in the cell below it."
   ]
  },
  {
   "cell_type": "code",
   "execution_count": 1,
   "metadata": {},
   "outputs": [
    {
     "ename": "TypeError",
     "evalue": "'str' object does not support item assignment",
     "output_type": "error",
     "traceback": [
      "\u001b[1;31m---------------------------------------------------------------------------\u001b[0m",
      "\u001b[1;31mTypeError\u001b[0m                                 Traceback (most recent call last)",
      "\u001b[1;32m~\\AppData\\Local\\Temp/ipykernel_229616/2089724852.py\u001b[0m in \u001b[0;36m<module>\u001b[1;34m\u001b[0m\n\u001b[0;32m      1\u001b[0m \u001b[0mnorway\u001b[0m \u001b[1;33m=\u001b[0m \u001b[1;34m\"Norway\"\u001b[0m\u001b[1;33m\u001b[0m\u001b[1;33m\u001b[0m\u001b[0m\n\u001b[1;32m----> 2\u001b[1;33m \u001b[0mnorway\u001b[0m\u001b[1;33m[\u001b[0m\u001b[1;36m0\u001b[0m\u001b[1;33m]\u001b[0m \u001b[1;33m=\u001b[0m \u001b[1;34m\"M\"\u001b[0m\u001b[1;33m\u001b[0m\u001b[1;33m\u001b[0m\u001b[0m\n\u001b[0m\u001b[0;32m      3\u001b[0m \u001b[0mprint\u001b[0m\u001b[1;33m(\u001b[0m\u001b[0mnorway\u001b[0m\u001b[1;33m)\u001b[0m\u001b[1;33m\u001b[0m\u001b[1;33m\u001b[0m\u001b[0m\n",
      "\u001b[1;31mTypeError\u001b[0m: 'str' object does not support item assignment"
     ]
    }
   ],
   "source": [
    "norway = \"Norway\"\n",
    "norway[0] = \"M\"\n",
    "print(norway)"
   ]
  },
  {
   "cell_type": "markdown",
   "metadata": {},
   "source": [
    "~~first it assigns the variable `norway` with the string `\"Norway\"`, then it changes the first letter in the string to `M`, and then prints the new string out, getting `Morway`~~\n",
    "\n",
    "It tries to edit the string, but gets an error due to stings not supporting item assignment."
   ]
  },
  {
   "cell_type": "markdown",
   "metadata": {},
   "source": [
    "### Objective 2: Slice & Dice\n",
    "Using the variable `company_information`, slice the variable to get the following strings in their corresponding variable names below:\n",
    "* `country = \"Norway\"`\n",
    "* `year = 1966`\n",
    "* `company_type = PTY LTD`"
   ]
  },
  {
   "cell_type": "code",
   "execution_count": 3,
   "metadata": {},
   "outputs": [],
   "source": [
    "company_information = '''The Norway Package Delivery Corperation, PTY LTD.\n",
    "(Established 1966).'''"
   ]
  },
  {
   "cell_type": "code",
   "execution_count": 4,
   "metadata": {},
   "outputs": [
    {
     "name": "stdout",
     "output_type": "stream",
     "text": [
      "Norway 1966 PTY LTD\n"
     ]
    }
   ],
   "source": [
    "country = company_information[4:10]\n",
    "year = company_information[63:67]\n",
    "company_type = company_information[41:48]\n",
    "\n",
    "print(country, year, company_type)"
   ]
  },
  {
   "cell_type": "markdown",
   "metadata": {},
   "source": [
    "### Objective 3: Think deeply\n",
    "Explain what the term \"deep copy\" means. Create a deep copy of the variable `country` as used above."
   ]
  },
  {
   "cell_type": "markdown",
   "metadata": {},
   "source": [
    "a deep copy is a 1:1 copy of an item stored in a new memory address (as a new variable)"
   ]
  },
  {
   "cell_type": "code",
   "execution_count": 6,
   "metadata": {},
   "outputs": [],
   "source": [
    "deepcountry = country[:]"
   ]
  },
  {
   "cell_type": "markdown",
   "metadata": {},
   "source": [
    "### Objective 4: Escaping out\n",
    "Create a string variable with the following value stored within: \\\n",
    "`This doesn't seem too \"difficult\" to accomplish.\n",
    "However, there are some...    hidden pitfalls \\o/ to beware of!` \\\n",
    "Your string must demonstrate the use of the escape character to display quotations marks, insert a newline character, insert a tabspace, and escape a blackslash.\n",
    "Print your variable."
   ]
  },
  {
   "cell_type": "code",
   "execution_count": 12,
   "metadata": {},
   "outputs": [
    {
     "name": "stdout",
     "output_type": "stream",
     "text": [
      "This doesn't seem too \"difficult\" to accomplish.\n",
      "However, there are some...\thidden pitfalls \\o/ to beware of!\n"
     ]
    }
   ],
   "source": [
    "escapestring = \"This doesn't seem too \\\"difficult\\\" to accomplish.\\nHowever, there are some...\\thidden pitfalls \\\\o/ to beware of!\"\n",
    "print(escapestring)"
   ]
  },
  {
   "cell_type": "markdown",
   "metadata": {},
   "source": [
    "### Objective 5: Splitting hairs\n",
    "Split the string stored in `animal_raw` into `animals` and then print the list item containing `lion`."
   ]
  },
  {
   "cell_type": "code",
   "execution_count": 15,
   "metadata": {},
   "outputs": [
    {
     "name": "stdout",
     "output_type": "stream",
     "text": [
      "lion\n"
     ]
    }
   ],
   "source": [
    "animal_raw = \"zebra;giraffe;lion;hippo;penguin\"\n",
    "animals = animal_raw.split(\";\")\n",
    "print(animals[2])"
   ]
  },
  {
   "cell_type": "markdown",
   "metadata": {},
   "source": [
    "### Objective 6: Joining it up\n",
    "Join the list in `animals` into a single string using a newline character as a delimiter. Print this new string."
   ]
  },
  {
   "cell_type": "code",
   "execution_count": 16,
   "metadata": {},
   "outputs": [
    {
     "name": "stdout",
     "output_type": "stream",
     "text": [
      "zebra\n",
      "giraffe\n",
      "lion\n",
      "hippo\n",
      "penguin\n"
     ]
    }
   ],
   "source": [
    "joinedanimals = \"\\n\".join(animals)\n",
    "print(joinedanimals)"
   ]
  },
  {
   "cell_type": "markdown",
   "metadata": {},
   "source": [
    "### Objective 7: Operator... Operator...\n",
    "Create a string called `star_line` that stores the as the following value `**********`, you must demonstrate the use of the *Repeat* string operator. \\\n",
    "Create a string called `filename`, that concatinates the strings `norway` and `.jpg`."
   ]
  },
  {
   "cell_type": "code",
   "execution_count": 19,
   "metadata": {},
   "outputs": [],
   "source": [
    "star_line = \"*\" * 10\n",
    "filname = \"norway\" + \".jpg\"\n"
   ]
  },
  {
   "cell_type": "markdown",
   "metadata": {},
   "source": [
    "### Objective 8: Methods\n",
    "Carefully read the table in the *String Methods* section. Create a variable called `example` and demonstrate the use of each string method listed in the table."
   ]
  },
  {
   "cell_type": "code",
   "execution_count": 27,
   "metadata": {},
   "outputs": [
    {
     "name": "stdout",
     "output_type": "stream",
     "text": [
      "17\n",
      "MY STRING\n",
      "that is my string\n"
     ]
    }
   ],
   "source": [
    "example = \"THIS is my string\"\n",
    "print(len(example))\n",
    "print(example[example.find(\"my\"):].upper())\n",
    "print(example.replace(\"IS\",\"AT\").lower())"
   ]
  }
 ],
 "metadata": {
  "kernelspec": {
   "display_name": "Python 3 (ipykernel)",
   "language": "python",
   "name": "python3"
  },
  "language_info": {
   "codemirror_mode": {
    "name": "ipython",
    "version": 3
   },
   "file_extension": ".py",
   "mimetype": "text/x-python",
   "name": "python",
   "nbconvert_exporter": "python",
   "pygments_lexer": "ipython3",
   "version": "3.9.7"
  }
 },
 "nbformat": 4,
 "nbformat_minor": 4
}
