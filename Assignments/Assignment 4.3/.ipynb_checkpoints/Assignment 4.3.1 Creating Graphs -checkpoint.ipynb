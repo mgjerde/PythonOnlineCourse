{
 "cells": [
  {
   "cell_type": "markdown",
   "metadata": {},
   "source": [
    "# Assignment 4.3.1: Creating Graphs\n",
    "# In the deep with matplotlib\n",
    "In this lesson we will be learning how to create and customize simple graphs using `matplotlib`"
   ]
  },
  {
   "cell_type": "markdown",
   "metadata": {},
   "source": [
    "### Objective 1: A good plot to consider\n",
    "In the cell below: import `matplotlib.pyplot` as `plt` and enable inline plotting. Then ensure everything is working by creating a simple line chart using the data below as a benchmark test."
   ]
  },
  {
   "cell_type": "code",
   "execution_count": null,
   "metadata": {},
   "outputs": [],
   "source": [
    "# TODO: import matplotlib.pyplot and enable inline graphing"
   ]
  },
  {
   "cell_type": "code",
   "execution_count": null,
   "metadata": {},
   "outputs": [],
   "source": [
    "data = [104, 101, 108, 108, 111, 32, 119, 111, 114, 108, 100, 32, 97, 103, 97, 105, 110]\n",
    "\n",
    "# TODO create a simple line graph"
   ]
  },
  {
   "cell_type": "markdown",
   "metadata": {},
   "source": [
    "### Objective 2: A splash of color and style!\n",
    "Create a new figure object called `fig` with a single subplot called `ax1`. In this subplot recreate your line plot from Objective 1 using `data`, but tweak the plot to have the following characteristics:\n",
    "\n",
    "* Change the line style to be a dashed line\n",
    "* Change the color of the line to be Tableau Olive\n",
    "* Change the marker of each data point to be circle shaped\n"
   ]
  },
  {
   "cell_type": "code",
   "execution_count": null,
   "metadata": {},
   "outputs": [],
   "source": [
    "# TODO: create figure() object and add subplots, then modify output plot"
   ]
  },
  {
   "cell_type": "markdown",
   "metadata": {},
   "source": [
    "### Objective 3: Labelling matters\n",
    "Copy your code from objective 2 and add another line plot to `ax1` with the data from `second` variable below. Add the following labels to each plot: \n",
    "\n",
    "* `data` → \"Primary\"\n",
    "* `second` → \"Secondary\"\n",
    "\n",
    "Then add the following characteristics to the plot:\n",
    "\n",
    "* Ensure the secondary plot is a black, no line, and star shaped\n",
    "* Label the x axis as \"Position\" and label the y axis \"Character Code\"\n",
    "* Set the title of the sub plot as \"Letters in Sentences\"\n",
    "* Add a legend to the subplot in the upper right position\n"
   ]
  },
  {
   "cell_type": "code",
   "execution_count": null,
   "metadata": {},
   "outputs": [],
   "source": [
    "second = [110, 111, 114, 119, 97, 121, 32, 118, 101, 114, 121, 32, 99, 111, 108, 100, 33]"
   ]
  },
  {
   "cell_type": "code",
   "execution_count": null,
   "metadata": {},
   "outputs": [],
   "source": []
  },
  {
   "cell_type": "markdown",
   "metadata": {},
   "source": [
    "### Objective 4: Save it for later!\n",
    "Save `fig` to your workstation's harddisk as a file called `letters_in_sentence.png`. Include this file in the `.zip` when you submit this assignment for assessment."
   ]
  },
  {
   "cell_type": "code",
   "execution_count": null,
   "metadata": {},
   "outputs": [],
   "source": []
  }
 ],
 "metadata": {
  "kernelspec": {
   "display_name": "Python 3 (ipykernel)",
   "language": "python",
   "name": "python3"
  },
  "language_info": {
   "codemirror_mode": {
    "name": "ipython",
    "version": 3
   },
   "file_extension": ".py",
   "mimetype": "text/x-python",
   "name": "python",
   "nbconvert_exporter": "python",
   "pygments_lexer": "ipython3",
   "version": "3.9.7"
  }
 },
 "nbformat": 4,
 "nbformat_minor": 4
}
