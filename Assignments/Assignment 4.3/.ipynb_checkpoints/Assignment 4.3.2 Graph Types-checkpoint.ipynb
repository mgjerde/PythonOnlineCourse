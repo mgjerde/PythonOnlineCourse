{
 "cells": [
  {
   "cell_type": "markdown",
   "metadata": {},
   "source": [
    "# Assignment 4.3.2: Graph Types\n",
    "# Barcharts, scatters and histograms, oh my!\n",
    "In this lesson we will be learning how to create various graphs available in `matplotlib`"
   ]
  },
  {
   "cell_type": "markdown",
   "metadata": {},
   "source": [
    "### Objective 1: Get to grips with the data\n",
    "Execute the cell below and observe the output of the DataFrame object. We will be using this data for the rest of today's exercise."
   ]
  },
  {
   "cell_type": "code",
   "execution_count": null,
   "metadata": {},
   "outputs": [],
   "source": [
    "import pandas as pd\n",
    "\n",
    "data = {\n",
    " 'Name': ['Norrie Benitez', 'Johan Pittaway', 'Curry Worstall', \"Jammie O'Rourke\", 'Yorgos Farncombe', \n",
    "            'Dru Lesslie', 'Emma Aizikowitz', 'Christel Pavier', 'Lance Hampe', 'Natty Lowdwell'],\n",
    " 'Department': ['Outdoors', 'Industrial', 'Automotive', 'Electronics', 'Garden', 'Baby', 'Garden', 'Electronics', 'Shoes', 'Health'],\n",
    " 'Products Sold': [27, 32, 27, 41, 82, 59, 81, 34, 16, 93]\n",
    "}\n",
    "\n",
    "df = pd.DataFrame(data)\n",
    "df"
   ]
  },
  {
   "cell_type": "markdown",
   "metadata": {},
   "source": [
    "### Objective 2: Barred!\n",
    "Create a horizontal bar plot that outlines the number of products sold to each employee name.\n",
    "\n",
    "*hint: Remember to import matplotlib and enable in line graphing!*"
   ]
  },
  {
   "cell_type": "code",
   "execution_count": null,
   "metadata": {},
   "outputs": [],
   "source": []
  },
  {
   "cell_type": "markdown",
   "metadata": {},
   "source": [
    "### Objective 3: Barred by department\n",
    "Group the data by Department and then display the sum of all the products sold by department using a horizontal barplot. Color each department a different color value to differenitiate them better."
   ]
  },
  {
   "cell_type": "code",
   "execution_count": null,
   "metadata": {},
   "outputs": [],
   "source": []
  },
  {
   "cell_type": "markdown",
   "metadata": {},
   "source": [
    "### Objective 4: Dont be too dense!\n",
    "Create a new figure with two subplots side-by-side. In the first subplot show all the item sold in a histogram graph, and in the second subplot create a KDE graph to show an estimate of sales made."
   ]
  },
  {
   "cell_type": "code",
   "execution_count": null,
   "metadata": {},
   "outputs": [],
   "source": []
  },
  {
   "cell_type": "markdown",
   "metadata": {},
   "source": [
    "### Objective 5: Scattered perceptions\n",
    "Below is a new Series that defines the total income each employee generated over their items sold. Add this new column to the DataFrame called \"Profit\" and then create a scatter diagram where the x axis is the products sold and the y axle is the profits made."
   ]
  },
  {
   "cell_type": "code",
   "execution_count": null,
   "metadata": {},
   "outputs": [],
   "source": [
    "profit = pd.Series([1123,1425,1098,2134,4751,2981,5555,1741,587,9863])"
   ]
  },
  {
   "cell_type": "markdown",
   "metadata": {},
   "source": [
    "### Objective 6: Pie for your thoughts?\n",
    "Create a pie chart to show how much each department contibuted to the entire company's profit. Ensure the pie chart's labels are set accordingly\n",
    "\n",
    "*hint: you will need to use a grouping to achieve this*"
   ]
  },
  {
   "cell_type": "code",
   "execution_count": null,
   "metadata": {},
   "outputs": [],
   "source": []
  }
 ],
 "metadata": {
  "kernelspec": {
   "display_name": "Python 3 (ipykernel)",
   "language": "python",
   "name": "python3"
  },
  "language_info": {
   "codemirror_mode": {
    "name": "ipython",
    "version": 3
   },
   "file_extension": ".py",
   "mimetype": "text/x-python",
   "name": "python",
   "nbconvert_exporter": "python",
   "pygments_lexer": "ipython3",
   "version": "3.9.7"
  }
 },
 "nbformat": 4,
 "nbformat_minor": 4
}
